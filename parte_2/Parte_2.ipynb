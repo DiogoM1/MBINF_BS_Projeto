{
 "cells": [
  {
   "cell_type": "markdown",
   "metadata": {
    "pycharm": {
     "name": "#%% md\n"
    }
   },
   "source": [
    "# *Drug targeting* para *Yersinia pestis*"
   ]
  },
  {
   "cell_type": "markdown",
   "metadata": {
    "pycharm": {
     "name": "#%% md\n"
    }
   },
   "source": [
    "## b) Compute the specific growth rate under adequate conditions for your organism? What are the main products excreted under each of those circumstances?"
   ]
  },
  {
   "cell_type": "code",
   "execution_count": null,
   "metadata": {
    "pycharm": {
     "name": "#%%\n"
    }
   },
   "outputs": [],
   "source": [
    "from reframed import load_cbmodel\n",
    "from mewpy.simulation import get_simulator\n",
    "\n",
    "model = load_cbmodel(\"../models/iPC815.xml\")\n",
    "Yp_simul = get_simulator(model)\n",
    "\n",
    "result = Yp_simul.simulate(method='FBA')\n",
    "result\n",
    "\n",
    "# TODO: é mesmo os melhores\n",
    "Yp_metabolites =Yp_simul.metabolites[:10]"
   ]
  },
  {
   "cell_type": "markdown",
   "metadata": {},
   "source": [
    "## c) List all genes/reactions that can be potential drug targets"
   ]
  },
  {
   "cell_type": "code",
   "execution_count": 13,
   "metadata": {
    "pycharm": {
     "name": "#%%\n"
    }
   },
   "outputs": [
    {
     "name": "stdout",
     "output_type": "stream",
     "text": [
      "['R_DDPA', 'R_DHAD1', 'R_DHAD2', 'R_GF6PTA', 'R_GK1', 'R_GLCS1', 'R_GLGC', 'R_ACCOAC', 'R_3HAD100', 'R_3HAD121', 'R_3HAD141', 'R_3HAD161', 'R_3HAD181', 'R_3HAD40', 'R_ACHBS', 'R_3HAD60', 'R_ACLS', 'R_3HAD80', 'R_3OAR100', 'R_3OAR121', 'R_3OAR140', 'R_3OAR141', 'R_3OAR161', 'R_3OAR181', 'R_3OAR40', 'R_3OAR60', 'R_3OAR80', 'R_3OAS100', 'R_3OAS121', 'R_3OAS140', 'R_3OAS141', 'R_3OAS161', 'R_3OAS181', 'R_3OAS60', 'R_3OAS80', 'R_ACONTa', 'R_ACONTb', 'R_ACtex', 'R_ADCL', 'R_ADCS', 'R_ADMDC', 'R_ADSL1r', 'R_ADSL2r', 'R_ADSS', 'R_ANPRT', 'R_ANS', 'R_AGMHE', 'R_APRAUR', 'R_AGPAT140', 'R_AGPAT160', 'R_AGPAT161', 'R_AGPAT181', 'R_AICART', 'R_AIRC2', 'R_AIRC3', 'R_ARGSL', 'R_ARGSS', 'R_ASPCT', 'R_ASPTA', 'R_ATPPRT', 'R_CTPS2', 'R_CBPS', 'R_CHORS', 'R_CLPNS140pp', 'R_CLPNS160pp', 'R_CLPNS161pp', 'R_CLPNS181pp', 'R_DB4PS', 'R_DHFR', 'R_DHFS', 'R_DHNPA2r', 'R_DHORTS', 'R_DHPPDA2', 'R_DHPS2', 'R_DHQS', 'R_DNTPPA', 'R_DPCOAK', 'R_DTMPK', 'R_FMNAT', 'R_GLNS', 'R_GLUPRT', 'R_GMHEPAT', 'R_HCO3E', 'R_GMHEPK', 'R_GMHEPPA', 'R_GMPS2', 'R_HISTD', 'R_HISTP', 'R_GTPCI', 'R_GTPCII2', 'R_HPPK2', 'R_IMPC', 'R_IMPD', 'R_HSTPT', 'R_ICDHyr', 'R_IPMD', 'R_IPPMIa', 'R_IPPMIb', 'R_IPPS', 'R_IG3PS', 'R_IGPDH', 'R_KARA1', 'R_IGPS', 'R_KARA2', 'R_ILETA', 'R_G1PACT', 'R_KDOCT2', 'R_KDOPP', 'R_KDOPS', 'R_LEUTAi', 'R_G3PAT140', 'R_LPADSS', 'R_G3PAT160', 'R_G3PAT161', 'R_MALS', 'R_G3PAT181', 'R_MCOATA', 'R_G3PD2', 'R_METabcpp', 'R_METAT', 'R_MOAT', 'R_MOAT2', 'R_MTAN', 'R_METtex', 'R_MTHFR2', 'R_NADK', 'R_NNATr', 'R_NNDPR', 'R_NDPK2', 'R_NDPK4', 'R_OMPDC', 'R_ORNDC', 'R_ORPT', 'R_O2tex', 'R_O2tpp', 'R_OCBT', 'R_PE140abcpp', 'R_OMCDC', 'R_PE160abcpp', 'R_PE161abcpp', 'R_PE181abcpp', 'R_PNTK', 'R_PGAMT', 'R_PSD140', 'R_PGMT', 'R_PSD160', 'R_PSD161', 'R_PSD181', 'R_PPCDC', 'R_PPNCL2', 'R_PSSA140', 'R_PSSA160', 'R_PSSA161', 'R_PSSA181', 'R_PTPATi', 'R_PRAGSr', 'R_PRAIi', 'R_PRAIS', 'R_PRAMPC', 'R_PRASCSi', 'R_PRATPP', 'R_PRFGS', 'R_PRMICI', 'R_QULNS', 'R_RBFK', 'R_RBFSa', 'R_RBFSb', 'R_PRPPS', 'R_PSCVT', 'R_RPI', 'R_T2DECAI', 'R_TDSK', 'R_SHK3Dr', 'R_SHKK', 'R_SPMS', 'R_THRD_L', 'R_PGSA140', 'R_PGSA160', 'R_PGSA161', 'R_TMDS', 'R_PGSA181', 'R_U23GAAT', 'R_UAGAAT', 'R_UAGDP', 'R_PHEt2rpp', 'R_PHEtex', 'R_PMDPHT', 'R_UHGADA', 'R_UMPK', 'R_GALUi', 'R_DASYN140', 'R_DASYN161', 'R_DASYN160', 'R_DASYN181', 'R_DNMPPA', 'R_GCALDD', 'R_PItex', 'R_USHD', 'R_VALTA', 'R_DHQTi', 'R_MTRK', 'R_MTRI', 'R_MDRPD', 'R_VPAMTr', 'R_ARD', 'R_UNK3', 'R_LPS_YPtetra', 'R_BIOMASS_37C', 'R_S7PI', 'R_A5PISO', 'R_EX_met__L_e', 'R_EX_o2_e', 'R_EX_phe__L_e', 'R_EX_pi_e', 'R_KOKDO_LIPAtetra', 'R_ACt2rpp']\n",
      "216\n",
      "['G_YPO1222', 'G_YPO0474', 'G_YPO2206', 'G_YPO2208', 'G_YPO3183', 'G_YPO4119', 'G_YPO0312', 'G_YPO1430', 'G_YPO0068', 'G_YPO1599', 'G_YPO1601', 'G_YPO2757', 'G_YPO3384', 'G_YPO3924', 'G_YPO4118', 'G_YPO1600', 'G_YPO1570', 'G_YPO3939', 'G_YPO3940', 'G_YPO1060', 'G_YPO0024', 'G_YPO3658', 'G_YPO3659', 'G_YPO2768', 'G_YPO2772', 'G_YPO2293', 'G_YPO2294', 'G_YPO0654', 'G_YPO1074', 'G_YPO2870', 'G_YPO3588', 'G_YPO3589', 'G_YPO2710', 'G_YPO1505', 'G_YPO2222', 'G_YPO1603', 'G_YPO1773', 'G_YPO3407', 'G_YPO1410', 'G_YPO0169', 'G_YPO3118', 'G_YPO3412', 'G_YPO1548', 'G_YPO1549', 'G_YPO1546', 'G_YPO1636', 'G_YPO3400', 'G_YPO0378', 'G_YPO1547', 'G_YPO1641', 'G_YPO1545', 'G_YPO1543', 'G_YPO0058', 'G_YPO2205', 'G_YPO0672', 'G_YPO3728', 'G_YPO3077', 'G_YPO3076', 'G_YPO3899', 'G_YPO2871', 'G_YPO0481', 'G_YPO0482', 'G_YPO0532', 'G_YPO0531', 'G_YPO0530', 'G_YPO0533', 'G_YPO1400', 'G_YPO3578', 'G_YPO2021', 'G_YPO2751', 'G_YPO2188', 'G_YPO1395', 'G_YPO0322', 'G_YPO1057', 'G_YPO3377', 'G_YPO3726', 'G_YPO1598', 'G_YPO0658', 'G_YPO3286', 'G_YPO0040', 'G_YPO1072', 'G_YPO1073', 'G_YPO3897', 'G_YPO0931', 'G_YPO0486', 'G_YPO2769', 'G_YPO0055', 'G_YPO0648', 'G_YPO1415', 'G_YPO1587', 'G_YPO0117', 'G_YPO3501', 'G_YPO0152', 'G_YPO3215', 'G_YPO3411', 'G_YPO3430', 'G_YPO3888', 'G_YPO1106', 'G_YPO1396', 'G_YPO1605', 'G_YPO2607', 'G_YPO4089', 'G_YPO3424', 'G_YPO0926', 'G_YPO0783', 'G_YPO2203', 'G_YPO2204', 'G_YPO1054', 'G_YPO3446', 'G_YPO1056', 'G_YPO2227', 'G_YPO0960', 'G_YPO0561', 'G_YPO0045', 'G_YPO3075', 'G_YPO4082', 'G_YPO3500', 'G_YPO2686', 'G_YPO2912', 'G_YPO1867', 'G_YPO1540', 'G_YPO1539', 'G_YPO2298', 'G_YPO3660', 'G_YPO3243', 'G_YPO3577', 'G_YPO1650', 'G_YPO3758', 'G_YPO0048', 'G_YPO0057', 'G_YPO0416', 'G_YPO3729', 'G_YPO2828', 'G_YPO0056', 'G_YPO1542', 'G_YPO3059', 'G_YPO2921', 'G_YPO1544', 'G_YPO2013', 'G_YPO1390', 'G_YPO0364', 'G_YPO3273', 'G_YPO0053', 'G_YPO1127', 'G_YPO2391', 'G_YPO3182']\n",
      "146\n"
     ]
    }
   ],
   "source": [
    "# Essential Reactions\n",
    "Yp_ess_reactions = Yp_simul.essential_reactions\n",
    "print(Yp_ess_reactions)\n",
    "print(len(Yp_ess_reactions))\n",
    "\n",
    "# Essential Genes\n",
    "Yp_ess_genes = Yp_simul.essential_genes\n",
    "print(Yp_ess_genes)\n",
    "print(len(Yp_ess_genes))"
   ]
  },
  {
   "cell_type": "markdown",
   "metadata": {},
   "source": [
    "Utilizando as funcionalidades do package mewpy, é possivél determinar as reações e genes essenciais para o crescimento do organismo. Estas são potênciais alvos terapeuticos, uma vez que atravês do knockout de genes ou impedimento da sua função, podemos por em causa a viabilidade do agente patogénico.\n",
    "\n",
    "Foram contabilizadas um total de 216 reações essenciais como também 146 genes."
   ]
  },
  {
   "cell_type": "markdown",
   "metadata": {},
   "source": [
    "## d) Discusstwo of  these  genes/reactionsand  the  corresponding  drug. Select  one present  in  the  host  andoneabsent.Include  in  the discussion facts regarding potential side effects of the drug on other reactions."
   ]
  },
  {
   "cell_type": "code",
   "execution_count": null,
   "metadata": {
    "pycharm": {
     "name": "#%%\n"
    }
   },
   "outputs": [],
   "source": [
    "from Bio import Entrez\n",
    "\n",
    "Entrez.email = \"pedroalex123@gmail.com\"\n",
    "\n",
    "# Procurar os genes\n",
    "id_list = []\n",
    "for gene in Yp_ess_genes:\n",
    "    handle = Entrez.esearch(db=\"gene\", term=\"{0}[Gene Name]\".format(gene.split(\"_\", 1)[1]))\n",
    "    record = Entrez.read(handle)\n",
    "    id_list.append(record[\"IdList\"][0])\n",
    "\n",
    "# Upload da lista de IDs dos genes\n",
    "search_results = Entrez.read(Entrez.epost(\"gene\", id=\",\".join(id_list)))\n",
    "webenv = search_results[\"WebEnv\"]\n",
    "query_key = search_results[\"QueryKey\"]\n",
    "\n",
    "# Recolha de informação dos genes\n",
    "handle = Entrez.esummary(db=\"gene\", webenv=webenv, query_key=query_key)\n",
    "record = Entrez.read(handle)\n",
    "\n",
    "output = open('Yp_ess_genes.md', 'w')\n",
    "for gene in record[\"DocumentSummarySet\"][\"DocumentSummary\"]:\n",
    "    output.write(\"# {0}\".format(gene['Name'])+\"\\n\"+\"\\n\")\n",
    "    print(gene['Name'])\n",
    "    \n",
    "    handle = Entrez.esearch(db=\"gene\", term=\"{0}[Gene Name] AND Homo sapiens[Organism]\".format(gene['Name']))\n",
    "    record = Entrez.read(handle)\n",
    "    if record[\"IdList\"]:\n",
    "        print(\"Warning: This is an Human target aswell\")\n",
    "        output.write(\"{0}\".format(\"Warning: This is an Human target aswell\")+\"\\n\"+\"\\n\")\n",
    "    output.write(\"{0}\".format(gene['OtherAliases'])+\"\\n\"+\"\\n\")\n",
    "    output.write(\"{0}\".format(gene['Description'])+\"\\n\"+\"\\n\")\n",
    "\n",
    "    print(gene['OtherAliases'])\n",
    "    print(gene['Description'])\n",
    "    print(\"\")\n",
    "\n",
    "output.close()"
   ]
  }
 ],
 "metadata": {
  "kernelspec": {
   "display_name": "Python 3",
   "language": "python",
   "name": "python3"
  },
  "language_info": {
   "codemirror_mode": {
    "name": "ipython",
    "version": 3
   },
   "file_extension": ".py",
   "mimetype": "text/x-python",
   "name": "python",
   "nbconvert_exporter": "python",
   "pygments_lexer": "ipython3",
   "version": "3.7.9"
  }
 },
 "nbformat": 4,
 "nbformat_minor": 1
}