{
 "cells": [
  {
   "cell_type": "markdown",
   "source": [
    "# *Drug targeting* para *Yersinia pestis*\n"
   ],
   "metadata": {
    "collapsed": false,
    "pycharm": {
     "name": "#%% md\n"
    }
   }
  },
  {
   "cell_type": "code",
   "execution_count": 11,
   "metadata": {
    "collapsed": true
   },
   "outputs": [
    {
     "name": "stderr",
     "output_type": "stream",
     "text": [
      "/home/dm/anaconda3/envs/bs/lib/python3.7/site-packages/reframed/io/sbml.py:510: UserWarning: Gene association for reaction R_ATPS4rpp is not DNF\n",
      "  warn(f\"Gene association for reaction {reaction_id} is not DNF\")\n",
      "/home/dm/anaconda3/envs/bs/lib/python3.7/site-packages/reframed/io/sbml.py:510: UserWarning: Gene association for reaction R_FE3DCITtonex is not DNF\n",
      "  warn(f\"Gene association for reaction {reaction_id} is not DNF\")\n",
      "/home/dm/anaconda3/envs/bs/lib/python3.7/site-packages/reframed/io/sbml.py:510: UserWarning: Gene association for reaction R_NO3R1bpp is not DNF\n",
      "  warn(f\"Gene association for reaction {reaction_id} is not DNF\")\n",
      "/home/dm/anaconda3/envs/bs/lib/python3.7/site-packages/reframed/io/sbml.py:510: UserWarning: Gene association for reaction R_NO3R2bpp is not DNF\n",
      "  warn(f\"Gene association for reaction {reaction_id} is not DNF\")\n",
      "/home/dm/anaconda3/envs/bs/lib/python3.7/site-packages/reframed/io/sbml.py:510: UserWarning: Gene association for reaction R_RNDR4b is not DNF\n",
      "  warn(f\"Gene association for reaction {reaction_id} is not DNF\")\n",
      "/home/dm/anaconda3/envs/bs/lib/python3.7/site-packages/reframed/io/sbml.py:510: UserWarning: Gene association for reaction R_RNDR1b is not DNF\n",
      "  warn(f\"Gene association for reaction {reaction_id} is not DNF\")\n",
      "/home/dm/anaconda3/envs/bs/lib/python3.7/site-packages/reframed/io/sbml.py:510: UserWarning: Gene association for reaction R_RNDR2b is not DNF\n",
      "  warn(f\"Gene association for reaction {reaction_id} is not DNF\")\n",
      "/home/dm/anaconda3/envs/bs/lib/python3.7/site-packages/reframed/io/sbml.py:510: UserWarning: Gene association for reaction R_RNDR3b is not DNF\n",
      "  warn(f\"Gene association for reaction {reaction_id} is not DNF\")\n",
      "/home/dm/anaconda3/envs/bs/lib/python3.7/site-packages/reframed/io/sbml.py:510: UserWarning: Gene association for reaction R_THZPSN is not DNF\n",
      "  warn(f\"Gene association for reaction {reaction_id} is not DNF\")\n",
      "/home/dm/anaconda3/envs/bs/lib/python3.7/site-packages/reframed/io/sbml.py:510: UserWarning: Gene association for reaction R_TRDR is not DNF\n",
      "  warn(f\"Gene association for reaction {reaction_id} is not DNF\")\n"
     ]
    }
   ],
   "source": [
    "from reframed import load_cbmodel\n",
    "from mewpy.simulation import get_simulator\n",
    "\n",
    "model = load_cbmodel(\"../models/iPC815.xml\")\n",
    "Yp_simul = get_simulator(model)\n",
    "\n",
    "result = Yp_simul.simulate(method='FBA')\n",
    "result\n",
    "\n",
    "# TODO: é mesmo os melhores\n",
    "Yp_metabolites =Yp_simul.metabolites[:10]"
   ]
  },
  {
   "cell_type": "markdown",
   "source": [
    "## Genes e reações candidatos a *drug targeting*"
   ],
   "metadata": {
    "collapsed": false
   }
  },
  {
   "cell_type": "code",
   "source": [
    "# Essential Reactions\n",
    "Yp_ess_reactions = Yp_simul.essential_reactions\n",
    "\n",
    "# Essential Genes\n",
    "\n",
    "Yp_ess_genes = Yp_simul.essential_genes"
   ],
   "metadata": {
    "collapsed": false,
    "pycharm": {
     "name": "#%%\n"
    }
   },
   "execution_count": 5,
   "outputs": []
  }
 ],
 "metadata": {
  "kernelspec": {
   "display_name": "Python 3",
   "language": "python",
   "name": "python3"
  },
  "language_info": {
   "codemirror_mode": {
    "name": "ipython",
    "version": 2
   },
   "file_extension": ".py",
   "mimetype": "text/x-python",
   "name": "python",
   "nbconvert_exporter": "python",
   "pygments_lexer": "ipython2",
   "version": "2.7.6"
  }
 },
 "nbformat": 4,
 "nbformat_minor": 0
}