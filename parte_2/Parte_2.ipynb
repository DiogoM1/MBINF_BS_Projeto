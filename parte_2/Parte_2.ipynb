{
 "cells": [
  {
   "cell_type": "markdown",
   "source": [
    "# *Drug targeting* para *Yersinia pestis*\n"
   ],
   "metadata": {
    "collapsed": false,
    "pycharm": {
     "name": "#%% md\n"
    }
   }
  },
  {
   "cell_type": "markdown",
   "source": [
    "O gene purH faz parte do genoma da bactéria *Y. pestis* mas também do mamífero *H. sapiens sapiens*. Assim, este gene não é um bom alvo terapêutico.\n",
    "O símbolo oficial no genoma humano é *ATIC*, mas também é conhecido como PURH, AICAR, AICARFT, IMPCHASE ou HEL-S-70p $^{1}$. Este gene codifica uma proteína bifuncional que catalisa as duas últimas etapas da via biossintética de novo das purinas $^{1,2}$. O domínio N-terminal tem atividade de fosforribosilaminoimidazolecarboxamida formiltransferase e o domínio C-terminal tem atividade de IMP ciclo-hidrolase. Uma mutação neste gene resulta em AICA-ribosiduria $^{1}$.\n",
    "Um medicamento qua atua a este nível é o fármaco metotrexato inibe várias enzimas responsáveis pela síntese de nucleotídeos. Essa inibição leva à supressão da inflamação e também à prevenção da divisão celular $^{3}$. Graças a estes efeitos, o metotrexato é frequentemente usado para tratar a inflamação causada pela artrite ou para controlar a divisão celular em doenças neoplásicas, como câncer de mama e linfoma não Hodgkin $^{3-7}$.\n",
    "Devido aos efeitos tóxicos do metotrexato, é indicado para o tratamento de algumas formas de artrite e psoríase grave, mas apenas se o tratamento de primeira linha falhou ou os pacientes são intolerantes a esses tratamentos $^{6}$.\n",
    "\n",
    "Bibliografia:\n",
    "1.\thttps://www.ncbi.nlm.nih.gov/gene/471\n",
    "2.\thttps://pubchem.ncbi.nlm.nih.gov/protein/P31939\n",
    "3.\tInoue K, Yuasa H: Molecular basis for pharmacokinetics and pharmacodynamics of methotrexate in rheumatoid arthritis therapy. Drug Metab Pharmacokinet. 2014;29(1):12-9. Epub 2013 Nov 26. [PubMed:24284432]\n",
    "4.\tPrzekop PR Jr, Tulgan H, Przekop AA, Glantz M: Adverse drug reaction to methotrexate: pharmacogenetic origin. J Am Osteopath Assoc. 2006 Dec;106(12):706-7. [PubMed:17242415]\n",
    "5.\tMuhrez K, Benz-de Bretagne I, Nadal-Desbarats L, Blasco H, Gyan E, Choquet S, Montigny F, Emond P, Barin-Le Guellec C: Endogenous metabolites that are substrates of organic anion transporter's (OATs) predict methotrexate clearance. Pharmacol Res. 2017 Apr;118:121-132. doi: 10.1016/j.phrs.2016.05.021. Epub 2016 May 19. [PubMed:27210722]\n",
    "6.\tFDA Approved Drug Products: Methotrexate Injection. https://www.accessdata.fda.gov/drugsatfda_docs/label/2018/011719s125lbl.pdf\n",
    "7.\thttps://go.drugbank.com/drugs/DB00563\n"
   ],
   "metadata": {
    "collapsed": false
   }
  }
 ],
 "metadata": {
  "kernelspec": {
   "display_name": "Python 3",
   "language": "python",
   "name": "python3"
  },
  "language_info": {
   "codemirror_mode": {
    "name": "ipython",
    "version": 2
   },
   "file_extension": ".py",
   "mimetype": "text/x-python",
   "name": "python",
   "nbconvert_exporter": "python",
   "pygments_lexer": "ipython2",
   "version": "2.7.6"
  }
 },
 "nbformat": 4,
 "nbformat_minor": 0
}