{
 "cells": [
  {
   "cell_type": "markdown",
   "source": [
    "# *Drug targeting* para *Yersinia pestis*\n"
   ],
   "metadata": {
    "collapsed": false,
    "pycharm": {
     "name": "#%% md\n"
    }
   }
  },
  {
   "cell_type": "code",
   "execution_count": 11,
   "metadata": {
    "collapsed": true
   },
   "outputs": [
    {
     "name": "stderr",
     "output_type": "stream",
     "text": [
      "/home/dm/anaconda3/envs/bs/lib/python3.7/site-packages/reframed/io/sbml.py:510: UserWarning: Gene association for reaction R_ATPS4rpp is not DNF\n",
      "  warn(f\"Gene association for reaction {reaction_id} is not DNF\")\n",
      "/home/dm/anaconda3/envs/bs/lib/python3.7/site-packages/reframed/io/sbml.py:510: UserWarning: Gene association for reaction R_FE3DCITtonex is not DNF\n",
      "  warn(f\"Gene association for reaction {reaction_id} is not DNF\")\n",
      "/home/dm/anaconda3/envs/bs/lib/python3.7/site-packages/reframed/io/sbml.py:510: UserWarning: Gene association for reaction R_NO3R1bpp is not DNF\n",
      "  warn(f\"Gene association for reaction {reaction_id} is not DNF\")\n",
      "/home/dm/anaconda3/envs/bs/lib/python3.7/site-packages/reframed/io/sbml.py:510: UserWarning: Gene association for reaction R_NO3R2bpp is not DNF\n",
      "  warn(f\"Gene association for reaction {reaction_id} is not DNF\")\n",
      "/home/dm/anaconda3/envs/bs/lib/python3.7/site-packages/reframed/io/sbml.py:510: UserWarning: Gene association for reaction R_RNDR4b is not DNF\n",
      "  warn(f\"Gene association for reaction {reaction_id} is not DNF\")\n",
      "/home/dm/anaconda3/envs/bs/lib/python3.7/site-packages/reframed/io/sbml.py:510: UserWarning: Gene association for reaction R_RNDR1b is not DNF\n",
      "  warn(f\"Gene association for reaction {reaction_id} is not DNF\")\n",
      "/home/dm/anaconda3/envs/bs/lib/python3.7/site-packages/reframed/io/sbml.py:510: UserWarning: Gene association for reaction R_RNDR2b is not DNF\n",
      "  warn(f\"Gene association for reaction {reaction_id} is not DNF\")\n",
      "/home/dm/anaconda3/envs/bs/lib/python3.7/site-packages/reframed/io/sbml.py:510: UserWarning: Gene association for reaction R_RNDR3b is not DNF\n",
      "  warn(f\"Gene association for reaction {reaction_id} is not DNF\")\n",
      "/home/dm/anaconda3/envs/bs/lib/python3.7/site-packages/reframed/io/sbml.py:510: UserWarning: Gene association for reaction R_THZPSN is not DNF\n",
      "  warn(f\"Gene association for reaction {reaction_id} is not DNF\")\n",
      "/home/dm/anaconda3/envs/bs/lib/python3.7/site-packages/reframed/io/sbml.py:510: UserWarning: Gene association for reaction R_TRDR is not DNF\n",
      "  warn(f\"Gene association for reaction {reaction_id} is not DNF\")\n"
     ]
    }
   ],
   "source": [
    "from reframed import load_cbmodel\n",
    "from mewpy.simulation import get_simulator\n",
    "\n",
    "model = load_cbmodel(\"../models/iPC815.xml\")\n",
    "Yp_simul = get_simulator(model)\n",
    "\n",
    "result = Yp_simul.simulate(method='FBA')\n",
    "result\n",
    "\n",
    "# TODO: é mesmo os melhores\n",
    "Yp_metabolites =Yp_simul.metabolites[:10]"
   ]
  },
  {
   "cell_type": "markdown",
   "source": [
    "## Genes e reações candidatos a *drug targeting*"
   ],
   "metadata": {
    "collapsed": false
   }
  },
  {
   "cell_type": "code",
   "source": [
    "# Essential Reactions\n",
    "Yp_ess_reactions = Yp_simul.essential_reactions\n",
    "\n",
    "# Essential Genes\n",
    "\n",
    "Yp_ess_genes = Yp_simul.essential_genes"
   ],
   "metadata": {
    "collapsed": false,
    "pycharm": {
     "name": "#%%\n"
    }
   },
   "execution_count": 1,
   "outputs": [
    {
     "ename": "NameError",
     "evalue": "name 'Yp_simul' is not defined",
     "output_type": "error",
     "traceback": [
      "\u001B[1;31m---------------------------------------------------------------------------\u001B[0m",
      "\u001B[1;31mNameError\u001B[0m                                 Traceback (most recent call last)",
      "\u001B[1;32m<ipython-input-1-7182b2e3bc13>\u001B[0m in \u001B[0;36m<module>\u001B[1;34m\u001B[0m\n\u001B[0;32m      1\u001B[0m \u001B[1;31m# Essential Reactions\u001B[0m\u001B[1;33m\u001B[0m\u001B[1;33m\u001B[0m\u001B[1;33m\u001B[0m\u001B[0m\n\u001B[1;32m----> 2\u001B[1;33m \u001B[0mYp_ess_reactions\u001B[0m \u001B[1;33m=\u001B[0m \u001B[0mYp_simul\u001B[0m\u001B[1;33m.\u001B[0m\u001B[0messential_reactions\u001B[0m\u001B[1;33m\u001B[0m\u001B[1;33m\u001B[0m\u001B[0m\n\u001B[0m\u001B[0;32m      3\u001B[0m \u001B[1;33m\u001B[0m\u001B[0m\n\u001B[0;32m      4\u001B[0m \u001B[1;31m# Essential Genes\u001B[0m\u001B[1;33m\u001B[0m\u001B[1;33m\u001B[0m\u001B[1;33m\u001B[0m\u001B[0m\n\u001B[0;32m      5\u001B[0m \u001B[1;33m\u001B[0m\u001B[0m\n",
      "\u001B[1;31mNameError\u001B[0m: name 'Yp_simul' is not defined"
     ]
    }
   ]
  },
  {
   "cell_type": "markdown",
   "source": [
    "O gene purH faz parte do genoma da bactéria Y. pestis mas também do mamífero H. sapiens sapiens. Assim, este gene não é um bom alvo terapêutico.\n",
    "O símbolo oficial no genoma humano é ATIC, mas também é conhecido como PURH, AICAR, AICARFT, IMPCHASE ou HEL-S-70p1. Este gene codifica uma proteína bifuncional que catalisa as duas últimas etapas da via biossintética de novo das purinas1,2. O domínio N-terminal tem atividade de fosforribosilaminoimidazolecarboxamida formiltransferase e o domínio C-terminal tem atividade de IMP ciclo-hidrolase. Uma mutação neste gene resulta em AICA-ribosiduria1.\n",
    "Um medicamento qua atua a este nível é o fármaco metotrexato inibe várias enzimas responsáveis pela síntese de nucleotídeos. Essa inibição leva à supressão da inflamação e também à prevenção da divisão celular3. Graças a estes efeitos, o metotrexato é frequentemente usado para tratar a inflamação causada pela artrite ou para controlar a divisão celular em doenças neoplásicas, como câncer de mama e linfoma não Hodgkin3-7.\n",
    "Devido aos efeitos tóxicos do metotrexato, é indicado para o tratamento de algumas formas de artrite e psoríase grave, mas apenas se o tratamento de primeira linha falhou ou os pacientes são intolerantes a esses tratamentos6.\n",
    "\n",
    "Bibliografia:\n",
    "1.\thttps://www.ncbi.nlm.nih.gov/gene/471\n",
    "2.\thttps://pubchem.ncbi.nlm.nih.gov/protein/P31939\n",
    "3.\tInoue K, Yuasa H: Molecular basis for pharmacokinetics and pharmacodynamics of methotrexate in rheumatoid arthritis therapy. Drug Metab Pharmacokinet. 2014;29(1):12-9. Epub 2013 Nov 26. [PubMed:24284432]\n",
    "4.\tPrzekop PR Jr, Tulgan H, Przekop AA, Glantz M: Adverse drug reaction to methotrexate: pharmacogenetic origin. J Am Osteopath Assoc. 2006 Dec;106(12):706-7. [PubMed:17242415]\n",
    "5.\tMuhrez K, Benz-de Bretagne I, Nadal-Desbarats L, Blasco H, Gyan E, Choquet S, Montigny F, Emond P, Barin-Le Guellec C: Endogenous metabolites that are substrates of organic anion transporter's (OATs) predict methotrexate clearance. Pharmacol Res. 2017 Apr;118:121-132. doi: 10.1016/j.phrs.2016.05.021. Epub 2016 May 19. [PubMed:27210722]\n",
    "6.\tFDA Approved Drug Products: Methotrexate Injection. https://www.accessdata.fda.gov/drugsatfda_docs/label/2018/011719s125lbl.pdf\n",
    "7.\thttps://go.drugbank.com/drugs/DB00563\n"
   ],
   "metadata": {
    "collapsed": false
   }
  }
 ],
 "metadata": {
  "kernelspec": {
   "display_name": "Python 3",
   "language": "python",
   "name": "python3"
  },
  "language_info": {
   "codemirror_mode": {
    "name": "ipython",
    "version": 2
   },
   "file_extension": ".py",
   "mimetype": "text/x-python",
   "name": "python",
   "nbconvert_exporter": "python",
   "pygments_lexer": "ipython2",
   "version": "2.7.6"
  }
 },
 "nbformat": 4,
 "nbformat_minor": 0
}