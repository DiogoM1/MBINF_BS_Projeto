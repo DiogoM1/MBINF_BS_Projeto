{
 "cells": [
  {
   "cell_type": "markdown",
   "source": [
    "# Exercise (part 1) - implementation of FBA problem\n",
    "## 3.\n",
    "## a. Evaluate if single gene deletions enhance the production of the compound. <br> Rank the mutants obtained according to the compound production capacity and growth performance. \n",
    "### 1º Simulação FBA para saber a taxa de crescimento antes das deleções de genes, ou seja, taxa de crescimento do wild-type <br>\n",
    "**Model objective - uma vez que temos que considerar que as células evoluíram para cresciento máximo, queremos maximizar a biomassa e, por isso, temos que mudar de 1 para -1; e tbm queremos maximizar a produção do nosso composto (lactato).**"
   ],
   "metadata": {
    "collapsed": false
   }
  },
  {
   "cell_type": "code",
   "execution_count": null,
   "outputs": [],
   "source": [
    "import cobra\n",
    "\n",
    "import pandas\n",
    "from time import time\n",
    "\n",
    "from cobra.util.solver import linear_reaction_coefficients\n",
    "\n",
    "import cobra.test\n",
    "from cobra.flux_analysis import (single_gene_deletion, single_reaction_deletion, double_gene_deletion, double_reaction_deletion)\n",
    "\n",
    "cobramo = cobra.io.read_sbml_model('iML1515.xml')\n",
    "\n",
    "cobramo.objective = {cobramo.reactions.BIOMASS_Ec_iML1515_core_75p37M: -1.0}\n",
    "cobramo.objective\n",
    "\n",
    "cobramo.reactions.get_by_id(\"EX_o2_e\").upper_bound = 1000\n",
    "cobramo.reactions.get_by_id(\"EX_o2_e\").lower_bound = 0\n",
    "cobramo.reactions.get_by_id(\"EX_glc__D_e\").upper_bound = 1000\n",
    "cobramo.reactions.get_by_id(\"EX_glc__D_e\").lower_bound = -15\n",
    "\n",
    "solution = cobramo.optimize()\n",
    "print('FBA atraves do cobra:', solution)\n",
    "print('taxa de crescimento antes da maximização da produção do composto:', solution.objective_value)\n",
    "print('fluxo da reação da biomassa:', solution.fluxes['BIOMASS_Ec_iML1515_core_75p37M'])\n",
    "\n",
    "cobramo.objective = {cobramo.reactions.EX_lac__L_e: -1.0, cobramo.reactions.EX_lac__D_e: -1.0}\n",
    "cobramo.objective\n",
    "\n",
    "solutionopt = cobramo.optimize()\n",
    "print('FBA atraves do cobra:', solutionopt)\n",
    "print('taxa de crescimento depois da maximização da produção do composto:', solutionopt.objective_value)\n",
    "print('fluxo da reação da biomassa:', solutionopt.fluxes['BIOMASS_Ec_iML1515_core_75p37M'])"
   ],
   "metadata": {
    "collapsed": false,
    "pycharm": {
     "name": "#%%\n"
    }
   }
  },
  {
   "cell_type": "markdown",
   "source": [
    "### 2º (wild type) Reações que (SÓ) produzem  lactato e fluxos delas:"
   ],
   "metadata": {
    "collapsed": false
   }
  },
  {
   "cell_type": "code",
   "execution_count": null,
   "outputs": [],
   "source": [
    "print('R_EX_lac__L_e', solutionopt.fluxes['EX_lac__L_e'])\n",
    "print('R_EX_lac__D_e', solutionopt.fluxes['EX_lac__D_e'])"
   ],
   "metadata": {
    "collapsed": false,
    "pycharm": {
     "name": "#%%\n"
    }
   }
  },
  {
   "cell_type": "markdown",
   "source": [
    "### 3º All single gene deletions"
   ],
   "metadata": {
    "collapsed": false
   }
  },
  {
   "cell_type": "code",
   "execution_count": null,
   "outputs": [],
   "source": [
    "import pandas as pd\n",
    "import numpy as np\n",
    "pd.set_option('display.max_rows', 2000)\n",
    "\n",
    "deletion_results = single_gene_deletion(cobramo)\n",
    "print(deletion_results)"
   ],
   "metadata": {
    "collapsed": false,
    "pycharm": {
     "name": "#%%\n"
    }
   }
  },
  {
   "cell_type": "markdown",
   "source": [
    "### 4º genes essenciais (não podem ser eliminados):"
   ],
   "metadata": {
    "collapsed": false
   }
  },
  {
   "cell_type": "code",
   "execution_count": null,
   "outputs": [],
   "source": [
    "from reframed.io.sbml import load_cbmodel\n",
    "model = load_cbmodel('iML1515.xml', flavor = 'fbc2')\n",
    "\n",
    "from mewpy.simulation import get_simulator\n",
    "simul = get_simulator(model)\n",
    "\n",
    "envcond = {'R_EX_o2_e':0, 'R_EX_glc__D_e':-15}\n",
    "\n",
    "simul = get_simulator(model, envcond = envcond)\n",
    "\n",
    "simul.objective = {'R_BIOMASS_Ec_iML1515_core_75p37M': -1.0, 'R_EX_lac__L_e': -1.0, 'R_EX_lac__D_e': -1.0}\n",
    "\n",
    "result = simul.simulate(method='FBA')\n",
    "print(\"FBA atraves do reframed:\")\n",
    "print(result)\n",
    "print(result.fluxes['R_BIOMASS_Ec_iML1515_core_75p37M'])\n",
    "print(result.fluxes['R_EX_lac__L_e'])\n",
    "print(result.fluxes['R_EX_lac__D_e'])\n",
    "\n",
    "essent_genes = simul.essential_genes\n",
    "print(essent_genes)"
   ],
   "metadata": {
    "collapsed": false,
    "pycharm": {
     "name": "#%%\n"
    }
   }
  },
  {
   "cell_type": "markdown",
   "source": [
    "### 5º Iterar sobre cada gene que está no deletion_results, sempre que aparecer um gene essencial continuar o loop e depois apagar gene a gene do modelo. Após tirar um gene, fazer a simulação FBA e calcular os fluxos das reações que produzem lactato. No fim, voltar a colocar o modelo com os genes todos."
   ],
   "metadata": {
    "collapsed": false
   }
  },
  {
   "cell_type": "code",
   "execution_count": null,
   "outputs": [],
   "source": [
    "import pandas\n",
    "from time import time\n",
    "\n",
    "import cobra.test\n",
    "\n",
    "import cobra\n",
    "\n",
    "from mewpy.simulation import get_simulator\n",
    "\n",
    "for id in deletion_results.ids:\n",
    "    for gene in id:\n",
    "        genelist = [str(gene)]\n",
    "        if gene not in essent_genes:\n",
    "            print(genelist)\n",
    "            cobra.manipulation.remove_genes(cobramo, genelist)\n",
    "            solutionko = cobramo.optimize()\n",
    "            solutionko.objective_value\n",
    "            print('produção da lactose', solutionko.objective_value)\n",
    "            \n",
    "            cobramo = cobra.io.read_sbml_model('iML1515.xml')\n",
    "            \n",
    "            cobramo.objective = {cobramo.reactions.BIOMASS_Ec_iML1515_core_75p37M: -1.0}\n",
    "            cobramo.objective\n",
    "\n",
    "            cobramo.reactions.get_by_id(\"EX_o2_e\").upper_bound = 1000\n",
    "            cobramo.reactions.get_by_id(\"EX_o2_e\").lower_bound = 0\n",
    "            cobramo.reactions.get_by_id(\"EX_glc__D_e\").upper_bound = 1000\n",
    "            cobramo.reactions.get_by_id(\"EX_glc__D_e\").lower_bound = -15\n",
    "\n",
    "            cobra.manipulation.remove_genes(cobramo, genelist)\n",
    "            solutionkobiomass = cobramo.optimize()\n",
    "            print('growth rate', solutionkobiomass.objective_value)\n",
    "            \n",
    "            cobramo = cobra.io.read_sbml_model('iML1515.xml')\n",
    "\n",
    "            cobramo.objective = {cobramo.reactions.BIOMASS_Ec_iML1515_core_75p37M: -1.0}\n",
    "            cobramo.objective\n",
    "\n",
    "            cobramo.reactions.get_by_id(\"EX_o2_e\").upper_bound = 1000\n",
    "            cobramo.reactions.get_by_id(\"EX_o2_e\").lower_bound = 0\n",
    "            cobramo.reactions.get_by_id(\"EX_glc__D_e\").upper_bound = 1000\n",
    "            cobramo.reactions.get_by_id(\"EX_glc__D_e\").lower_bound = -15\n",
    "\n",
    "            solution = cobramo.optimize()\n",
    "\n",
    "            cobramo.objective = {cobramo.reactions.EX_lac__L_e: -1.0, cobramo.reactions.EX_lac__D_e: -1.0}\n",
    "            cobramo.objective            \n"
   ],
   "metadata": {
    "collapsed": false,
    "pycharm": {
     "name": "#%%\n"
    }
   }
  },
  {
   "cell_type": "code",
   "execution_count": null,
   "outputs": [],
   "source": [],
   "metadata": {
    "collapsed": false,
    "pycharm": {
     "name": "#%%\n"
    }
   }
  }
 ],
 "metadata": {
  "kernelspec": {
   "display_name": "Python 3",
   "language": "python",
   "name": "python3"
  },
  "language_info": {
   "codemirror_mode": {
    "name": "ipython",
    "version": 3
   },
   "file_extension": ".py",
   "mimetype": "text/x-python",
   "name": "python",
   "nbconvert_exporter": "python",
   "pygments_lexer": "ipython3",
   "version": "3.7.9"
  }
 },
 "nbformat": 4,
 "nbformat_minor": 1
}