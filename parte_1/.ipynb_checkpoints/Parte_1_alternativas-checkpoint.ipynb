{
 "cells": [
  {
   "cell_type": "markdown",
   "metadata": {},
   "source": [
    "# Parte 1 - procedimentos alternativos\n",
    "\n",
    "## Técnica Alternativa usando o COBRAPY"
   ]
  },
  {
   "cell_type": "code",
   "execution_count": 10,
   "metadata": {},
   "outputs": [
    {
     "name": "stdout",
     "output_type": "stream",
     "text": [
      "<Solution 0.266 at 0x7f3c60260190>\n"
     ]
    }
   ],
   "source": [
    "import cobra\n",
    "\n",
    "import pandas\n",
    "from time import time\n",
    "import numpy as np\n",
    "\n",
    "from cobra.util.solver import linear_reaction_coefficients\n",
    "\n",
    "import cobra.test\n",
    "from cobra.flux_analysis import (single_gene_deletion, single_reaction_deletion, double_gene_deletion, double_reaction_deletion)\n",
    "\n",
    "cobramo = cobra.io.read_sbml_model('../models/iML1515.xml')\n",
    "\n",
    "cobramo.objective = {cobramo.reactions.BIOMASS_Ec_iML1515_core_75p37M: 1.0}\n",
    "cobramo.objective\n",
    "\n",
    "cobramo.reactions.get_by_id(\"EX_o2_e\").upper_bound = 1000\n",
    "cobramo.reactions.get_by_id(\"EX_o2_e\").lower_bound = 0\n",
    "cobramo.reactions.get_by_id(\"EX_glc__D_e\").upper_bound = 1000\n",
    "cobramo.reactions.get_by_id(\"EX_glc__D_e\").lower_bound = -15\n",
    "\n",
    "solution = cobramo.optimize()\n",
    "print(solution)"
   ]
  },
  {
   "cell_type": "code",
   "execution_count": null,
   "metadata": {
    "pycharm": {
     "name": "#%%\n"
    }
   },
   "outputs": [],
   "source": [
    "cobramo.objective = {cobramo.reactions.EX_lac__L_e: 1.0, cobramo.reactions.EX_lac__D_e: 1.0}\n",
    "\n",
    "cobramo.reactions.get_by_id(\"BIOMASS_Ec_iML1515_core_75p37M\").lower_bound = 0.266\n",
    "cobramo.reactions.get_by_id(\"BIOMASS_Ec_iML1515_core_75p37M\").upper_bound = 1000\n",
    "\n",
    "pandas.set_option('display.max_rows', 2000)\n",
    "\n",
    "deletion_results = single_gene_deletion(cobramo)\n",
    "deletion_results_sorted = deletion_results.sort_values(by=['growth'], ascending=False)\n",
    "print(deletion_results_sorted)"
   ]
  },
  {
   "cell_type": "markdown",
   "metadata": {
    "collapsed": true
   },
   "source": [
    "## Modelo Alternativo"
   ]
  },
  {
   "cell_type": "code",
   "execution_count": 2,
   "metadata": {
    "pycharm": {
     "name": "#%%\n"
    },
    "scrolled": false
   },
   "outputs": [
    {
     "name": "stdout",
     "output_type": "stream",
     "text": [
      "Running NSGAII\n"
     ]
    },
    {
     "data": {
      "image/png": "[encoded data removed]",
      "text/plain": [
       "<Figure size 432x288 with 1 Axes>"
      ]
     },
     "metadata": {
      "needs_background": "light"
     },
     "output_type": "display_data"
    },
    {
     "name": "stdout",
     "output_type": "stream",
     "text": [
      "Gen    Eval|     Worst      Best    Median   Average   Std Dev|     Worst      Best    Median   Average   Std Dev|\n",
      "   0    100|  0.000000  0.000000  0.000000  0.000000  0.000000|  0.000000  0.000000  0.000000  0.000000  0.000000|\n",
      "   1    200|  0.000000  0.000000  0.000000  0.000000  0.000000|  0.000000  0.000000  0.000000  0.000000  0.000000|\n",
      "   2    300|  0.000000  0.000000  0.000000  0.000000  0.000000|  0.000000  0.000000  0.000000  0.000000  0.000000|\n",
      "   3    400|  0.000000  0.000000  0.000000  0.000000  0.000000|  0.000000  0.000000  0.000000  0.000000  0.000000|\n",
      "   4    500|  0.000000  0.000000  0.000000  0.000000  0.000000|  0.000000  0.000000  0.000000  0.000000  0.000000|\n",
      "   5    600|  0.000000  0.000000  0.000000  0.000000  0.000000|  0.000000  0.000000  0.000000  0.000000  0.000000|\n",
      "   6    700|  0.000000  0.000000  0.000000  0.000000  0.000000|  0.000000  0.000000  0.000000  0.000000  0.000000|\n",
      "   7    800|  0.000000  0.000000  0.000000  0.000000  0.000000|  0.000000  0.000000  0.000000  0.000000  0.000000|\n",
      "   8    900|  0.000000  0.000000  0.000000  0.000000  0.000000|  0.000000  0.000000  0.000000  0.000000  0.000000|\n",
      "   9   1000|  0.000000  0.000000  0.000000  0.000000  0.000000|  0.000000  0.000000  0.000000  0.000000  0.000000|\n",
      "  10   1100|  0.000000  0.000000  0.000000  0.000000  0.000000|  0.000000  0.000000  0.000000  0.000000  0.000000|\n",
      "[[0.0, 0.0];{'G_YLR201C': 0}, [0.0, 0.0];{'G_YMR215W': 0}, [0.0, 0.0];{'G_YDR408C': 0}, [0.0, 0.0];{'G_YBR018C': 0}, [0.0, 0.0];{'G_YBR294W': 0}, [0.0, 0.0];{'G_YGL063W': 0}, [0.0, 0.0];{'G_YDR342C': 0}, [0.0, 0.0];{'G_YDR001C': 0}, [0.0, 0.0];{'G_YBR218C': 0}, [0.0, 0.0];{'G_YDR173C': 0}, [0.0, 0.0];{'G_YDR305C': 0}, [0.0, 0.0];{'G_YBR039W': 0}, [0.0, 0.0];{'G_YKL024C': 0}, [0.0, 0.0];{'G_YBR038W': 0}, [0.0, 0.0];{'G_YLR195C': 0}, [0.0, 0.0];{'G_YML096W': 0}, [0.0, 0.0];{'G_YHR123W': 0}, [0.0, 0.0];{'G_YKR093W': 0}, [0.0, 0.0];{'G_YJR143C': 0}, [0.0, 0.0];{'G_YMR009W': 0}, [0.0, 0.0];{'G_YOL061W': 0}, [0.0, 0.0];{'G_YNL106C': 0}, [0.0, 0.0];{'G_YDR530C': 0}, [0.0, 0.0];{'G_YOR202W': 0}, [0.0, 0.0];{'G_YDR062W': 0}, [0.0, 0.0];{'G_YCR053W': 0}, [0.0, 0.0];{'G_YIL111W': 0}, [0.0, 0.0];{'G_YOR095C': 0}, [0.0, 0.0];{'G_YMR084W': 0}, [0.0, 0.0];{'G_YDR298C': 0}, [0.0, 0.0];{'G_YGR256W': 0}, [0.0, 0.0];{'G_YOL065C': 0}, [0.0, 0.0];{'G_YDR483W': 0}, [0.0, 0.0];{'G_YOL055C': 0}, [0.0, 0.0];{'G_YER053C': 0}, [0.0, 0.0];{'G_YDR380W': 0}, [0.0, 0.0];{'G_YBL042C': 0}, [0.0, 0.0];{'G_YHR026W': 0}, [0.0, 0.0];{'G_YDR343C': 0}, [0.0, 0.0];{'G_YLR189C': 0}, [0.0, 0.0];{'G_YJL200C': 0}, [0.0, 0.0];{'G_YPL028W': 0}, [0.0, 0.0];{'G_YEL063C': 0}, [0.0, 0.0];{'G_YGL234W': 0}, [0.0, 0.0];{'G_YIL074C': 0}, [0.0, 0.0];{'G_YAL054C': 0}, [0.0, 0.0];{'G_YML059C': 0}, [0.0, 0.0];{'G_YHR208W': 0}, [0.0, 0.0];{'G_YGR037C': 0}, [0.0, 0.0];{'G_YDL067C': 0}, [0.0, 0.0];{'G_YER070W': 0}, [0.0, 0.0];{'G_YCR048W': 0}, [0.0, 0.0];{'G_YLR028C': 0}, [0.0, 0.0];{'G_YBR265W': 0}, [0.0, 0.0];{'G_YIL009W': 0}, [0.0, 0.0];{'G_YDR321W': 0}, [0.0, 0.0];{'G_YLR027C': 0}, [0.0, 0.0];{'G_YMR217W': 0}, [0.0, 0.0];{'G_YPL053C': 0}, [0.0, 0.0];{'G_YFL053W': 0}, [0.0, 0.0];{'G_YPR121W': 0}, [0.0, 0.0];{'G_YOL059W': 0}, [0.0, 0.0];{'G_YEL047C': 0}, [0.0, 0.0];{'G_YKL152C': 0}, [0.0, 0.0];{'G_YDL022W': 0}, [0.0, 0.0];{'G_YMR062C': 0}, [0.0, 0.0];{'G_YML042W': 0}, [0.0, 0.0];{'G_YBL068W': 0}, [0.0, 0.0];{'G_YER015W': 0}, [0.0, 0.0];{'G_YMR011W': 0}, [0.0, 0.0];{'G_YHR094C': 0}, [0.0, 0.0];{'G_YDR453C': 0}, [0.0, 0.0];{'G_YDR399W': 0}, [0.0, 0.0];{'G_YNL117W': 0}, [0.0, 0.0];{'G_YLR438W': 0}, [0.0, 0.0];{'G_YGR175C': 0}, [0.0, 0.0];{'G_YPL273W': 0}, [0.0, 0.0];{'G_YER026C': 0}, [0.0, 0.0];{'G_YDL182W': 0}, [0.0, 0.0];{'G_YKL016C': 0}, [0.0, 0.0];{'G_YGL119W': 0}, [0.0, 0.0];{'G_YDL215C': 0}, [0.0, 0.0];{'G_YPR060C': 0}, [0.0, 0.0];{'G_YGL154C': 0}, [0.0, 0.0];{'G_YNL268W': 0}, [0.0, 0.0];{'G_YCL030C': 0}, [0.0, 0.0];{'G_YKL184W': 0}, [0.0, 0.0];{'G_YKL148C': 0}, [0.0, 0.0];{'G_YOR126C': 0}, [0.0, 0.0];{'G_YLL048C': 0}, [0.0, 0.0];{'G_YPR020W': 0}, [0.0, 0.0];{'G_YHR039C_A': 0}, [0.0, 0.0];{'G_YMR145C': 0}, [0.0, 0.0];{'G_YOL126C': 0}, [0.0, 0.0];{'G_YAL060W': 0}, [0.0, 0.0];{'G_YDL245C': 0}, [0.0, 0.0];{'G_YJR153W': 0}, [0.0, 0.0];{'G_YGR125W': 0}, [0.0, 0.0];{'G_YNL192W': 0}, [0.0, 0.0];{'G_YOR130C': 0}]\n",
      "<built-in function len>\n"
     ]
    }
   ],
   "source": [
    "from mewpy.optimization.evaluation import BPCY, WYIELD\n",
    "from mewpy.problems import GKOProblem\n",
    "from mewpy.optimization import EA\n",
    "from mewpy.simulation import SimulationMethod\n",
    "from reframed.io.sbml import load_cbmodel\n",
    "\n",
    "reframed_model = load_cbmodel('../models/iMM904SL_v6.xml', flavor='cobra')\n",
    "envcond = {'R_EX_glc_e_': (-15, 999999.0), 'R_EX_o2_e_': (0, 999999.0)}\n",
    "\n",
    "PRODUCT_ID = 'R_EX_lac_D_e_'\n",
    "BIOMASS_ID = 'R_biomass_SC5_notrace'\n",
    "GLUC_ID = 'R_EX_glc_e_'\n",
    "reframed_model.set_objective({BIOMASS_ID:1})\n",
    "\n",
    "evaluator_1 = BPCY(BIOMASS_ID, PRODUCT_ID, method = SimulationMethod.lMOMA)\n",
    "evaluator_2 = WYIELD(BIOMASS_ID, PRODUCT_ID)\n",
    "\n",
    "problem = GKOProblem(reframed_model, fevaluation=[evaluator_1, evaluator_2], envcond=envcond, candidate_min_size=1, candidate_max_size=1)\n",
    "ea = EA(problem, max_generations= 10, visualizer=True, mp=True)\n",
    "final_pop = ea.run()\n",
    "print(final_pop)"
   ]
  },
  {
   "cell_type": "code",
   "execution_count": 3,
   "metadata": {
    "pycharm": {
     "name": "#%%\n"
    }
   },
   "outputs": [
    {
     "name": "stdout",
     "output_type": "stream",
     "text": [
      "Running NSGAII\n"
     ]
    },
    {
     "data": {
      "image/png": "[encoded data removed]",
      "text/plain": [
       "<Figure size 432x288 with 1 Axes>"
      ]
     },
     "metadata": {
      "needs_background": "light"
     },
     "output_type": "display_data"
    },
    {
     "name": "stdout",
     "output_type": "stream",
     "text": [
      "Gen    Eval|     Worst      Best    Median   Average   Std Dev|     Worst      Best    Median   Average   Std Dev|\n",
      "   0    100|  0.000000  0.000000  0.000000  0.000000  0.000000|  0.000000  0.000000  0.000000  0.000000  0.000000|\n",
      "   1    200|  0.000000  0.000000  0.000000  0.000000  0.000000|  0.000000  0.000000  0.000000  0.000000  0.000000|\n",
      "   2    300|  0.000000  0.000000  0.000000  0.000000  0.000000|  0.000000  0.000000  0.000000  0.000000  0.000000|\n",
      "   3    400|  0.000000  0.000000  0.000000  0.000000  0.000000|  0.000000  0.000000  0.000000  0.000000  0.000000|\n",
      "   4    500|  0.000000  0.000000  0.000000  0.000000  0.000000|  0.000000  0.000000  0.000000  0.000000  0.000000|\n",
      "   5    600|  0.000000  0.000000  0.000000  0.000000  0.000000|  0.000000  0.000000  0.000000  0.000000  0.000000|\n",
      "[0.0, 0.0];{'G_YLR070C': 0.0625, 'G_YDR342C': 16, 'G_YDR403W': 8, 'G_YGR138C': 0.0625}\n"
     ]
    }
   ],
   "source": [
    "from mewpy.problems import GOUProblem\n",
    "from mewpy.optimization import EA\n",
    "\n",
    "\n",
    "problem = GOUProblem(reframed_model, fevaluation=[evaluator_1, evaluator_2], envcond=envcond, candidate_max_size=5)\n",
    "ea = EA(problem, max_generations= 5, visualizer=True, mp=True)\n",
    "final_pop = ea.run()\n",
    "\n",
    "print(final_pop[0])"
   ]
  },
  {
   "cell_type": "markdown",
   "metadata": {},
   "source": [
    "## Consumo de oxigénio"
   ]
  },
  {
   "cell_type": "code",
   "execution_count": 1,
   "metadata": {},
   "outputs": [
    {
     "name": "stderr",
     "output_type": "stream",
     "text": [
      "/usr/local/lib/python3.7/site-packages/reframed/io/sbml.py:510: UserWarning:\n",
      "\n",
      "Gene association for reaction R_PFL is not DNF\n",
      "\n",
      "/usr/local/lib/python3.7/site-packages/reframed/io/sbml.py:510: UserWarning:\n",
      "\n",
      "Gene association for reaction R_RNDR1 is not DNF\n",
      "\n",
      "/usr/local/lib/python3.7/site-packages/reframed/io/sbml.py:510: UserWarning:\n",
      "\n",
      "Gene association for reaction R_RNDR3 is not DNF\n",
      "\n",
      "/usr/local/lib/python3.7/site-packages/reframed/io/sbml.py:510: UserWarning:\n",
      "\n",
      "Gene association for reaction R_RNDR4 is not DNF\n",
      "\n",
      "/usr/local/lib/python3.7/site-packages/reframed/io/sbml.py:510: UserWarning:\n",
      "\n",
      "Gene association for reaction R_CITL is not DNF\n",
      "\n",
      "/usr/local/lib/python3.7/site-packages/reframed/io/sbml.py:510: UserWarning:\n",
      "\n",
      "Gene association for reaction R_NO3R1bpp is not DNF\n",
      "\n",
      "/usr/local/lib/python3.7/site-packages/reframed/io/sbml.py:510: UserWarning:\n",
      "\n",
      "Gene association for reaction R_NO3R2bpp is not DNF\n",
      "\n",
      "/usr/local/lib/python3.7/site-packages/reframed/io/sbml.py:510: UserWarning:\n",
      "\n",
      "Gene association for reaction R_ATPS4rpp is not DNF\n",
      "\n",
      "/usr/local/lib/python3.7/site-packages/reframed/io/sbml.py:510: UserWarning:\n",
      "\n",
      "Gene association for reaction R_CPGNtonex is not DNF\n",
      "\n",
      "/usr/local/lib/python3.7/site-packages/reframed/io/sbml.py:510: UserWarning:\n",
      "\n",
      "Gene association for reaction R_FE3DCITtonex is not DNF\n",
      "\n",
      "/usr/local/lib/python3.7/site-packages/reframed/io/sbml.py:510: UserWarning:\n",
      "\n",
      "Gene association for reaction R_FEENTERtonex is not DNF\n",
      "\n",
      "/usr/local/lib/python3.7/site-packages/reframed/io/sbml.py:510: UserWarning:\n",
      "\n",
      "Gene association for reaction R_RNDR3b is not DNF\n",
      "\n",
      "/usr/local/lib/python3.7/site-packages/reframed/io/sbml.py:510: UserWarning:\n",
      "\n",
      "Gene association for reaction R_RNDR4b is not DNF\n",
      "\n",
      "/usr/local/lib/python3.7/site-packages/reframed/io/sbml.py:510: UserWarning:\n",
      "\n",
      "Gene association for reaction R_RNDR1b is not DNF\n",
      "\n",
      "/usr/local/lib/python3.7/site-packages/reframed/io/sbml.py:510: UserWarning:\n",
      "\n",
      "Gene association for reaction R_RNDR2b is not DNF\n",
      "\n",
      "/usr/local/lib/python3.7/site-packages/reframed/io/sbml.py:510: UserWarning:\n",
      "\n",
      "Gene association for reaction R_INDOLEt2pp is not DNF\n",
      "\n",
      "/usr/local/lib/python3.7/site-packages/reframed/io/sbml.py:510: UserWarning:\n",
      "\n",
      "Gene association for reaction R_FECRMtonex is not DNF\n",
      "\n",
      "/usr/local/lib/python3.7/site-packages/reframed/io/sbml.py:510: UserWarning:\n",
      "\n",
      "Gene association for reaction R_FE3HOXtonex is not DNF\n",
      "\n",
      "/usr/local/lib/python3.7/site-packages/reframed/io/sbml.py:510: UserWarning:\n",
      "\n",
      "Gene association for reaction R_FHL is not DNF\n",
      "\n",
      "/usr/local/lib/python3.7/site-packages/reframed/io/sbml.py:510: UserWarning:\n",
      "\n",
      "Gene association for reaction R_RNDR2 is not DNF\n",
      "\n",
      "/usr/local/lib/python3.7/site-packages/reframed/io/sbml.py:510: UserWarning:\n",
      "\n",
      "Gene association for reaction R_CELBpts is not DNF\n",
      "\n",
      "/usr/local/lib/python3.7/site-packages/reframed/io/sbml.py:510: UserWarning:\n",
      "\n",
      "Gene association for reaction R_FE3DHBZStonex is not DNF\n",
      "\n",
      "/usr/local/lib/python3.7/site-packages/reframed/io/sbml.py:510: UserWarning:\n",
      "\n",
      "Gene association for reaction R_FEOXAMtonex is not DNF\n",
      "\n",
      "/usr/local/lib/python3.7/site-packages/reframed/io/sbml.py:510: UserWarning:\n",
      "\n",
      "Gene association for reaction R_OBTFL is not DNF\n",
      "\n",
      "/usr/local/lib/python3.7/site-packages/reframed/io/sbml.py:510: UserWarning:\n",
      "\n",
      "Gene association for reaction R_CHTBSptspp is not DNF\n",
      "\n",
      "/usr/local/lib/python3.7/site-packages/reframed/io/sbml.py:510: UserWarning:\n",
      "\n",
      "Gene association for reaction R_CBL1tonex is not DNF\n",
      "\n",
      "/usr/local/lib/python3.7/site-packages/reframed/io/sbml.py:510: UserWarning:\n",
      "\n",
      "Gene association for reaction R_CBItonex is not DNF\n",
      "\n",
      "/usr/local/lib/python3.7/site-packages/reframed/io/sbml.py:510: UserWarning:\n",
      "\n",
      "Gene association for reaction R_ADOCBLtonex is not DNF\n",
      "\n"
     ]
    },
    {
     "name": "stdout",
     "output_type": "stream",
     "text": [
      "Running NSGAII\n"
     ]
    },
    {
     "data": {
      "image/png": "[encoded data removed]",
      "text/plain": [
       "<Figure size 432x288 with 1 Axes>"
      ]
     },
     "metadata": {
      "needs_background": "light"
     },
     "output_type": "display_data"
    },
    {
     "name": "stdout",
     "output_type": "stream",
     "text": [
      "Gen    Eval|     Worst      Best    Median   Average   Std Dev|     Worst      Best    Median   Average   Std Dev|\n",
      "   0    100|  0.000000  0.000000  0.000000  0.000000  0.000000|  0.000000  0.000000  0.000000  0.000000  0.000000|\n",
      "   1    200|  0.000000  0.000000  0.000000  0.000000  0.000000|  0.000000  0.000000  0.000000  0.000000  0.000000|\n",
      "   2    300|  0.000000  0.000000  0.000000  0.000000  0.000000|  0.000000  0.000000  0.000000  0.000000  0.000000|\n",
      "   3    400|  0.000000  0.000000  0.000000  0.000000  0.000000|  0.000000  0.000000  0.000000  0.000000  0.000000|\n",
      "   4    500|  0.000000  0.000000  0.000000  0.000000  0.000000|  0.000000  0.000000  0.000000  0.000000  0.000000|\n",
      "   5    600|  0.000000  0.000000  0.000000  0.000000  0.000000|  0.000000  0.000000  0.000000  0.000000  0.000000|\n",
      "[[0.0, 0.0];{'G_b3137': 0}, [0.0, 0.0];{'G_b3517': 0}, [0.0, 0.0];{'G_b2418': 0}, [0.0, 0.0];{'G_b2801': 0}, [0.0, 0.0];{'G_b1521': 0}, [0.0, 0.0];{'G_b0334': 0}, [0.0, 0.0];{'G_b4196': 0}, [0.0, 0.0];{'G_b3752': 0}, [0.0, 0.0];{'G_b2097': 0}, [0.0, 0.0];{'G_b0002': 0}, [0.0, 0.0];{'G_b3945': 0}, [0.0, 0.0];{'G_b0061': 0}, [0.0, 0.0];{'G_b1487': 0}, [0.0, 0.0];{'G_b1761': 0}, [0.0, 0.0];{'G_b4233': 0}, [0.0, 0.0];{'G_b0651': 0}, [0.0, 0.0];{'G_b0199': 0}, [0.0, 0.0];{'G_b0066': 0}, [0.0, 0.0];{'G_b0785': 0}, [0.0, 0.0];{'G_b1246': 0}, [0.0, 0.0];{'G_b3480': 0}, [0.0, 0.0];{'G_b0158': 0}, [0.0, 0.0];{'G_b0826': 0}, [0.0, 0.0];{'G_b1513': 0}, [0.0, 0.0];{'G_b3117': 0}, [0.0, 0.0];{'G_b1515': 0}, [0.0, 0.0];{'G_b2799': 0}, [0.0, 0.0];{'G_b3475': 0}, [0.0, 0.0];{'G_b0337': 0}, [0.0, 0.0];{'G_b1617': 0}, [0.0, 0.0];{'G_b3605': 0}, [0.0, 0.0];{'G_b3893': 0}, [0.0, 0.0];{'G_b3867': 0}, [0.0, 0.0];{'G_b0114': 0}, [0.0, 0.0];{'G_b1794': 0}, [0.0, 0.0];{'G_b0509': 0}, [0.0, 0.0];{'G_b1748': 0}, [0.0, 0.0];{'G_b0632': 0}, [0.0, 0.0];{'G_b0348': 0}, [0.0, 0.0];{'G_b0937': 0}, [0.0, 0.0];{'G_b0269': 0}, [0.0, 0.0];{'G_b3063': 0}, [0.0, 0.0];{'G_b2508': 0}, [0.0, 0.0];{'G_b4268': 0}, [0.0, 0.0];{'G_b3789': 0}, [0.0, 0.0];{'G_b0896': 0}, [0.0, 0.0];{'G_b3365': 0}, [0.0, 0.0];{'G_b2423': 0}, [0.0, 0.0];{'G_b0116': 0}, [0.0, 0.0];{'G_b1398': 0}, [0.0, 0.0];{'G_b0839': 0}, [0.0, 0.0];{'G_b3715': 0}, [0.0, 0.0];{'G_b3733': 0}, [0.0, 0.0];{'G_b0931': 0}, [0.0, 0.0];{'G_b0903': 0}, [0.0, 0.0];{'G_b4544': 0}, [0.0, 0.0];{'G_b3028': 0}, [0.0, 0.0];{'G_b0842': 0}, [0.0, 0.0];{'G_b2868': 0}, [0.0, 0.0];{'G_b3519': 0}, [0.0, 0.0];{'G_b4297': 0}, [0.0, 0.0];{'G_b3737': 0}, [0.0, 0.0];{'G_b4136': 0}, [0.0, 0.0];{'G_b2976': 0}, [0.0, 0.0];{'G_b4169': 0}, [0.0, 0.0];{'G_b4478': 0}, [0.0, 0.0];{'G_b3829': 0}, [0.0, 0.0];{'G_b1801': 0}, [0.0, 0.0];{'G_b0929': 0}, [0.0, 0.0];{'G_b0628': 0}, [0.0, 0.0];{'G_b3583': 0}, [0.0, 0.0];{'G_b0511': 0}, [0.0, 0.0];{'G_b1872': 0}, [0.0, 0.0];{'G_b0367': 0}, [0.0, 0.0];{'G_b3115': 0}, [0.0, 0.0];{'G_b2488': 0}, [0.0, 0.0];{'G_b3290': 0}, [0.0, 0.0];{'G_b3493': 0}, [0.0, 0.0];{'G_b3580': 0}, [0.0, 0.0];{'G_b1216': 0}, [0.0, 0.0];{'G_b2927': 0}, [0.0, 0.0];{'G_b0008': 0}, [0.0, 0.0];{'G_b3567': 0}, [0.0, 0.0];{'G_b1854': 0}, [0.0, 0.0];{'G_b4032': 0}, [0.0, 0.0];{'G_b0751': 0}, [0.0, 0.0];{'G_b1476': 0}, [0.0, 0.0];{'G_b3425': 0}, [0.0, 0.0];{'G_b2146': 0}, [0.0, 0.0];{'G_b2378': 0}, [0.0, 0.0];{'G_b3450': 0}, [0.0, 0.0];{'G_b0077': 0}, [0.0, 0.0];{'G_b0030': 0}, [0.0, 0.0];{'G_b0841': 0}, [0.0, 0.0];{'G_b1247': 0}, [0.0, 0.0];{'G_b2200': 0}, [0.0, 0.0];{'G_b4231': 0}, [0.0, 0.0];{'G_b4288': 0}, [0.0, 0.0];{'G_b2975': 0}, [0.0, 0.0];{'G_b1781': 0}]\n",
      "<built-in function len>\n"
     ]
    }
   ],
   "source": [
    "from mewpy.optimization.evaluation import BPCY, WYIELD\n",
    "from mewpy.problems import GKOProblem\n",
    "from mewpy.optimization import EA\n",
    "from mewpy.simulation import SimulationMethod\n",
    "from reframed.io.sbml import load_cbmodel\n",
    "reframed_model = load_cbmodel('../models/iML1515.xml')\n",
    "\n",
    "envcond = {'R_EX_glc__D_e': (-15, 999999.0)}\n",
    "\n",
    "PRODUCT_ID = 'R_EX_lac__D_e'\n",
    "BIOMASS_ID = 'R_Biomass_Ec_iML1515_core_75p37M'\n",
    "\n",
    "evaluator_1 = BPCY(BIOMASS_ID, PRODUCT_ID, method = SimulationMethod.lMOMA)\n",
    "evaluator_2 = WYIELD(BIOMASS_ID, PRODUCT_ID)\n",
    "\n",
    "problem = GKOProblem(reframed_model, fevaluation=[evaluator_1, evaluator_2], envcond=envcond, candidate_min_size=1, candidate_max_size=1)\n",
    "ea = EA(problem, max_generations=5, visualizer=True, mp=True)\n",
    "final_pop = ea.run()\n",
    "print(final_pop)\n",
    "print(len)"
   ]
  },
  {
   "cell_type": "code",
   "execution_count": 2,
   "metadata": {},
   "outputs": [
    {
     "name": "stdout",
     "output_type": "stream",
     "text": [
      "Running NSGAII\n"
     ]
    },
    {
     "data": {
      "image/png": "[encoded data removed]",
      "text/plain": [
       "<Figure size 432x288 with 1 Axes>"
      ]
     },
     "metadata": {
      "needs_background": "light"
     },
     "output_type": "display_data"
    },
    {
     "name": "stdout",
     "output_type": "stream",
     "text": [
      "Gen    Eval|     Worst      Best    Median   Average   Std Dev|     Worst      Best    Median   Average   Std Dev|\n",
      "   0    100|  0.000000  0.000000  0.000000  0.000000  0.000000|  0.000000  0.000000  0.000000  0.000000  0.000000|\n",
      "   1    200|  0.000000  0.000000  0.000000  0.000000  0.000000|  0.000000  0.000000  0.000000  0.000000  0.000000|\n",
      "   2    300|  0.000000  0.000000  0.000000  0.000000  0.000000|  0.000000  0.000000  0.000000  0.000000  0.000000|\n",
      "   3    400|  0.000000  0.000000  0.000000  0.000000  0.000000|  0.000000  0.000000  0.000000  0.000000  0.000000|\n",
      "   4    500|  0.000000  0.000000  0.000000  0.000000  0.000000|  0.000000  0.000000  0.000000  0.000000  0.000000|\n",
      "   5    600|  0.000000  0.000000  0.000000  0.000000  0.000000|  0.000000  0.000000  0.000000  0.000000  0.000000|\n",
      "   6    700|  0.000000  0.000000  0.000000  0.000000  0.000000|  0.000000  0.000000  0.000000  0.000000  0.000000|\n",
      "   7    800|  0.000000  0.000000  0.000000  0.000000  0.000000|  0.000000  0.000000  0.000000  0.000000  0.000000|\n",
      "   8    900|  0.000000  0.000000  0.000000  0.000000  0.000000|  0.000000  0.000000  0.000000  0.000000  0.000000|\n",
      "   9   1000|  0.000000  0.000000  0.000000  0.000000  0.000000|  0.000000  0.000000  0.000000  0.000000  0.000000|\n",
      "  10   1100|  0.000000  0.000000  0.000000  0.000000  0.000000|  0.000000  0.000000  0.000000  0.000000  0.000000|\n",
      "[0.0, 0.0];{'G_b2366': 0.125, 'G_b3496': 32, 'G_b1094': 16, 'G_b2260': 0.03125, 'G_b0910': 0}\n"
     ]
    }
   ],
   "source": [
    "from mewpy.problems import GOUProblem\n",
    "from mewpy.optimization import EA\n",
    "\n",
    "\n",
    "problem = GOUProblem(reframed_model, fevaluation=[evaluator_1, evaluator_2], envcond=envcond, candidate_max_size=5)\n",
    "ea = EA(problem, max_generations= 10, visualizer=True, mp=True)\n",
    "final_pop = ea.run()\n",
    "\n",
    "print(final_pop[0])"
   ]
  }
 ],
 "metadata": {
  "kernelspec": {
   "display_name": "Python 3",
   "language": "python",
   "name": "python3"
  },
  "language_info": {
   "codemirror_mode": {
    "name": "ipython",
    "version": 3
   },
   "file_extension": ".py",
   "mimetype": "text/x-python",
   "name": "python",
   "nbconvert_exporter": "python",
   "pygments_lexer": "ipython3",
   "version": "3.7.9"
  }
 },
 "nbformat": 4,
 "nbformat_minor": 1
}
