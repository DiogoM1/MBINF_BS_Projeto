{
 "cells": [
  {
   "cell_type": "markdown",
   "metadata": {
    "collapsed": true,
    "pycharm": {
     "name": "#%% md\n"
    }
   },
   "source": [
    "# Parte 1 - Implementação de problema de FBA\n",
    "## 1. Qual é a produção de lactato da estirpe selvagem?\n",
    "\n",
    "Para avaliar a produção de lactato foi primeiro necessário definir as condições ambientes e obter a função objetivo.\n",
    "As condições ambientais foram definidas como o consumo de oxigénio de 0 mmol/gDW/h e cosumo de glicose de 15 mmol/gDW/h.\n",
    "Foi depois obtida a função objetivo (declaração matemática do que deve ser realizado), neste caso para a produção ótima do composto desejado.\n",
    "Verificou-se que nas condições especificados não existe produção de lactato, ou seja, são produzidos 0 mm/gDW/h de lactato.."
   ]
  },
  {
   "cell_type": "code",
   "execution_count": null,
   "metadata": {
    "scrolled": true
   },
   "outputs": [],
   "source": [
    "from reframed.io.sbml import load_cbmodel\n",
    "reframed_model = load_cbmodel('../models/iML1515.xml', flavor='fbc2')\n",
    "\n",
    "from cobra.io import read_sbml_model\n",
    "model = read_sbml_model('../models/iML1515.xml')\n",
    "\n",
    "from mewpy.simulation import get_simulator\n",
    "simul = get_simulator(reframed_model)\n",
    "\n",
    "envcond = {'R_EX_glc__D_e': (-15, 1000), 'R_EX_o2_e': (0, 1000)}\n",
    "\n",
    "simul = get_simulator(reframed_model, envcond=envcond)\n",
    "print(simul)\n",
    "result = simul.simulate(method='FBA')\n",
    "print(result)\n",
    "\n",
    "dt = result.fluxes\n",
    "\n",
    "production = 0\n",
    "for i in dt:\n",
    "    if i == 'R_EX_lac__L_e' or i == 'R_EX_lac__D_e':\n",
    "        production += dt[i]\n",
    "\n",
    "print(\"A produção de lactato para as condições ambientais de Oxigénio = 0 mmol/gDW/h e Glicose = 15 mmol/gDW/h é: {0} mmol/gDW/h.\".format(production))"
   ]
  },
  {
   "cell_type": "markdown",
   "metadata": {
    "pycharm": {
     "name": "#%% md\n"
    }
   },
   "source": [
    "## 2. What are the maximum compoundproduction capabilities?"
   ]
  },
  {
   "cell_type": "code",
   "execution_count": 12,
   "metadata": {
    "pycharm": {
     "name": "#%%\n"
    }
   },
   "outputs": [
    {
     "name": "stdout",
     "output_type": "stream",
     "text": [
      "Metabolites:\n",
      "c 1071\n",
      "e 341\n",
      "p 465\n",
      "\n",
      "Reactions:\n",
      "enzymatic 1476\n",
      "transport 833\n",
      "exchange 337\n",
      "sink 0\n",
      "other 66\n"
     ]
    },
    {
     "data": {
      "text/plain": [
       "{'R_EX_lac__L_e': [0.0, 1.1141818181817698],\n",
       " 'R_EX_lac__D_e': [0.0, 12.255999999998616]}"
      ]
     },
     "execution_count": 12,
     "metadata": {},
     "output_type": "execute_result"
    }
   ],
   "source": [
    "# identificar os metabolitos externos\n",
    "reframed_model.summary()\n",
    "\n",
    "\n",
    "# identificar as reações do metabolito pretendido (lactato)\n",
    "reframed_model.metabolites[\"M_lac__L_e\"]\n",
    "reframed_model.metabolites[\"M_lac__D_e\"]\n",
    "\n",
    "# pode calcular-se a produção máxima em wildtype mantendo a função objectivo de maximização do crescimento, usando FVA\n",
    "simul.FVA(reactions=['R_EX_lac__L_e', 'R_EX_lac__D_e'])\n",
    "#OU\n",
    "\n",
    "# podemos alterar a função objectivo para maximização da produção de lactato e depois analisar o fluxo minimo e maximo usando FVA\n",
    "# não está completo, são duas reações objectivo\n",
    "simul.objective = {'R_EX_lac__L_e': -1, 'R_EX_lac__D_e': -1}\n",
    "simul.objective\n",
    "simul.FVA(reactions=['R_EX_lac__L_e', 'R_EX_lac__D_e'])"
   ]
  },
  {
   "cell_type": "markdown",
   "metadata": {
    "pycharm": {
     "name": "#%% md\n"
    }
   },
   "source": [
    "## 3. Use different optimization objective functionsto improve the production of  the compound, considering  that  cells  have  evolved  for  maximum growth."
   ]
  },
  {
   "cell_type": "code",
   "execution_count": null,
   "metadata": {
    "pycharm": {
     "name": "#%%\n"
    }
   },
   "outputs": [],
   "source": [
    "from mewpy.optimization.evaluation import BPCY, TargetFlux, WYIELD, BPCY_FVA\n",
    "from mewpy.problems import GKOProblem\n",
    "from mewpy.optimization import EA\n",
    "from mewpy.simulation import SimulationMethod\n",
    "from mewpy.optimization import set_default_engine\n",
    "\n",
    "set_default_engine('jmetal')\n",
    "\n",
    "print(\"4\")\n",
    "PRODUCT_ID = 'EX_lac__D_e'\n",
    "BIOMASS_ID = 'Biomass_Ec_iML1515_core_75p37M'\n",
    "GLUC_ID = 'EX_glc__D_e'\n",
    "\n",
    "print(\"3\")\n",
    "evaluator_1 = BPCY(BIOMASS_ID, PRODUCT_ID, method = SimulationMethod.lMOMA)\n",
    "evaluator_2 = WYIELD(BIOMASS_ID, PRODUCT_ID)\n",
    "print(\"2\")\n",
    "problem = GKOProblem(model, fevaluation=[evaluator_1, evaluator_2], envcond=envcond, candidate_max_size=1)\n",
    "print(\"1\")\n",
    "ea = EA(problem, max_generations= 10, visualizer=True, mp=True)\n",
    "final_pop = ea.run()\n",
    "print(final_pop)\n",
    "print(len)\n",
    "print(final_pop[1])\n",
    "print(final_pop.values())"
   ]
  },
  {
   "cell_type": "code",
   "execution_count": 26,
   "metadata": {
    "scrolled": true
   },
   "outputs": [
    {
     "name": "stdout",
     "output_type": "stream",
     "text": [
      "4\n",
      "3\n",
      "2\n",
      "1\n",
      "Running NSGAII\n"
     ]
    },
    {
     "data": {
      "image/png": "[encoded data removed]",
      "text/plain": [
       "<Figure size 432x288 with 1 Axes>"
      ]
     },
     "metadata": {
      "needs_background": "light"
     },
     "output_type": "display_data"
    },
    {
     "name": "stdout",
     "output_type": "stream",
     "text": [
      "Gen    Eval|     Worst      Best    Median   Average   Std Dev|     Worst      Best    Median   Average   Std Dev|\n",
      "   0    100|  0.000000  0.000000  0.000000  0.000000  0.000000|  0.000000  0.000000  0.000000  0.000000  0.000000|\n",
      "   1    200|  0.000000  0.000000  0.000000  0.000000  0.000000|  0.000000  0.000000  0.000000  0.000000  0.000000|\n",
      "   2    300|  0.000000  0.000000  0.000000  0.000000  0.000000|  0.000000  0.000000  0.000000  0.000000  0.000000|\n",
      "   3    400|  0.000000  0.000000  0.000000  0.000000  0.000000|  0.000000  0.000000  0.000000  0.000000  0.000000|\n",
      "   4    500|  0.000000  0.000000  0.000000  0.000000  0.000000|  0.000000  0.000000  0.000000  0.000000  0.000000|\n",
      "   5    600|  0.000000  0.000000  0.000000  0.000000  0.000000|  0.000000  0.000000  0.000000  0.000000  0.000000|\n",
      "   6    700|  0.000000  0.000000  0.000000  0.000000  0.000000|  0.000000  0.000000  0.000000  0.000000  0.000000|\n",
      "   7    800|  0.000000  0.000000  0.000000  0.000000  0.000000|  0.000000  0.000000  0.000000  0.000000  0.000000|\n",
      "   8    900|  0.000000  0.000000  0.000000  0.000000  0.000000|  0.000000  0.000000  0.000000  0.000000  0.000000|\n",
      "   9   1000|  0.000000  0.000000  0.000000  0.000000  0.000000|  0.000000  0.000000  0.000000  0.000000  0.000000|\n",
      "  10   1100|  0.000000  0.000000  0.000000  0.000000  0.000000|  0.000000  0.000000  0.000000  0.000000  0.000000|\n",
      "[[0.0, 0.0];{'G_b2178': 0.125, 'G_b3416': 0.5}, [0.0, 0.0];{'G_b1102': 32, 'G_b3189': 4, 'G_b2780': 0, 'G_b0114': 0.25}, [0.0, 0.0];{'G_b0996': 0.0625, 'G_b0697': 2, 'G_b3882': 0, 'G_b3137': 4, 'G_b0963': 0.03125}, [0.0, 0.0];{'G_b2028': 0, 'G_b2416': 0.03125, 'G_b2373': 16, 'G_b0032': 0.5}, [0.0, 0.0];{'G_b3749': 0.125, 'G_b0968': 0.0625, 'G_b2866': 0.03125}, [0.0, 0.0];{'G_b2965': 32, 'G_b4115': 4, 'G_b0697': 2, 'G_b0827': 0.5}, [0.0, 0.0];{'G_b2223': 16, 'G_b0720': 0.5, 'G_b2422': 4, 'G_b3849': 0.03125, 'G_b3200': 4}, [0.0, 0.0];{'G_b3749': 0.125, 'G_b3540': 16, 'G_b0084': 0.0625, 'G_b0511': 0}, [0.0, 0.0];{'G_b4383': 16, 'G_b2927': 4, 'G_b0752': 4, 'G_b0074': 0.0625, 'G_b1901': 16}, [0.0, 0.0];{'G_b1483': 0.25, 'G_b2154': 0.5, 'G_b1443': 0.03125, 'G_b1069': 32, 'G_b1090': 0.03125}, [0.0, 0.0];{'G_b0153': 0, 'G_b0151': 0, 'G_b3642': 0.25, 'G_b4069': 0.03125}, [0.0, 0.0];{'G_b3073': 0.5, 'G_b0727': 0.0625, 'G_b3860': 8, 'G_b1326': 0.25}, [0.0, 0.0];{'G_b2710': 0.5, 'G_b0861': 32, 'G_b1094': 0.03125}, [0.0, 0.0];{'G_b3182': 4, 'G_b0066': 0, 'G_b1019': 4, 'G_b0763': 8, 'G_b4219': 0.5}, [0.0, 0.0];{'G_b0972': 0.125, 'G_b0063': 0.5, 'G_b0723': 32, 'G_b2263': 0.0625}, [0.0, 0.0];{'G_b2430': 0.125, 'G_b0047': 0.5, 'G_b0273': 0.5}, [0.0, 0.0];{'G_b2203': 0, 'G_b2813': 0.125}, [0.0, 0.0];{'G_b2022': 0.25, 'G_b2715': 0.5, 'G_b3915': 8, 'G_b0351': 0, 'G_b0641': 0.0625}, [0.0, 0.0];{'G_b4468': 4, 'G_b1733': 0.03125, 'G_b4356': 2, 'G_b4478': 0.25}, [0.0, 0.0];{'G_b3731': 0.03125, 'G_b3199': 8, 'G_b2253': 0.25}, [0.0, 0.0];{'G_b2838': 0.03125, 'G_b0198': 8, 'G_b2920': 0, 'G_b4073': 0.125, 'G_b1854': 0.0625}, [0.0, 0.0];{'G_b2888': 0.125, 'G_b1592': 0.25, 'G_b2040': 16}, [0.0, 0.0];{'G_b1245': 0, 'G_b3738': 2, 'G_b2924': 0.0625, 'G_b4015': 0, 'G_b2282': 0.5}, [0.0, 0.0];{'G_b1740': 4, 'G_b3619': 0.25, 'G_b2288': 8, 'G_b2096': 16}, [0.0, 0.0];{'G_b3415': 0.25, 'G_b0185': 0.03125, 'G_b3091': 32, 'G_b3571': 16}, [0.0, 0.0];{'G_b1701': 0.03125, 'G_b3551': 0.03125, 'G_b2065': 4, 'G_b1226': 0.25, 'G_b3253': 0.5}, [0.0, 0.0];{'G_b0003': 0.5, 'G_b0420': 0.0625, 'G_b1662': 0.25, 'G_b0007': 0.03125}, [0.0, 0.0];{'G_b4262': 0.03125, 'G_b1821': 8, 'G_b2307': 16, 'G_b0019': 2, 'G_b3224': 32}, [0.0, 0.0];{'G_b1189': 32, 'G_b2149': 2}, [0.0, 0.0];{'G_b3480': 16, 'G_b3785': 0.5, 'G_b4092': 0.125, 'G_b2342': 0.03125}, [0.0, 0.0];{'G_b3918': 0.03125, 'G_b2587': 32, 'G_b2799': 16}, [0.0, 0.0];{'G_b3540': 16, 'G_b2687': 4, 'G_b0511': 0}, [0.0, 0.0];{'G_b3600': 0.125, 'G_b2923': 0.03125}, [0.0, 0.0];{'G_b3749': 0.125, 'G_b0084': 0.0625}, [0.0, 0.0];{'G_b3224': 32, 'G_b4173': 0.125, 'G_b2564': 0.03125}, [0.0, 0.0];{'G_b4208': 0.25, 'G_b0433': 8}, [0.0, 0.0];{'G_b0692': 0.0625, 'G_b3589': 0, 'G_b4090': 32, 'G_b3770': 0.5}, [0.0, 0.0];{'G_b4079': 8, 'G_b0651': 0.03125, 'G_b2096': 32}, [0.0, 0.0];{'G_b1069': 32, 'G_b2167': 4, 'G_b1090': 0.03125}, [0.0, 0.0];{'G_b2303': 8, 'G_b2751': 0.5, 'G_b4014': 4}, [0.0, 0.0];{'G_b4146': 0.03125, 'G_b0697': 2, 'G_b4115': 4}, [0.0, 0.0];{'G_b1224': 0.25, 'G_b1059': 4, 'G_b2329': 2, 'G_b1662': 8}, [0.0, 0.0];{'G_b0720': 2}, [0.0, 0.0];{'G_b0523': 4, 'G_b1606': 0.03125, 'G_b0116': 0.03125, 'G_b2482': 0.125}, [0.0, 0.0];{'G_b1640': 2, 'G_b2540': 0.125, 'G_b3455': 4, 'G_b1448': 32, 'G_b3579': 32}, [0.0, 0.0];{'G_b2440': 0.5, 'G_b3198': 0.5, 'G_b2663': 0.03125, 'G_b3137': 4, 'G_b0767': 0}, [0.0, 0.0];{'G_b0047': 0.5, 'G_b0752': 4, 'G_b1901': 16, 'G_b0386': 4, 'G_b4039': 0.03125}, [0.0, 0.0];{'G_b2965': 32, 'G_b0827': 0.5}, [0.0, 0.0];{'G_b4390': 0.5, 'G_b3603': 8}, [0.0, 0.0];{'G_b2965': 32, 'G_b1486': 8, 'G_b4006': 16}, [0.0, 0.0];{'G_b1102': 0, 'G_b3749': 0.03125, 'G_b2285': 0.0625}, [0.0, 0.0];{'G_b3070': 0.5, 'G_b1483': 0.25, 'G_b2154': 0.5, 'G_b1443': 0.03125, 'G_b2818': 2}, [0.0, 0.0];{'G_b3212': 0.0625, 'G_b2601': 0, 'G_b0428': 0.5}, [0.0, 0.0];{'G_b1488': 2, 'G_b3774': 0.0625, 'G_b1252': 0.03125, 'G_b0367': 0}, [0.0, 0.0];{'G_b3057': 0.0625, 'G_b0734': 0.5, 'G_b0417': 4, 'G_b1341': 32, 'G_b3431': 8}, [0.0, 0.0];{'G_b0784': 0, 'G_b3089': 0.0625, 'G_b2329': 0.0625, 'G_b4245': 8, 'G_b0511': 0}, [0.0, 0.0];{'G_b0515': 0, 'G_b1296': 0, 'G_b0597': 0.0625}, [0.0, 0.0];{'G_b4090': 0.0625, 'G_b1747': 16, 'G_b2528': 32, 'G_b0957': 0}, [0.0, 0.0];{'G_b1391': 0, 'G_b2178': 16, 'G_b2818': 16}, [0.0, 0.0];{'G_b2014': 0.5, 'G_b1397': 8, 'G_b0767': 0.25, 'G_b4392': 4, 'G_b3011': 32}, [0.0, 0.0];{'G_b1261': 0.5, 'G_b2223': 32, 'G_b3843': 8}, [0.0, 0.0];{'G_b2587': 2, 'G_b1363': 0.25, 'G_b2371': 4, 'G_b1388': 0.03125}, [0.0, 0.0];{'G_b4219': 4, 'G_b1794': 0.25, 'G_b3610': 2, 'G_b1225': 32, 'G_b0314': 0}, [0.0, 0.0];{'G_b3730': 0, 'G_b1859': 16, 'G_b3870': 0.03125}, [0.0, 0.0];{'G_b3189': 4, 'G_b1636': 32, 'G_b4153': 0.03125, 'G_b3737': 0.25, 'G_b2780': 0}, [0.0, 0.0];{'G_b3455': 0.125, 'G_b0811': 32, 'G_b3994': 32, 'G_b2035': 0.0625}, [0.0, 0.0];{'G_b4197': 8, 'G_b0125': 2, 'G_b1262': 0.0625, 'G_b3821': 2, 'G_b1096': 4}, [0.0, 0.0];{'G_b0423': 0.125, 'G_b3525': 4, 'G_b2797': 0.03125, 'G_b2930': 8}, [0.0, 0.0];{'G_b2888': 0.25, 'G_b4106': 0.03125, 'G_b0428': 0.0625}, [0.0, 0.0];{'G_b0933': 2, 'G_b0692': 2, 'G_b3172': 0}, [0.0, 0.0];{'G_b4071': 4, 'G_b0617': 0.25}, [0.0, 0.0];{'G_b3281': 0.5, 'G_b3590': 4}, [0.0, 0.0];{'G_b3804': 0.125, 'G_b1238': 0}, [0.0, 0.0];{'G_b1485': 0.5, 'G_b2066': 0.125}, [0.0, 0.0];{'G_b1398': 2, 'G_b0493': 0.25, 'G_b4383': 0.125, 'G_b0182': 0.25, 'G_b2937': 2}, [0.0, 0.0];{'G_b1832': 4, 'G_b0430': 8}, [0.0, 0.0];{'G_b0074': 0.0625, 'G_b4383': 16, 'G_b2927': 4}, [0.0, 0.0];{'G_b2919': 0.03125, 'G_b4240': 0.25, 'G_b2704': 2}, [0.0, 0.0];{'G_b2223': 16, 'G_b3849': 0.03125, 'G_b3200': 4, 'G_b0543': 4, 'G_b4123': 2}, [0.0, 0.0];{'G_b1897': 8, 'G_b2868': 0.0625, 'G_b1518': 0.25}, [0.0, 0.0];{'G_b3744': 0.5, 'G_b3578': 0.5, 'G_b2476': 16, 'G_b0811': 8}, [0.0, 0.0];{'G_b0783': 0.125, 'G_b1033': 8, 'G_b1737': 8}, [0.0, 0.0];{'G_b0937': 0.5, 'G_b4073': 0.5, 'G_b2521': 32}, [0.0, 0.0];{'G_b2995': 0.125, 'G_b3650': 16, 'G_b1812': 0.25, 'G_b3428': 16}, [0.0, 0.0];{'G_b3182': 0, 'G_b3240': 0, 'G_b0103': 32}, [0.0, 0.0];{'G_b0856': 0, 'G_b0767': 8, 'G_b0072': 32, 'G_b4100': 4}, [0.0, 0.0];{'G_b0032': 0.5, 'G_b2964': 0.03125, 'G_b2028': 0, 'G_b0334': 8, 'G_b4098': 0}, [0.0, 0.0];{'G_b3952': 8, 'G_b0732': 0}, [0.0, 0.0];{'G_b2557': 0.5, 'G_b2601': 0.25, 'G_b0007': 8}, [0.0, 0.0];{'G_b3564': 32, 'G_b3627': 0.25, 'G_b3256': 0, 'G_b4237': 16}, [0.0, 0.0];{'G_b1704': 0.03125, 'G_b0968': 0.0625, 'G_b2866': 0.03125}, [0.0, 0.0];{'G_b3070': 2, 'G_b3992': 0, 'G_b3599': 0.03125, 'G_b3266': 16, 'G_b1388': 0.25}, [0.0, 0.0];{'G_b2239': 0.125, 'G_b1654': 0.0625, 'G_b1285': 2, 'G_b2373': 0.125}, [0.0, 0.0];{'G_b1102': 32, 'G_b2905': 2, 'G_b1605': 16, 'G_b0114': 0.25}, [0.0, 0.0];{'G_b4090': 0.0625, 'G_b2024': 16, 'G_b3028': 0, 'G_b1912': 16, 'G_b2210': 0.03125}, [0.0, 0.0];{'G_b3639': 4, 'G_b1801': 0.125, 'G_b2827': 0.03125}, [0.0, 0.0];{'G_b1463': 32, 'G_b0933': 0.25, 'G_b3876': 0.03125, 'G_b1019': 0.25}, [0.0, 0.0];{'G_b2677': 8, 'G_b0996': 0.0625, 'G_b0697': 2, 'G_b3882': 0, 'G_b0963': 0.03125}, [0.0, 0.0];{'G_b0726': 0.25, 'G_b2994': 0.0625}, [0.0, 0.0];{'G_b3885': 4, 'G_b0515': 16, 'G_b0348': 0.125, 'G_b4213': 0}]\n",
      "<built-in function len>\n",
      "[0.0, 0.0];{'G_b1102': 32, 'G_b3189': 4, 'G_b2780': 0, 'G_b0114': 0.25}\n"
     ]
    },
    {
     "ename": "AttributeError",
     "evalue": "'list' object has no attribute 'values'",
     "output_type": "error",
     "traceback": [
      "\u001b[0;31m---------------------------------------------------------------------------\u001b[0m",
      "\u001b[0;31mAttributeError\u001b[0m                            Traceback (most recent call last)",
      "\u001b[0;32m<ipython-input-26-316fb513429c>\u001b[0m in \u001b[0;36m<module>\u001b[0;34m\u001b[0m\n\u001b[1;32m     20\u001b[0m \u001b[0mprint\u001b[0m\u001b[0;34m(\u001b[0m\u001b[0mlen\u001b[0m\u001b[0;34m)\u001b[0m\u001b[0;34m\u001b[0m\u001b[0;34m\u001b[0m\u001b[0m\n\u001b[1;32m     21\u001b[0m \u001b[0mprint\u001b[0m\u001b[0;34m(\u001b[0m\u001b[0mfinal_pop\u001b[0m\u001b[0;34m[\u001b[0m\u001b[0;36m1\u001b[0m\u001b[0;34m]\u001b[0m\u001b[0;34m)\u001b[0m\u001b[0;34m\u001b[0m\u001b[0;34m\u001b[0m\u001b[0m\n\u001b[0;32m---> 22\u001b[0;31m \u001b[0mprint\u001b[0m\u001b[0;34m(\u001b[0m\u001b[0mfinal_pop\u001b[0m\u001b[0;34m.\u001b[0m\u001b[0mvalues\u001b[0m\u001b[0;34m)\u001b[0m\u001b[0;34m\u001b[0m\u001b[0;34m\u001b[0m\u001b[0m\n\u001b[0m",
      "\u001b[0;31mAttributeError\u001b[0m: 'list' object has no attribute 'values'"
     ]
    }
   ],
   "source": [
    "from mewpy.optimization.evaluation import BPCY, TargetFlux, WYIELD, BPCY_FVA\n",
    "from mewpy.problems import GOUProblem\n",
    "from mewpy.optimization import EA\n",
    "from mewpy.simulation import SimulationMethod\n",
    "\n",
    "print(\"4\")\n",
    "PRODUCT_ID = 'R_EX_lac__D_e'\n",
    "BIOMASS_ID = 'R_Biomass_Ec_iML1515_core_75p37M'\n",
    "GLUC_ID = 'R_EX_glc__D_e'\n",
    "\n",
    "print(\"3\")\n",
    "evaluator_1 = BPCY(BIOMASS_ID, PRODUCT_ID, method = SimulationMethod.lMOMA)\n",
    "evaluator_2 = WYIELD(BIOMASS_ID, PRODUCT_ID)\n",
    "print(\"2\")\n",
    "problem = GOUProblem(reframed_model, fevaluation=[evaluator_1, evaluator_2], envcond=envcond, candidate_max_size=5)\n",
    "print(\"1\")\n",
    "ea = EA(problem, max_generations= 10, visualizer=True, mp=True)\n",
    "final_pop = ea.run()\n",
    "print(final_pop)\n",
    "print(len)\n",
    "print(final_pop[1])\n",
    "print(final_pop.values)"
   ]
  },
  {
   "cell_type": "code",
   "execution_count": null,
   "metadata": {},
   "outputs": [],
   "source": [
    "final_pop[0]"
   ]
  },
  {
   "cell_type": "code",
   "execution_count": 34,
   "metadata": {},
   "outputs": [
    {
     "name": "stdout",
     "output_type": "stream",
     "text": [
      "4\n",
      "3\n",
      "2\n"
     ]
    },
    {
     "ename": "TypeError",
     "evalue": "object of type 'BPCY' has no len()",
     "output_type": "error",
     "traceback": [
      "\u001b[0;31m---------------------------------------------------------------------------\u001b[0m",
      "\u001b[0;31mTypeError\u001b[0m                                 Traceback (most recent call last)",
      "\u001b[0;32m<ipython-input-34-7e0fcc8ebb5e>\u001b[0m in \u001b[0;36m<module>\u001b[0;34m\u001b[0m\n\u001b[1;32m     13\u001b[0m \u001b[0mevaluator_2\u001b[0m \u001b[0;34m=\u001b[0m \u001b[0mWYIELD\u001b[0m\u001b[0;34m(\u001b[0m\u001b[0mBIOMASS_ID\u001b[0m\u001b[0;34m,\u001b[0m \u001b[0mPRODUCT_ID\u001b[0m\u001b[0;34m)\u001b[0m\u001b[0;34m\u001b[0m\u001b[0;34m\u001b[0m\u001b[0m\n\u001b[1;32m     14\u001b[0m \u001b[0mprint\u001b[0m\u001b[0;34m(\u001b[0m\u001b[0;34m\"2\"\u001b[0m\u001b[0;34m)\u001b[0m\u001b[0;34m\u001b[0m\u001b[0;34m\u001b[0m\u001b[0m\n\u001b[0;32m---> 15\u001b[0;31m \u001b[0mproblem\u001b[0m \u001b[0;34m=\u001b[0m \u001b[0mGKOProblem\u001b[0m\u001b[0;34m(\u001b[0m\u001b[0mreframed_model\u001b[0m\u001b[0;34m,\u001b[0m \u001b[0mevaluator_1\u001b[0m\u001b[0;34m,\u001b[0m \u001b[0menvcond\u001b[0m\u001b[0;34m=\u001b[0m\u001b[0menvcond\u001b[0m\u001b[0;34m,\u001b[0m \u001b[0mcandidate_max_size\u001b[0m\u001b[0;34m=\u001b[0m\u001b[0;36m1\u001b[0m\u001b[0;34m)\u001b[0m\u001b[0;34m\u001b[0m\u001b[0;34m\u001b[0m\u001b[0m\n\u001b[0m\u001b[1;32m     16\u001b[0m \u001b[0mprint\u001b[0m\u001b[0;34m(\u001b[0m\u001b[0;34m\"1\"\u001b[0m\u001b[0;34m)\u001b[0m\u001b[0;34m\u001b[0m\u001b[0;34m\u001b[0m\u001b[0m\n\u001b[1;32m     17\u001b[0m \u001b[0mea\u001b[0m \u001b[0;34m=\u001b[0m \u001b[0mEA\u001b[0m\u001b[0;34m(\u001b[0m\u001b[0mproblem\u001b[0m\u001b[0;34m,\u001b[0m \u001b[0mmax_generations\u001b[0m\u001b[0;34m=\u001b[0m \u001b[0;36m10\u001b[0m\u001b[0;34m,\u001b[0m \u001b[0mvisualizer\u001b[0m\u001b[0;34m=\u001b[0m\u001b[0;32mTrue\u001b[0m\u001b[0;34m,\u001b[0m \u001b[0mmp\u001b[0m\u001b[0;34m=\u001b[0m\u001b[0;32mTrue\u001b[0m\u001b[0;34m)\u001b[0m\u001b[0;34m\u001b[0m\u001b[0;34m\u001b[0m\u001b[0m\n",
      "\u001b[0;32m/usr/local/lib/python3.7/site-packages/mewpy/problems/genes.py\u001b[0m in \u001b[0;36m__init__\u001b[0;34m(self, model, fevaluation, **kwargs)\u001b[0m\n\u001b[1;32m     29\u001b[0m     \u001b[0;32mdef\u001b[0m \u001b[0m__init__\u001b[0m\u001b[0;34m(\u001b[0m\u001b[0mself\u001b[0m\u001b[0;34m,\u001b[0m \u001b[0mmodel\u001b[0m\u001b[0;34m,\u001b[0m \u001b[0mfevaluation\u001b[0m\u001b[0;34m=\u001b[0m\u001b[0;32mNone\u001b[0m\u001b[0;34m,\u001b[0m \u001b[0;34m**\u001b[0m\u001b[0mkwargs\u001b[0m\u001b[0;34m)\u001b[0m\u001b[0;34m:\u001b[0m\u001b[0;34m\u001b[0m\u001b[0;34m\u001b[0m\u001b[0m\n\u001b[1;32m     30\u001b[0m         super(GKOProblem, self).__init__(\n\u001b[0;32m---> 31\u001b[0;31m             model, fevaluation=fevaluation, **kwargs)\n\u001b[0m\u001b[1;32m     32\u001b[0m \u001b[0;34m\u001b[0m\u001b[0m\n\u001b[1;32m     33\u001b[0m     \u001b[0;32mdef\u001b[0m \u001b[0m_build_target_list\u001b[0m\u001b[0;34m(\u001b[0m\u001b[0mself\u001b[0m\u001b[0;34m)\u001b[0m\u001b[0;34m:\u001b[0m\u001b[0;34m\u001b[0m\u001b[0;34m\u001b[0m\u001b[0m\n",
      "\u001b[0;32m/usr/local/lib/python3.7/site-packages/mewpy/problems/problem.py\u001b[0m in \u001b[0;36m__init__\u001b[0;34m(self, model, fevaluation, **kwargs)\u001b[0m\n\u001b[1;32m    294\u001b[0m     \u001b[0;32mdef\u001b[0m \u001b[0m__init__\u001b[0m\u001b[0;34m(\u001b[0m\u001b[0mself\u001b[0m\u001b[0;34m,\u001b[0m \u001b[0mmodel\u001b[0m\u001b[0;34m,\u001b[0m \u001b[0mfevaluation\u001b[0m\u001b[0;34m=\u001b[0m\u001b[0;32mNone\u001b[0m\u001b[0;34m,\u001b[0m \u001b[0;34m**\u001b[0m\u001b[0mkwargs\u001b[0m\u001b[0;34m)\u001b[0m\u001b[0;34m:\u001b[0m\u001b[0;34m\u001b[0m\u001b[0;34m\u001b[0m\u001b[0m\n\u001b[1;32m    295\u001b[0m         super(AbstractKOProblem, self).__init__(\n\u001b[0;32m--> 296\u001b[0;31m             model, fevaluation=fevaluation, **kwargs)\n\u001b[0m\u001b[1;32m    297\u001b[0m         \u001b[0mself\u001b[0m\u001b[0;34m.\u001b[0m\u001b[0mstrategy\u001b[0m \u001b[0;34m=\u001b[0m \u001b[0mStrategy\u001b[0m\u001b[0;34m.\u001b[0m\u001b[0mKO\u001b[0m\u001b[0;34m\u001b[0m\u001b[0;34m\u001b[0m\u001b[0m\n\u001b[1;32m    298\u001b[0m \u001b[0;34m\u001b[0m\u001b[0m\n",
      "\u001b[0;32m/usr/local/lib/python3.7/site-packages/mewpy/problems/problem.py\u001b[0m in \u001b[0;36m__init__\u001b[0;34m(self, model, fevaluation, **kwargs)\u001b[0m\n\u001b[1;32m     73\u001b[0m         \u001b[0mself\u001b[0m\u001b[0;34m.\u001b[0m\u001b[0mmodel\u001b[0m \u001b[0;34m=\u001b[0m \u001b[0mmodel\u001b[0m\u001b[0;34m\u001b[0m\u001b[0;34m\u001b[0m\u001b[0m\n\u001b[1;32m     74\u001b[0m         \u001b[0mself\u001b[0m\u001b[0;34m.\u001b[0m\u001b[0mfevaluation\u001b[0m \u001b[0;34m=\u001b[0m \u001b[0mfevaluation\u001b[0m\u001b[0;34m\u001b[0m\u001b[0;34m\u001b[0m\u001b[0m\n\u001b[0;32m---> 75\u001b[0;31m         \u001b[0mself\u001b[0m\u001b[0;34m.\u001b[0m\u001b[0mnumber_of_objectives\u001b[0m \u001b[0;34m=\u001b[0m \u001b[0mlen\u001b[0m\u001b[0;34m(\u001b[0m\u001b[0mself\u001b[0m\u001b[0;34m.\u001b[0m\u001b[0mfevaluation\u001b[0m\u001b[0;34m)\u001b[0m\u001b[0;34m\u001b[0m\u001b[0;34m\u001b[0m\u001b[0m\n\u001b[0m\u001b[1;32m     76\u001b[0m \u001b[0;34m\u001b[0m\u001b[0m\n\u001b[1;32m     77\u001b[0m         \u001b[0;31m# simulation context : defines the simulations environment\u001b[0m\u001b[0;34m\u001b[0m\u001b[0;34m\u001b[0m\u001b[0;34m\u001b[0m\u001b[0m\n",
      "\u001b[0;31mTypeError\u001b[0m: object of type 'BPCY' has no len()"
     ]
    }
   ],
   "source": [
    "from mewpy.optimization.evaluation import BPCY, TargetFlux, WYIELD, BPCY_FVA\n",
    "from mewpy.problems import GKOProblem\n",
    "from mewpy.optimization import EA\n",
    "from mewpy.simulation import SimulationMethod\n",
    "\n",
    "print(\"4\")\n",
    "PRODUCT_ID = 'R_EX_lac__D_e'\n",
    "BIOMASS_ID = 'R_Biomass_Ec_iML1515_core_75p37M'\n",
    "GLUC_ID = 'R_EX_glc__D_e'\n",
    "\n",
    "print(\"3\")\n",
    "evaluator_1 = BPCY(BIOMASS_ID, PRODUCT_ID, method = SimulationMethod.lMOMA)\n",
    "evaluator_2 = WYIELD(BIOMASS_ID, PRODUCT_ID)\n",
    "print(\"2\")\n",
    "problem = GKOProblem(reframed_model, evaluator_1, envcond=envcond, candidate_max_size=1)\n",
    "print(\"1\")\n",
    "ea = EA(problem, max_generations= 10, visualizer=True, mp=True)\n",
    "final_pop = ea.run()\n",
    "print(final_pop)\n",
    "print(final_pop[1])"
   ]
  },
  {
   "cell_type": "code",
   "execution_count": null,
   "metadata": {},
   "outputs": [],
   "source": []
  },
  {
   "cell_type": "code",
   "execution_count": null,
   "metadata": {},
   "outputs": [],
   "source": []
  }
 ],
 "metadata": {
  "kernelspec": {
   "display_name": "Python 3",
   "language": "python",
   "name": "python3"
  },
  "language_info": {
   "codemirror_mode": {
    "name": "ipython",
    "version": 3
   },
   "file_extension": ".py",
   "mimetype": "text/x-python",
   "name": "python",
   "nbconvert_exporter": "python",
   "pygments_lexer": "ipython3",
   "version": "3.7.9"
  }
 },
 "nbformat": 4,
 "nbformat_minor": 1
}
