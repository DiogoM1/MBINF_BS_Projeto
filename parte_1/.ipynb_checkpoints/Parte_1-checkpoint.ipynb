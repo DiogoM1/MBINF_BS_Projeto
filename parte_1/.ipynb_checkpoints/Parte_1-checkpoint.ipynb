{
 "cells": [
  {
   "cell_type": "markdown",
   "metadata": {
    "collapsed": true,
    "pycharm": {
     "name": "#%% md\n"
    }
   },
   "source": [
    "# Parte 1 - Implementação de problema de FBA\n",
    "\n",
    "## 1. What is the wild-type production of your group’s compound?"
   ]
  },
  {
   "cell_type": "code",
   "execution_count": 2,
   "metadata": {
    "scrolled": true
   },
   "outputs": [
    {
     "name": "stderr",
     "output_type": "stream",
     "text": [
      "/usr/local/lib/python3.7/site-packages/reframed/io/sbml.py:510: UserWarning:\n",
      "\n",
      "Gene association for reaction R_PFL is not DNF\n",
      "\n",
      "/usr/local/lib/python3.7/site-packages/reframed/io/sbml.py:510: UserWarning:\n",
      "\n",
      "Gene association for reaction R_RNDR1 is not DNF\n",
      "\n",
      "/usr/local/lib/python3.7/site-packages/reframed/io/sbml.py:510: UserWarning:\n",
      "\n",
      "Gene association for reaction R_RNDR3 is not DNF\n",
      "\n",
      "/usr/local/lib/python3.7/site-packages/reframed/io/sbml.py:510: UserWarning:\n",
      "\n",
      "Gene association for reaction R_RNDR4 is not DNF\n",
      "\n",
      "/usr/local/lib/python3.7/site-packages/reframed/io/sbml.py:510: UserWarning:\n",
      "\n",
      "Gene association for reaction R_CITL is not DNF\n",
      "\n",
      "/usr/local/lib/python3.7/site-packages/reframed/io/sbml.py:510: UserWarning:\n",
      "\n",
      "Gene association for reaction R_NO3R1bpp is not DNF\n",
      "\n",
      "/usr/local/lib/python3.7/site-packages/reframed/io/sbml.py:510: UserWarning:\n",
      "\n",
      "Gene association for reaction R_NO3R2bpp is not DNF\n",
      "\n",
      "/usr/local/lib/python3.7/site-packages/reframed/io/sbml.py:510: UserWarning:\n",
      "\n",
      "Gene association for reaction R_ATPS4rpp is not DNF\n",
      "\n",
      "/usr/local/lib/python3.7/site-packages/reframed/io/sbml.py:510: UserWarning:\n",
      "\n",
      "Gene association for reaction R_CPGNtonex is not DNF\n",
      "\n",
      "/usr/local/lib/python3.7/site-packages/reframed/io/sbml.py:510: UserWarning:\n",
      "\n",
      "Gene association for reaction R_FE3DCITtonex is not DNF\n",
      "\n",
      "/usr/local/lib/python3.7/site-packages/reframed/io/sbml.py:510: UserWarning:\n",
      "\n",
      "Gene association for reaction R_FEENTERtonex is not DNF\n",
      "\n",
      "/usr/local/lib/python3.7/site-packages/reframed/io/sbml.py:510: UserWarning:\n",
      "\n",
      "Gene association for reaction R_RNDR3b is not DNF\n",
      "\n",
      "/usr/local/lib/python3.7/site-packages/reframed/io/sbml.py:510: UserWarning:\n",
      "\n",
      "Gene association for reaction R_RNDR4b is not DNF\n",
      "\n",
      "/usr/local/lib/python3.7/site-packages/reframed/io/sbml.py:510: UserWarning:\n",
      "\n",
      "Gene association for reaction R_RNDR1b is not DNF\n",
      "\n",
      "/usr/local/lib/python3.7/site-packages/reframed/io/sbml.py:510: UserWarning:\n",
      "\n",
      "Gene association for reaction R_RNDR2b is not DNF\n",
      "\n",
      "/usr/local/lib/python3.7/site-packages/reframed/io/sbml.py:510: UserWarning:\n",
      "\n",
      "Gene association for reaction R_INDOLEt2pp is not DNF\n",
      "\n",
      "/usr/local/lib/python3.7/site-packages/reframed/io/sbml.py:510: UserWarning:\n",
      "\n",
      "Gene association for reaction R_FECRMtonex is not DNF\n",
      "\n",
      "/usr/local/lib/python3.7/site-packages/reframed/io/sbml.py:510: UserWarning:\n",
      "\n",
      "Gene association for reaction R_FE3HOXtonex is not DNF\n",
      "\n",
      "/usr/local/lib/python3.7/site-packages/reframed/io/sbml.py:510: UserWarning:\n",
      "\n",
      "Gene association for reaction R_FHL is not DNF\n",
      "\n",
      "/usr/local/lib/python3.7/site-packages/reframed/io/sbml.py:510: UserWarning:\n",
      "\n",
      "Gene association for reaction R_RNDR2 is not DNF\n",
      "\n",
      "/usr/local/lib/python3.7/site-packages/reframed/io/sbml.py:510: UserWarning:\n",
      "\n",
      "Gene association for reaction R_CELBpts is not DNF\n",
      "\n",
      "/usr/local/lib/python3.7/site-packages/reframed/io/sbml.py:510: UserWarning:\n",
      "\n",
      "Gene association for reaction R_FE3DHBZStonex is not DNF\n",
      "\n",
      "/usr/local/lib/python3.7/site-packages/reframed/io/sbml.py:510: UserWarning:\n",
      "\n",
      "Gene association for reaction R_FEOXAMtonex is not DNF\n",
      "\n",
      "/usr/local/lib/python3.7/site-packages/reframed/io/sbml.py:510: UserWarning:\n",
      "\n",
      "Gene association for reaction R_OBTFL is not DNF\n",
      "\n",
      "/usr/local/lib/python3.7/site-packages/reframed/io/sbml.py:510: UserWarning:\n",
      "\n",
      "Gene association for reaction R_CHTBSptspp is not DNF\n",
      "\n",
      "/usr/local/lib/python3.7/site-packages/reframed/io/sbml.py:510: UserWarning:\n",
      "\n",
      "Gene association for reaction R_CBL1tonex is not DNF\n",
      "\n",
      "/usr/local/lib/python3.7/site-packages/reframed/io/sbml.py:510: UserWarning:\n",
      "\n",
      "Gene association for reaction R_CBItonex is not DNF\n",
      "\n",
      "/usr/local/lib/python3.7/site-packages/reframed/io/sbml.py:510: UserWarning:\n",
      "\n",
      "Gene association for reaction R_ADOCBLtonex is not DNF\n",
      "\n"
     ]
    },
    {
     "name": "stdout",
     "output_type": "stream",
     "text": [
      "A produção de lactato para as condições ambientais de Oxigénio = 0 mmol/gDW/h e Glicose = 15 mmol/gDW/h é: 0.0 mmol/gDW/h.\n"
     ]
    }
   ],
   "source": [
    "from reframed.io.sbml import load_cbmodel\n",
    "reframed_model = load_cbmodel('../models/iML1515.xml')\n",
    "\n",
    "PRODUCT_ID = 'R_EX_lac__D_e'\n",
    "BIOMASS_ID = 'R_Biomass_Ec_iML1515_core_75p37M'\n",
    "GLUC_ID = 'R_EX_glc__D_e'\n",
    "\n",
    "\n",
    "from mewpy.simulation import get_simulator\n",
    "simul = get_simulator(reframed_model)\n",
    "\n",
    "envcond = {'R_EX_glc__D_e': (-15, 999999.0), 'R_EX_o2_e': (0, 999999.0)}\n",
    "\n",
    "simul = get_simulator(reframed_model, envcond=envcond)\n",
    "result = simul.simulate(method='FBA')\n",
    "dt = result.fluxes\n",
    "\n",
    "production = 0\n",
    "for i in dt:\n",
    "    if i == 'R_EX_lac__L_e' or i == 'R_EX_lac__D_e':\n",
    "        production += dt[i]\n",
    "\n",
    "print(\"A produção de lactato para as condições ambientais de Oxigénio = 0 mmol/gDW/h e Glicose = 15 mmol/gDW/h é: {0} mmol/gDW/h.\".format(production))"
   ]
  },
  {
   "cell_type": "markdown",
   "metadata": {
    "pycharm": {
     "name": "#%% md\n"
    }
   },
   "source": [
    "## 2. What are the maximum compound production capabilities?"
   ]
  },
  {
   "cell_type": "code",
   "execution_count": 3,
   "metadata": {
    "pycharm": {
     "name": "#%%\n"
    }
   },
   "outputs": [
    {
     "name": "stdout",
     "output_type": "stream",
     "text": [
      "Metabolites:\n",
      "c 1071\n",
      "e 341\n",
      "p 465\n",
      "\n",
      "Reactions:\n",
      "enzymatic 1476\n",
      "transport 833\n",
      "exchange 337\n",
      "sink 0\n",
      "other 66\n"
     ]
    },
    {
     "data": {
      "text/plain": [
       "{'R_EX_lac__L_e': [0.0, 1.1141818181817698],\n",
       " 'R_EX_lac__D_e': [0.0, 12.255999999998616]}"
      ]
     },
     "execution_count": 3,
     "metadata": {},
     "output_type": "execute_result"
    }
   ],
   "source": [
    "# identificar os metabolitos externos\n",
    "reframed_model.summary()\n",
    "\n",
    "\n",
    "# identificar as reações do metabolito pretendido (lactato)\n",
    "reframed_model.metabolites[\"M_lac__L_e\"]\n",
    "reframed_model.metabolites[\"M_lac__D_e\"]\n",
    "\n",
    "# pode calcular-se a produção máxima em wildtype mantendo a função objectivo de maximização do crescimento, usando FVA\n",
    "simul.FVA(reactions=['R_EX_lac__L_e', 'R_EX_lac__D_e'])\n",
    "#OU\n",
    "\n",
    "# podemos alterar a função objectivo para maximização da produção de lactato e depois analisar o fluxo minimo e maximo usando FVA\n",
    "# não está completo, são duas reações objectivo\n",
    "simul.objective = {'R_EX_lac__L_e': -1, 'R_EX_lac__D_e': -1}\n",
    "simul.objective\n",
    "simul.FVA(reactions=['R_EX_lac__L_e', 'R_EX_lac__D_e'])"
   ]
  },
  {
   "cell_type": "markdown",
   "metadata": {
    "pycharm": {
     "name": "#%% md\n"
    }
   },
   "source": [
    "## 3. Use different optimization objective functions to improve the production of  the compound, considering  that  cells  have  evolved  for  maximum growth."
   ]
  },
  {
   "cell_type": "markdown",
   "metadata": {},
   "source": [
    "### 3.a. Evaluate if single gene deletions enhance the production of the compound.Rank   the   mutants   obtained   according   to   the compound production capacity and growth performance."
   ]
  },
  {
   "cell_type": "code",
   "execution_count": 4,
   "metadata": {
    "pycharm": {
     "name": "#%%\n"
    }
   },
   "outputs": [
    {
     "name": "stdout",
     "output_type": "stream",
     "text": [
      "Running NSGAII\n"
     ]
    },
    {
     "data": {
      "image/png": "[encoded data removed]",
      "text/plain": [
       "<Figure size 432x288 with 1 Axes>"
      ]
     },
     "metadata": {
      "needs_background": "light"
     },
     "output_type": "display_data"
    },
    {
     "name": "stdout",
     "output_type": "stream",
     "text": [
      "Gen    Eval|     Worst      Best    Median   Average   Std Dev|     Worst      Best    Median   Average   Std Dev|\n",
      "   0    100|  0.000000  0.000000  0.000000  0.000000  0.000000|  0.000000  0.000000  0.000000  0.000000  0.000000|\n",
      "   1    200|  0.000000  0.000000  0.000000  0.000000  0.000000|  0.000000  0.000000  0.000000  0.000000  0.000000|\n",
      "   2    300|  0.000000  0.000000  0.000000  0.000000  0.000000|  0.000000  0.000000  0.000000  0.000000  0.000000|\n",
      "   3    400|  0.000000  0.000000  0.000000  0.000000  0.000000|  0.000000  0.000000  0.000000  0.000000  0.000000|\n",
      "   4    500|  0.000000  0.000000  0.000000  0.000000  0.000000|  0.000000  0.000000  0.000000  0.000000  0.000000|\n",
      "   5    600|  0.000000  0.000000  0.000000  0.000000  0.000000|  0.000000  0.000000  0.000000  0.000000  0.000000|\n",
      "   6    700|  0.000000  0.000000  0.000000  0.000000  0.000000|  0.000000  0.000000  0.000000  0.000000  0.000000|\n",
      "   7    800|  0.000000  0.000000  0.000000  0.000000  0.000000|  0.000000  0.000000  0.000000  0.000000  0.000000|\n",
      "   8    900|  0.000000  0.000000  0.000000  0.000000  0.000000|  0.000000  0.000000  0.000000  0.000000  0.000000|\n",
      "   9   1000|  0.000000  0.000000  0.000000  0.000000  0.000000|  0.000000  0.000000  0.000000  0.000000  0.000000|\n",
      "  10   1100|  0.000000  0.000000  0.000000  0.000000  0.000000|  0.000000  0.000000  0.000000  0.000000  0.000000|\n",
      "[[0.0, 0.0];{'G_b3187': 0}, [0.0, 0.0];{'G_b2716': 0}, [0.0, 0.0];{'G_b0754': 0}, [0.0, 0.0];{'G_b0366': 0}, [0.0, 0.0];{'G_b3291': 0}, [0.0, 0.0];{'G_b4485': 0}, [0.0, 0.0];{'G_b3137': 0}, [0.0, 0.0];{'G_b2436': 0}, [0.0, 0.0];{'G_b2489': 0}, [0.0, 0.0];{'G_b1393': 0}, [0.0, 0.0];{'G_b1492': 0}, [0.0, 0.0];{'G_b0199': 0}, [0.0, 0.0];{'G_b3662': 0}, [0.0, 0.0];{'G_b3588': 0}, [0.0, 0.0];{'G_b2413': 0}, [0.0, 0.0];{'G_b2029': 0}, [0.0, 0.0];{'G_b0928': 0}, [0.0, 0.0];{'G_b3792': 0}, [0.0, 0.0];{'G_b4237': 0}, [0.0, 0.0];{'G_b0474': 0}, [0.0, 0.0];{'G_b4474': 0}, [0.0, 0.0];{'G_b1602': 0}, [0.0, 0.0];{'G_b3266': 0}, [0.0, 0.0];{'G_b3425': 0}, [0.0, 0.0];{'G_b1193': 0}, [0.0, 0.0];{'G_b0417': 0}, [0.0, 0.0];{'G_b3367': 0}, [0.0, 0.0];{'G_b1022': 0}, [0.0, 0.0];{'G_b4090': 0}, [0.0, 0.0];{'G_b1612': 0}, [0.0, 0.0];{'G_b2262': 0}, [0.0, 0.0];{'G_b4298': 0}, [0.0, 0.0];{'G_b4198': 0}, [0.0, 0.0];{'G_b1092': 0}, [0.0, 0.0];{'G_b2942': 0}, [0.0, 0.0];{'G_b2663': 0}, [0.0, 0.0];{'G_b1469': 0}, [0.0, 0.0];{'G_b3736': 0}, [0.0, 0.0];{'G_b2539': 0}, [0.0, 0.0];{'G_b0025': 0}, [0.0, 0.0];{'G_b1539': 0}, [0.0, 0.0];{'G_b3371': 0}, [0.0, 0.0];{'G_b2279': 0}, [0.0, 0.0];{'G_b3223': 0}, [0.0, 0.0];{'G_b2794': 0}, [0.0, 0.0];{'G_b2130': 0}, [0.0, 0.0];{'G_b0063': 0}, [0.0, 0.0];{'G_b2021': 0}, [0.0, 0.0];{'G_b0031': 0}, [0.0, 0.0];{'G_b0937': 0}, [0.0, 0.0];{'G_b1535': 0}, [0.0, 0.0];{'G_b4159': 0}, [0.0, 0.0];{'G_b3722': 0}, [0.0, 0.0];{'G_b0040': 0}, [0.0, 0.0];{'G_b3626': 0}, [0.0, 0.0];{'G_b2316': 0}, [0.0, 0.0];{'G_b0785': 0}, [0.0, 0.0];{'G_b2303': 0}, [0.0, 0.0];{'G_b0935': 0}, [0.0, 0.0];{'G_b3409': 0}, [0.0, 0.0];{'G_b4130': 0}, [0.0, 0.0];{'G_b0154': 0}, [0.0, 0.0];{'G_b1474': 0}, [0.0, 0.0];{'G_b4024': 0}, [0.0, 0.0];{'G_b1394': 0}, [0.0, 0.0];{'G_b1812': 0}, [0.0, 0.0];{'G_b4311': 0}, [0.0, 0.0];{'G_b3713': 0}, [0.0, 0.0];{'G_b1606': 0}, [0.0, 0.0];{'G_b2037': 0}, [0.0, 0.0];{'G_b2418': 0}, [0.0, 0.0];{'G_b3772': 0}, [0.0, 0.0];{'G_b1329': 0}, [0.0, 0.0];{'G_b3785': 0}, [0.0, 0.0];{'G_b3008': 0}, [0.0, 0.0];{'G_b3960': 0}, [0.0, 0.0];{'G_b1723': 0}, [0.0, 0.0];{'G_b4291': 0}, [0.0, 0.0];{'G_b2803': 0}, [0.0, 0.0];{'G_b3959': 0}, [0.0, 0.0];{'G_b0972': 0}, [0.0, 0.0];{'G_b0789': 0}, [0.0, 0.0];{'G_b3738': 0}, [0.0, 0.0];{'G_b3477': 0}, [0.0, 0.0];{'G_b0590': 0}, [0.0, 0.0];{'G_b4266': 0}, [0.0, 0.0];{'G_b4054': 0}, [0.0, 0.0];{'G_b2320': 0}, [0.0, 0.0];{'G_b0153': 0}, [0.0, 0.0];{'G_b1341': 0}, [0.0, 0.0];{'G_b1476': 0}, [0.0, 0.0];{'G_b1794': 0}, [0.0, 0.0];{'G_b3059': 0}, [0.0, 0.0];{'G_b3040': 0}, [0.0, 0.0];{'G_b2261': 0}, [0.0, 0.0];{'G_b0334': 0}, [0.0, 0.0];{'G_b0008': 0}, [0.0, 0.0];{'G_b0088': 0}, [0.0, 0.0];{'G_b0084': 0}, [0.0, 0.0];{'G_b0159': 0}]\n",
      "<built-in function len>\n"
     ]
    }
   ],
   "source": [
    "from mewpy.optimization.evaluation import BPCY, WYIELD\n",
    "from mewpy.problems import GKOProblem\n",
    "from mewpy.optimization import EA\n",
    "from mewpy.simulation import SimulationMethod\n",
    "\n",
    "evaluator_1 = BPCY(BIOMASS_ID, PRODUCT_ID, method = SimulationMethod.lMOMA)\n",
    "evaluator_2 = WYIELD(BIOMASS_ID, PRODUCT_ID)\n",
    "\n",
    "problem = GKOProblem(reframed_model, fevaluation=[evaluator_1, evaluator_2], envcond=envcond, candidate_min_size=1, candidate_max_size=1)\n",
    "ea = EA(problem, max_generations=5, visualizer=True, mp=True)\n",
    "final_pop = ea.run()\n",
    "print(final_pop)\n",
    "print(len)"
   ]
  },
  {
   "cell_type": "markdown",
   "metadata": {},
   "source": [
    "### 3.b. Determine the beststrategy, up to five modifications, to improve the compound production.\n",
    "\n",
    "#### Gene Under / Over Expression strategy"
   ]
  },
  {
   "cell_type": "code",
   "execution_count": 5,
   "metadata": {
    "pycharm": {
     "name": "#%%\n"
    },
    "scrolled": true
   },
   "outputs": [
    {
     "name": "stdout",
     "output_type": "stream",
     "text": [
      "Running NSGAII\n"
     ]
    },
    {
     "data": {
      "image/png": "[encoded data removed]",
      "text/plain": [
       "<Figure size 432x288 with 1 Axes>"
      ]
     },
     "metadata": {
      "needs_background": "light"
     },
     "output_type": "display_data"
    },
    {
     "name": "stdout",
     "output_type": "stream",
     "text": [
      "Gen    Eval|     Worst      Best    Median   Average   Std Dev|     Worst      Best    Median   Average   Std Dev|\n",
      "   0    100|  0.000000  0.000000  0.000000  0.000000  0.000000|  0.000000  0.000000  0.000000  0.000000  0.000000|\n",
      "   1    200|  0.000000  0.000000  0.000000  0.000000  0.000000|  0.000000  0.000000  0.000000  0.000000  0.000000|\n",
      "   2    300|  0.000000  0.000000  0.000000  0.000000  0.000000|  0.000000  0.000000  0.000000  0.000000  0.000000|\n",
      "   3    400|  0.000000  0.000000  0.000000  0.000000  0.000000|  0.000000  0.000000  0.000000  0.000000  0.000000|\n",
      "   4    500|  0.000000  0.000000  0.000000  0.000000  0.000000|  0.000000  0.000000  0.000000  0.000000  0.000000|\n",
      "   5    600|  0.000000  0.000000  0.000000  0.000000  0.000000|  0.000000  0.000000  0.000000  0.000000  0.000000|\n",
      "   6    700|  0.000000  0.000000  0.000000  0.000000  0.000000|  0.000000  0.000000  0.000000  0.000000  0.000000|\n",
      "   7    800|  0.000000  0.000000  0.000000  0.000000  0.000000|  0.000000  0.000000  0.000000  0.000000  0.000000|\n",
      "   8    900|  0.000000  0.000000  0.000000  0.000000  0.000000|  0.000000  0.000000  0.000000  0.000000  0.000000|\n",
      "   9   1000|  0.000000  0.000000  0.000000  0.000000  0.000000|  0.000000  0.000000  0.000000  0.000000  0.000000|\n",
      "  10   1100|  0.000000  0.000000  0.000000  0.000000  0.000000|  0.000000  0.000000  0.000000  0.000000  0.000000|\n",
      "[0.0, 0.0];{'G_b0774': 0.125, 'G_b1337': 2, 'G_b1250': 0, 'G_b2487': 16, 'G_b2222': 4}\n"
     ]
    }
   ],
   "source": [
    "from mewpy.problems import GOUProblem\n",
    "from mewpy.optimization import EA\n",
    "\n",
    "\n",
    "problem = GOUProblem(reframed_model, fevaluation=[evaluator_1, evaluator_2], envcond=envcond, candidate_max_size=5)\n",
    "ea = EA(problem, max_generations=5, visualizer=True, mp=True)\n",
    "final_pop = ea.run()\n",
    "\n",
    "print(final_pop[0])"
   ]
  },
  {
   "cell_type": "markdown",
   "metadata": {},
   "source": [
    "#### Reactionw Under / Over Expression strategy"
   ]
  },
  {
   "cell_type": "code",
   "execution_count": 6,
   "metadata": {},
   "outputs": [
    {
     "name": "stdout",
     "output_type": "stream",
     "text": [
      "Running NSGAII\n"
     ]
    },
    {
     "data": {
      "image/png": "[encoded data removed]",
      "text/plain": [
       "<Figure size 432x288 with 1 Axes>"
      ]
     },
     "metadata": {
      "needs_background": "light"
     },
     "output_type": "display_data"
    },
    {
     "name": "stdout",
     "output_type": "stream",
     "text": [
      "Gen    Eval|     Worst      Best    Median   Average   Std Dev|     Worst      Best    Median   Average   Std Dev|\n",
      "   0    100|  0.000000  0.000000  0.000000  0.000000  0.000000|  0.000000  0.000000  0.000000  0.000000  0.000000|\n",
      "   1    200|  0.000000  0.000000  0.000000  0.000000  0.000000|  0.000000  0.000000  0.000000  0.000000  0.000000|\n",
      "   2    300|  0.000000  0.000000  0.000000  0.000000  0.000000|  0.000000  0.000000  0.000000  0.000000  0.000000|\n",
      "   3    400|  0.000000  0.000000  0.000000  0.000000  0.000000|  0.000000  0.000000  0.000000  0.000000  0.000000|\n",
      "   4    500|  0.000000  0.000000  0.000000  0.000000  0.000000|  0.000000  0.000000  0.000000  0.000000  0.000000|\n",
      "   5    600|  0.000000  0.000000  0.000000  0.000000  0.000000|  0.000000  0.000000  0.000000  0.000000  0.000000|\n",
      "[0.0, 0.0];{'R_CDAPPA140': 8, 'R_HG2abcpp': 2, 'R_ARBt2rpp': 0.25, 'R_SHKK': 32, 'R_PLIPA1E181pp': 8}\n"
     ]
    }
   ],
   "source": [
    "from mewpy.problems import ROUProblem\n",
    "from mewpy.optimization import EA\n",
    "\n",
    "\n",
    "problem = ROUProblem(reframed_model, fevaluation=[evaluator_1, evaluator_2], envcond=envcond, candidate_max_size=5)\n",
    "ea = EA(problem, max_generations=5, visualizer=True, mp=True)\n",
    "final_pop = ea.run()\n",
    "\n",
    "print(final_pop[0])"
   ]
  }
 ],
 "metadata": {
  "kernelspec": {
   "display_name": "Python 3",
   "language": "python",
   "name": "python3"
  },
  "language_info": {
   "codemirror_mode": {
    "name": "ipython",
    "version": 3
   },
   "file_extension": ".py",
   "mimetype": "text/x-python",
   "name": "python",
   "nbconvert_exporter": "python",
   "pygments_lexer": "ipython3",
   "version": "3.7.9"
  }
 },
 "nbformat": 4,
 "nbformat_minor": 1
}
