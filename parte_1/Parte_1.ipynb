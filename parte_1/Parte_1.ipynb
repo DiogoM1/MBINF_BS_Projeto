{
 "cells": [
  {
   "cell_type": "markdown",
   "metadata": {
    "collapsed": true,
    "pycharm": {
     "name": "#%% md\n"
    }
   },
   "source": [
    "# Parte 1 - Implementação de problema de FBA\n",
    "## 1. Qual é a produção de lactato da estirpe selvagem?\n",
    "\n",
    "Para avaliar a produção de lactato foi primeiro necessário definir as condições ambientes e obter a função objetivo.\n",
    "As condições ambientais foram definidas como o consumo de oxigénio de 0 mmol/gDW/h e cosumo de glicose de 15 mmol/gDW/h.\n",
    "Foi depois obtida a função objetivo (declaração matemática do que deve ser realizado), neste caso para a produção ótima do composto desejado.\n",
    "Verificou-se que nas condições especificados não existe produção de lactato, ou seja, são produzidos 0 mm/gDW/h de lactato.."
   ]
  },
  {
   "cell_type": "code",
   "execution_count": 2,
   "metadata": {
    "scrolled": true
   },
   "outputs": [
    {
     "name": "stderr",
     "output_type": "stream",
     "text": [
      "/usr/local/lib/python3.7/site-packages/reframed/io/sbml.py:510: UserWarning: Gene association for reaction R_PFL is not DNF\n",
      "  warn(f\"Gene association for reaction {reaction_id} is not DNF\")\n",
      "/usr/local/lib/python3.7/site-packages/reframed/io/sbml.py:510: UserWarning: Gene association for reaction R_RNDR1 is not DNF\n",
      "  warn(f\"Gene association for reaction {reaction_id} is not DNF\")\n",
      "/usr/local/lib/python3.7/site-packages/reframed/io/sbml.py:510: UserWarning: Gene association for reaction R_RNDR3 is not DNF\n",
      "  warn(f\"Gene association for reaction {reaction_id} is not DNF\")\n",
      "/usr/local/lib/python3.7/site-packages/reframed/io/sbml.py:510: UserWarning: Gene association for reaction R_RNDR4 is not DNF\n",
      "  warn(f\"Gene association for reaction {reaction_id} is not DNF\")\n",
      "/usr/local/lib/python3.7/site-packages/reframed/io/sbml.py:510: UserWarning: Gene association for reaction R_CITL is not DNF\n",
      "  warn(f\"Gene association for reaction {reaction_id} is not DNF\")\n",
      "/usr/local/lib/python3.7/site-packages/reframed/io/sbml.py:510: UserWarning: Gene association for reaction R_NO3R1bpp is not DNF\n",
      "  warn(f\"Gene association for reaction {reaction_id} is not DNF\")\n",
      "/usr/local/lib/python3.7/site-packages/reframed/io/sbml.py:510: UserWarning: Gene association for reaction R_NO3R2bpp is not DNF\n",
      "  warn(f\"Gene association for reaction {reaction_id} is not DNF\")\n",
      "/usr/local/lib/python3.7/site-packages/reframed/io/sbml.py:510: UserWarning: Gene association for reaction R_ATPS4rpp is not DNF\n",
      "  warn(f\"Gene association for reaction {reaction_id} is not DNF\")\n",
      "/usr/local/lib/python3.7/site-packages/reframed/io/sbml.py:510: UserWarning: Gene association for reaction R_CPGNtonex is not DNF\n",
      "  warn(f\"Gene association for reaction {reaction_id} is not DNF\")\n",
      "/usr/local/lib/python3.7/site-packages/reframed/io/sbml.py:510: UserWarning: Gene association for reaction R_FE3DCITtonex is not DNF\n",
      "  warn(f\"Gene association for reaction {reaction_id} is not DNF\")\n",
      "/usr/local/lib/python3.7/site-packages/reframed/io/sbml.py:510: UserWarning: Gene association for reaction R_FEENTERtonex is not DNF\n",
      "  warn(f\"Gene association for reaction {reaction_id} is not DNF\")\n",
      "/usr/local/lib/python3.7/site-packages/reframed/io/sbml.py:510: UserWarning: Gene association for reaction R_RNDR3b is not DNF\n",
      "  warn(f\"Gene association for reaction {reaction_id} is not DNF\")\n",
      "/usr/local/lib/python3.7/site-packages/reframed/io/sbml.py:510: UserWarning: Gene association for reaction R_RNDR4b is not DNF\n",
      "  warn(f\"Gene association for reaction {reaction_id} is not DNF\")\n",
      "/usr/local/lib/python3.7/site-packages/reframed/io/sbml.py:510: UserWarning: Gene association for reaction R_RNDR1b is not DNF\n",
      "  warn(f\"Gene association for reaction {reaction_id} is not DNF\")\n",
      "/usr/local/lib/python3.7/site-packages/reframed/io/sbml.py:510: UserWarning: Gene association for reaction R_RNDR2b is not DNF\n",
      "  warn(f\"Gene association for reaction {reaction_id} is not DNF\")\n",
      "/usr/local/lib/python3.7/site-packages/reframed/io/sbml.py:510: UserWarning: Gene association for reaction R_INDOLEt2pp is not DNF\n",
      "  warn(f\"Gene association for reaction {reaction_id} is not DNF\")\n",
      "/usr/local/lib/python3.7/site-packages/reframed/io/sbml.py:510: UserWarning: Gene association for reaction R_FECRMtonex is not DNF\n",
      "  warn(f\"Gene association for reaction {reaction_id} is not DNF\")\n",
      "/usr/local/lib/python3.7/site-packages/reframed/io/sbml.py:510: UserWarning: Gene association for reaction R_FE3HOXtonex is not DNF\n",
      "  warn(f\"Gene association for reaction {reaction_id} is not DNF\")\n",
      "/usr/local/lib/python3.7/site-packages/reframed/io/sbml.py:510: UserWarning: Gene association for reaction R_FHL is not DNF\n",
      "  warn(f\"Gene association for reaction {reaction_id} is not DNF\")\n",
      "/usr/local/lib/python3.7/site-packages/reframed/io/sbml.py:510: UserWarning: Gene association for reaction R_RNDR2 is not DNF\n",
      "  warn(f\"Gene association for reaction {reaction_id} is not DNF\")\n",
      "/usr/local/lib/python3.7/site-packages/reframed/io/sbml.py:510: UserWarning: Gene association for reaction R_CELBpts is not DNF\n",
      "  warn(f\"Gene association for reaction {reaction_id} is not DNF\")\n",
      "/usr/local/lib/python3.7/site-packages/reframed/io/sbml.py:510: UserWarning: Gene association for reaction R_FE3DHBZStonex is not DNF\n",
      "  warn(f\"Gene association for reaction {reaction_id} is not DNF\")\n",
      "/usr/local/lib/python3.7/site-packages/reframed/io/sbml.py:510: UserWarning: Gene association for reaction R_FEOXAMtonex is not DNF\n",
      "  warn(f\"Gene association for reaction {reaction_id} is not DNF\")\n",
      "/usr/local/lib/python3.7/site-packages/reframed/io/sbml.py:510: UserWarning: Gene association for reaction R_OBTFL is not DNF\n",
      "  warn(f\"Gene association for reaction {reaction_id} is not DNF\")\n",
      "/usr/local/lib/python3.7/site-packages/reframed/io/sbml.py:510: UserWarning: Gene association for reaction R_CHTBSptspp is not DNF\n",
      "  warn(f\"Gene association for reaction {reaction_id} is not DNF\")\n",
      "/usr/local/lib/python3.7/site-packages/reframed/io/sbml.py:510: UserWarning: Gene association for reaction R_CBL1tonex is not DNF\n",
      "  warn(f\"Gene association for reaction {reaction_id} is not DNF\")\n",
      "/usr/local/lib/python3.7/site-packages/reframed/io/sbml.py:510: UserWarning: Gene association for reaction R_CBItonex is not DNF\n",
      "  warn(f\"Gene association for reaction {reaction_id} is not DNF\")\n",
      "/usr/local/lib/python3.7/site-packages/reframed/io/sbml.py:510: UserWarning: Gene association for reaction R_ADOCBLtonex is not DNF\n",
      "  warn(f\"Gene association for reaction {reaction_id} is not DNF\")\n"
     ]
    },
    {
     "name": "stdout",
     "output_type": "stream",
     "text": [
      "<mewpy.simulation.reframed.Simulation object at 0x7f1d4509ed50>\n",
      "objective: 0.26609812519117976\n",
      "Status: OPTIMAL\n",
      "A produção de lactato para as condições ambientais de Oxigénio = 0 mmol/gDW/h e Glicose = 15 mmol/gDW/h é: 0.0 mmol/gDW/h.\n"
     ]
    }
   ],
   "source": [
    "from reframed.io.sbml import load_cbmodel\n",
    "reframed_model = load_cbmodel('../models/iML1515.xml', flavor='fbc2')\n",
    "\n",
    "from cobra.io import read_sbml_model\n",
    "model = read_sbml_model('../models/iML1515.xml')\n",
    "\n",
    "from mewpy.simulation import get_simulator\n",
    "simul = get_simulator(reframed_model)\n",
    "\n",
    "envcond = {'R_EX_glc__D_e': (-15, 999999.0), 'R_EX_o2_e': (0, 999999.0)}\n",
    "\n",
    "simul = get_simulator(reframed_model, envcond=envcond)\n",
    "print(simul)\n",
    "result = simul.simulate(method='FBA')\n",
    "print(result)\n",
    "\n",
    "dt = result.fluxes\n",
    "\n",
    "production = 0\n",
    "for i in dt:\n",
    "    if i == 'R_EX_lac__L_e' or i == 'R_EX_lac__D_e':\n",
    "        production += dt[i]\n",
    "\n",
    "print(\"A produção de lactato para as condições ambientais de Oxigénio = 0 mmol/gDW/h e Glicose = 15 mmol/gDW/h é: {0} mmol/gDW/h.\".format(production))"
   ]
  },
  {
   "cell_type": "markdown",
   "metadata": {
    "pycharm": {
     "name": "#%% md\n"
    }
   },
   "source": [
    "## 2. What are the maximum compoundproduction capabilities?"
   ]
  },
  {
   "cell_type": "code",
   "execution_count": 3,
   "metadata": {
    "pycharm": {
     "name": "#%%\n"
    }
   },
   "outputs": [
    {
     "name": "stdout",
     "output_type": "stream",
     "text": [
      "Metabolites:\n",
      "c 1071\n",
      "e 341\n",
      "p 465\n",
      "\n",
      "Reactions:\n",
      "enzymatic 1476\n",
      "transport 833\n",
      "exchange 337\n",
      "sink 0\n",
      "other 66\n"
     ]
    },
    {
     "data": {
      "text/plain": [
       "{'R_EX_lac__L_e': [0.0, 1.1141818181817698],\n",
       " 'R_EX_lac__D_e': [0.0, 12.255999999998616]}"
      ]
     },
     "execution_count": 3,
     "metadata": {},
     "output_type": "execute_result"
    }
   ],
   "source": [
    "# identificar os metabolitos externos\n",
    "reframed_model.summary()\n",
    "\n",
    "\n",
    "# identificar as reações do metabolito pretendido (lactato)\n",
    "reframed_model.metabolites[\"M_lac__L_e\"]\n",
    "reframed_model.metabolites[\"M_lac__D_e\"]\n",
    "\n",
    "# pode calcular-se a produção máxima em wildtype mantendo a função objectivo de maximização do crescimento, usando FVA\n",
    "simul.FVA(reactions=['R_EX_lac__L_e', 'R_EX_lac__D_e'])\n",
    "#OU\n",
    "\n",
    "# podemos alterar a função objectivo para maximização da produção de lactato e depois analisar o fluxo minimo e maximo usando FVA\n",
    "# não está completo, são duas reações objectivo\n",
    "simul.objective = {'R_EX_lac__L_e': -1, 'R_EX_lac__D_e': -1}\n",
    "simul.objective\n",
    "simul.FVA(reactions=['R_EX_lac__L_e', 'R_EX_lac__D_e'])"
   ]
  },
  {
   "cell_type": "markdown",
   "metadata": {
    "pycharm": {
     "name": "#%% md\n"
    }
   },
   "source": [
    "## 3. Use different optimization objective functionsto improve the production of  the compound, considering  that  cells  have  evolved  for  maximum growth."
   ]
  },
  {
   "cell_type": "code",
   "execution_count": 4,
   "metadata": {
    "pycharm": {
     "name": "#%%\n"
    }
   },
   "outputs": [
    {
     "name": "stdout",
     "output_type": "stream",
     "text": [
      "4\n",
      "3\n",
      "2\n",
      "1\n"
     ]
    },
    {
     "ename": "KeyError",
     "evalue": "'R_EX_glc__D_e'",
     "output_type": "error",
     "traceback": [
      "\u001B[0;31m---------------------------------------------------------------------------\u001B[0m",
      "\u001B[0;31mKeyError\u001B[0m                                  Traceback (most recent call last)",
      "\u001B[0;32m<ipython-input-4-d6b484ccd17c>\u001B[0m in \u001B[0;36m<module>\u001B[0;34m\u001B[0m\n\u001B[1;32m     17\u001B[0m \u001B[0mprint\u001B[0m\u001B[0;34m(\u001B[0m\u001B[0;34m\"1\"\u001B[0m\u001B[0;34m)\u001B[0m\u001B[0;34m\u001B[0m\u001B[0;34m\u001B[0m\u001B[0m\n\u001B[1;32m     18\u001B[0m \u001B[0mea\u001B[0m \u001B[0;34m=\u001B[0m \u001B[0mEA\u001B[0m\u001B[0;34m(\u001B[0m\u001B[0mproblem\u001B[0m\u001B[0;34m,\u001B[0m \u001B[0mmax_generations\u001B[0m\u001B[0;34m=\u001B[0m \u001B[0;36m10\u001B[0m\u001B[0;34m,\u001B[0m \u001B[0mvisualizer\u001B[0m\u001B[0;34m=\u001B[0m\u001B[0;32mTrue\u001B[0m\u001B[0;34m,\u001B[0m \u001B[0mmp\u001B[0m\u001B[0;34m=\u001B[0m\u001B[0;32mTrue\u001B[0m\u001B[0;34m)\u001B[0m\u001B[0;34m\u001B[0m\u001B[0;34m\u001B[0m\u001B[0m\n\u001B[0;32m---> 19\u001B[0;31m \u001B[0mfinal_pop\u001B[0m \u001B[0;34m=\u001B[0m \u001B[0mea\u001B[0m\u001B[0;34m.\u001B[0m\u001B[0mrun\u001B[0m\u001B[0;34m(\u001B[0m\u001B[0;34m)\u001B[0m\u001B[0;34m\u001B[0m\u001B[0;34m\u001B[0m\u001B[0m\n\u001B[0m\u001B[1;32m     20\u001B[0m \u001B[0mprint\u001B[0m\u001B[0;34m(\u001B[0m\u001B[0mfinal_pop\u001B[0m\u001B[0;34m)\u001B[0m\u001B[0;34m\u001B[0m\u001B[0;34m\u001B[0m\u001B[0m\n\u001B[1;32m     21\u001B[0m \u001B[0mprint\u001B[0m\u001B[0;34m(\u001B[0m\u001B[0mlen\u001B[0m\u001B[0;34m)\u001B[0m\u001B[0;34m\u001B[0m\u001B[0;34m\u001B[0m\u001B[0m\n",
      "\u001B[0;32m/usr/local/lib/python3.7/site-packages/mewpy/optimization/ea.py\u001B[0m in \u001B[0;36mrun\u001B[0;34m(self)\u001B[0m\n\u001B[1;32m    107\u001B[0m \u001B[0;34m\u001B[0m\u001B[0m\n\u001B[1;32m    108\u001B[0m         \u001B[0;31m# builds the target list\u001B[0m\u001B[0;34m\u001B[0m\u001B[0;34m\u001B[0m\u001B[0;34m\u001B[0m\u001B[0m\n\u001B[0;32m--> 109\u001B[0;31m         \u001B[0mself\u001B[0m\u001B[0;34m.\u001B[0m\u001B[0mproblem\u001B[0m\u001B[0;34m.\u001B[0m\u001B[0mpre_process\u001B[0m\u001B[0;34m(\u001B[0m\u001B[0;34m)\u001B[0m\u001B[0;34m\u001B[0m\u001B[0;34m\u001B[0m\u001B[0m\n\u001B[0m\u001B[1;32m    110\u001B[0m \u001B[0;34m\u001B[0m\u001B[0m\n\u001B[1;32m    111\u001B[0m         \u001B[0;32mif\u001B[0m \u001B[0mself\u001B[0m\u001B[0;34m.\u001B[0m\u001B[0mproblem\u001B[0m\u001B[0;34m.\u001B[0m\u001B[0mnumber_of_objectives\u001B[0m \u001B[0;34m==\u001B[0m \u001B[0;36m1\u001B[0m\u001B[0;34m:\u001B[0m\u001B[0;34m\u001B[0m\u001B[0;34m\u001B[0m\u001B[0m\n",
      "\u001B[0;32m/usr/local/lib/python3.7/site-packages/mewpy/problems/problem.py\u001B[0m in \u001B[0;36mpre_process\u001B[0;34m(self)\u001B[0m\n\u001B[1;32m    134\u001B[0m         \"\"\" Defines pre processing tasks\n\u001B[1;32m    135\u001B[0m         \"\"\"\n\u001B[0;32m--> 136\u001B[0;31m         \u001B[0mself\u001B[0m\u001B[0;34m.\u001B[0m\u001B[0mtarget_list\u001B[0m\u001B[0;34m\u001B[0m\u001B[0;34m\u001B[0m\u001B[0m\n\u001B[0m\u001B[1;32m    137\u001B[0m         \u001B[0mself\u001B[0m\u001B[0;34m.\u001B[0m\u001B[0mreset_simulator\u001B[0m\u001B[0;34m(\u001B[0m\u001B[0;34m)\u001B[0m\u001B[0;34m\u001B[0m\u001B[0;34m\u001B[0m\u001B[0m\n\u001B[1;32m    138\u001B[0m \u001B[0;34m\u001B[0m\u001B[0m\n",
      "\u001B[0;32m/usr/local/lib/python3.7/site-packages/mewpy/problems/problem.py\u001B[0m in \u001B[0;36mtarget_list\u001B[0;34m(self)\u001B[0m\n\u001B[1;32m    162\u001B[0m         \u001B[0;34m\"list of modification targets\"\u001B[0m\u001B[0;34m\u001B[0m\u001B[0;34m\u001B[0m\u001B[0m\n\u001B[1;32m    163\u001B[0m         \u001B[0;32mif\u001B[0m \u001B[0mself\u001B[0m\u001B[0;34m.\u001B[0m\u001B[0m_trg_list\u001B[0m \u001B[0;32mis\u001B[0m \u001B[0;32mNone\u001B[0m\u001B[0;34m:\u001B[0m\u001B[0;34m\u001B[0m\u001B[0;34m\u001B[0m\u001B[0m\n\u001B[0;32m--> 164\u001B[0;31m             \u001B[0mself\u001B[0m\u001B[0;34m.\u001B[0m\u001B[0m_build_target_list\u001B[0m\u001B[0;34m(\u001B[0m\u001B[0;34m)\u001B[0m\u001B[0;34m\u001B[0m\u001B[0;34m\u001B[0m\u001B[0m\n\u001B[0m\u001B[1;32m    165\u001B[0m             \u001B[0;32mif\u001B[0m \u001B[0;32mnot\u001B[0m \u001B[0mself\u001B[0m\u001B[0;34m.\u001B[0m\u001B[0m_trg_list\u001B[0m\u001B[0;34m:\u001B[0m\u001B[0;34m\u001B[0m\u001B[0;34m\u001B[0m\u001B[0m\n\u001B[1;32m    166\u001B[0m                 \u001B[0;32mraise\u001B[0m \u001B[0mRuntimeError\u001B[0m\u001B[0;34m(\u001B[0m\u001B[0;34m\"Could not build target list.\"\u001B[0m\u001B[0;34m)\u001B[0m\u001B[0;34m\u001B[0m\u001B[0;34m\u001B[0m\u001B[0m\n",
      "\u001B[0;32m/usr/local/lib/python3.7/site-packages/mewpy/problems/genes.py\u001B[0m in \u001B[0;36m_build_target_list\u001B[0;34m(self)\u001B[0m\n\u001B[1;32m     34\u001B[0m \u001B[0;34m\u001B[0m\u001B[0m\n\u001B[1;32m     35\u001B[0m         \u001B[0mgenes\u001B[0m \u001B[0;34m=\u001B[0m \u001B[0mset\u001B[0m\u001B[0;34m(\u001B[0m\u001B[0mself\u001B[0m\u001B[0;34m.\u001B[0m\u001B[0msimulator\u001B[0m\u001B[0;34m.\u001B[0m\u001B[0mgenes\u001B[0m\u001B[0;34m)\u001B[0m\u001B[0;34m\u001B[0m\u001B[0;34m\u001B[0m\u001B[0m\n\u001B[0;32m---> 36\u001B[0;31m         \u001B[0messential\u001B[0m \u001B[0;34m=\u001B[0m \u001B[0mset\u001B[0m\u001B[0;34m(\u001B[0m\u001B[0mself\u001B[0m\u001B[0;34m.\u001B[0m\u001B[0msimulator\u001B[0m\u001B[0;34m.\u001B[0m\u001B[0messential_genes\u001B[0m\u001B[0;34m)\u001B[0m\u001B[0;34m\u001B[0m\u001B[0;34m\u001B[0m\u001B[0m\n\u001B[0m\u001B[1;32m     37\u001B[0m         \u001B[0mtarget\u001B[0m \u001B[0;34m=\u001B[0m \u001B[0mgenes\u001B[0m \u001B[0;34m-\u001B[0m \u001B[0messential\u001B[0m\u001B[0;34m\u001B[0m\u001B[0;34m\u001B[0m\u001B[0m\n\u001B[1;32m     38\u001B[0m         \u001B[0;32mif\u001B[0m \u001B[0mself\u001B[0m\u001B[0;34m.\u001B[0m\u001B[0mnon_target\u001B[0m\u001B[0;34m:\u001B[0m\u001B[0;34m\u001B[0m\u001B[0;34m\u001B[0m\u001B[0m\n",
      "\u001B[0;32m/usr/local/lib/python3.7/site-packages/mewpy/simulation/cobra.py\u001B[0m in \u001B[0;36messential_genes\u001B[0;34m(self, min_growth)\u001B[0m\n\u001B[1;32m    180\u001B[0m             \u001B[0;32mreturn\u001B[0m \u001B[0mself\u001B[0m\u001B[0;34m.\u001B[0m\u001B[0m_essential_genes\u001B[0m\u001B[0;34m\u001B[0m\u001B[0;34m\u001B[0m\u001B[0m\n\u001B[1;32m    181\u001B[0m         \u001B[0mself\u001B[0m\u001B[0;34m.\u001B[0m\u001B[0m_essential_genes\u001B[0m \u001B[0;34m=\u001B[0m \u001B[0;34m[\u001B[0m\u001B[0;34m]\u001B[0m\u001B[0;34m\u001B[0m\u001B[0;34m\u001B[0m\u001B[0m\n\u001B[0;32m--> 182\u001B[0;31m         \u001B[0mwt_solution\u001B[0m \u001B[0;34m=\u001B[0m \u001B[0mself\u001B[0m\u001B[0;34m.\u001B[0m\u001B[0msimulate\u001B[0m\u001B[0;34m(\u001B[0m\u001B[0;34m)\u001B[0m\u001B[0;34m\u001B[0m\u001B[0;34m\u001B[0m\u001B[0m\n\u001B[0m\u001B[1;32m    183\u001B[0m         \u001B[0mwt_growth\u001B[0m \u001B[0;34m=\u001B[0m \u001B[0mwt_solution\u001B[0m\u001B[0;34m.\u001B[0m\u001B[0mobjective_value\u001B[0m\u001B[0;34m\u001B[0m\u001B[0;34m\u001B[0m\u001B[0m\n\u001B[1;32m    184\u001B[0m         \u001B[0mgenes\u001B[0m \u001B[0;34m=\u001B[0m \u001B[0mself\u001B[0m\u001B[0;34m.\u001B[0m\u001B[0mgenes\u001B[0m\u001B[0;34m\u001B[0m\u001B[0;34m\u001B[0m\u001B[0m\n",
      "\u001B[0;32m/usr/local/lib/python3.7/site-packages/mewpy/simulation/cobra.py\u001B[0m in \u001B[0;36msimulate\u001B[0;34m(self, objective, method, maximize, constraints, reference, scalefactor)\u001B[0m\n\u001B[1;32m    450\u001B[0m             \u001B[0mmodel\u001B[0m\u001B[0;34m.\u001B[0m\u001B[0mobjective\u001B[0m \u001B[0;34m=\u001B[0m \u001B[0mobjective\u001B[0m\u001B[0;34m\u001B[0m\u001B[0;34m\u001B[0m\u001B[0m\n\u001B[1;32m    451\u001B[0m             \u001B[0;32mfor\u001B[0m \u001B[0mrxn\u001B[0m \u001B[0;32min\u001B[0m \u001B[0mlist\u001B[0m\u001B[0;34m(\u001B[0m\u001B[0msimul_constraints\u001B[0m\u001B[0;34m.\u001B[0m\u001B[0mkeys\u001B[0m\u001B[0;34m(\u001B[0m\u001B[0;34m)\u001B[0m\u001B[0;34m)\u001B[0m\u001B[0;34m:\u001B[0m\u001B[0;34m\u001B[0m\u001B[0;34m\u001B[0m\u001B[0m\n\u001B[0;32m--> 452\u001B[0;31m                 \u001B[0mreac\u001B[0m \u001B[0;34m=\u001B[0m \u001B[0mmodel\u001B[0m\u001B[0;34m.\u001B[0m\u001B[0mreactions\u001B[0m\u001B[0;34m.\u001B[0m\u001B[0mget_by_id\u001B[0m\u001B[0;34m(\u001B[0m\u001B[0mrxn\u001B[0m\u001B[0;34m)\u001B[0m\u001B[0;34m\u001B[0m\u001B[0;34m\u001B[0m\u001B[0m\n\u001B[0m\u001B[1;32m    453\u001B[0m                 \u001B[0;31m# constraints defined as a tuple (lower_bound, upper_bound) or as a single float value\u001B[0m\u001B[0;34m\u001B[0m\u001B[0;34m\u001B[0m\u001B[0;34m\u001B[0m\u001B[0m\n\u001B[1;32m    454\u001B[0m                 \u001B[0;32mif\u001B[0m \u001B[0misinstance\u001B[0m\u001B[0;34m(\u001B[0m\u001B[0msimul_constraints\u001B[0m\u001B[0;34m.\u001B[0m\u001B[0mget\u001B[0m\u001B[0;34m(\u001B[0m\u001B[0mrxn\u001B[0m\u001B[0;34m)\u001B[0m\u001B[0;34m,\u001B[0m \u001B[0mtuple\u001B[0m\u001B[0;34m)\u001B[0m\u001B[0;34m:\u001B[0m\u001B[0;34m\u001B[0m\u001B[0;34m\u001B[0m\u001B[0m\n",
      "\u001B[0;32m/usr/local/lib/python3.7/site-packages/cobra/core/dictlist.py\u001B[0m in \u001B[0;36mget_by_id\u001B[0;34m(self, id)\u001B[0m\n\u001B[1;32m     56\u001B[0m     \u001B[0;32mdef\u001B[0m \u001B[0mget_by_id\u001B[0m\u001B[0;34m(\u001B[0m\u001B[0mself\u001B[0m\u001B[0;34m,\u001B[0m \u001B[0mid\u001B[0m\u001B[0;34m)\u001B[0m\u001B[0;34m:\u001B[0m\u001B[0;34m\u001B[0m\u001B[0;34m\u001B[0m\u001B[0m\n\u001B[1;32m     57\u001B[0m         \u001B[0;34m\"\"\"return the element with a matching id\"\"\"\u001B[0m\u001B[0;34m\u001B[0m\u001B[0;34m\u001B[0m\u001B[0m\n\u001B[0;32m---> 58\u001B[0;31m         \u001B[0;32mreturn\u001B[0m \u001B[0mlist\u001B[0m\u001B[0;34m.\u001B[0m\u001B[0m__getitem__\u001B[0m\u001B[0;34m(\u001B[0m\u001B[0mself\u001B[0m\u001B[0;34m,\u001B[0m \u001B[0mself\u001B[0m\u001B[0;34m.\u001B[0m\u001B[0m_dict\u001B[0m\u001B[0;34m[\u001B[0m\u001B[0mid\u001B[0m\u001B[0;34m]\u001B[0m\u001B[0;34m)\u001B[0m\u001B[0;34m\u001B[0m\u001B[0;34m\u001B[0m\u001B[0m\n\u001B[0m\u001B[1;32m     59\u001B[0m \u001B[0;34m\u001B[0m\u001B[0m\n\u001B[1;32m     60\u001B[0m     \u001B[0;32mdef\u001B[0m \u001B[0mlist_attr\u001B[0m\u001B[0;34m(\u001B[0m\u001B[0mself\u001B[0m\u001B[0;34m,\u001B[0m \u001B[0mattribute\u001B[0m\u001B[0;34m)\u001B[0m\u001B[0;34m:\u001B[0m\u001B[0;34m\u001B[0m\u001B[0;34m\u001B[0m\u001B[0m\n",
      "\u001B[0;31mKeyError\u001B[0m: 'R_EX_glc__D_e'"
     ]
    }
   ],
   "source": [
    "from mewpy.optimization.evaluation import BPCY, TargetFlux, WYIELD, BPCY_FVA\n",
    "from mewpy.problems import GKOProblem\n",
    "from mewpy.optimization import EA\n",
    "from mewpy.simulation import SimulationMethod\n",
    "from mewpy.optimization import set_default_engine\n",
    "\n",
    "print(\"4\")\n",
    "PRODUCT_ID = 'EX_lac__D_e'\n",
    "BIOMASS_ID = 'Biomass_Ec_iML1515_core_75p37M'\n",
    "GLUC_ID = 'EX_glc__D_e'\n",
    "\n",
    "print(\"3\")\n",
    "evaluator_1 = BPCY(BIOMASS_ID, PRODUCT_ID, method = SimulationMethod.lMOMA)\n",
    "evaluator_2 = WYIELD(BIOMASS_ID, PRODUCT_ID)\n",
    "print(\"2\")\n",
    "problem = GKOProblem(model, fevaluation=[evaluator_1, evaluator_2], envcond=envcond, candidate_min_size=1, candidate_max_size=1)\n",
    "print(\"1\")\n",
    "ea = EA(problem, max_generations= 10, visualizer=True, mp=True)\n",
    "final_pop = ea.run()\n",
    "print(final_pop)\n",
    "print(len)\n",
    "print(final_pop[1])\n",
    "print(final_pop.values())"
   ]
  },
  {
   "cell_type": "code",
   "execution_count": 3,
   "metadata": {
    "scrolled": true
   },
   "outputs": [
    {
     "name": "stdout",
     "output_type": "stream",
     "text": [
      "4\n",
      "3\n",
      "2\n",
      "1\n",
      "Running NSGAII\n"
     ]
    },
    {
     "data": {
      "image/png": "[encoded data removed]",
      "text/plain": [
       "<Figure size 432x288 with 1 Axes>"
      ]
     },
     "metadata": {
      "needs_background": "light"
     },
     "output_type": "display_data"
    },
    {
     "name": "stdout",
     "output_type": "stream",
     "text": [
      "Gen    Eval|     Worst      Best    Median   Average   Std Dev|     Worst      Best    Median   Average   Std Dev|\n",
      "   0    100|  0.000000  0.000000  0.000000  0.000000  0.000000|  0.000000  0.000000  0.000000  0.000000  0.000000|\n",
      "   1    200|  0.000000  0.000000  0.000000  0.000000  0.000000|  0.000000  0.000000  0.000000  0.000000  0.000000|\n",
      "   2    300|  0.000000  0.000000  0.000000  0.000000  0.000000|  0.000000  0.000000  0.000000  0.000000  0.000000|\n",
      "   3    400|  0.000000  0.000000  0.000000  0.000000  0.000000|  0.000000  0.000000  0.000000  0.000000  0.000000|\n",
      "   4    500|  0.000000  0.000000  0.000000  0.000000  0.000000|  0.000000  0.000000  0.000000  0.000000  0.000000|\n",
      "   5    600|  0.000000  0.000000  0.000000  0.000000  0.000000|  0.000000  0.000000  0.000000  0.000000  0.000000|\n",
      "   6    700|  0.000000  0.000000  0.000000  0.000000  0.000000|  0.000000  0.000000  0.000000  0.000000  0.000000|\n",
      "   7    800|  0.000000  0.000000  0.000000  0.000000  0.000000|  0.000000  0.000000  0.000000  0.000000  0.000000|\n",
      "   8    900|  0.000000  0.000000  0.000000  0.000000  0.000000|  0.000000  0.000000  0.000000  0.000000  0.000000|\n",
      "   9   1000|  0.000000  0.000000  0.000000  0.000000  0.000000|  0.000000  0.000000  0.000000  0.000000  0.000000|\n",
      "  10   1100|  0.000000  0.000000  0.000000  0.000000  0.000000|  0.000000  0.000000  0.000000  0.000000  0.000000|\n",
      "[[0.0, 0.0];{'G_b2752': 0.0625, 'G_b0759': 0.5}, [0.0, 0.0];{'G_b4146': 0.03125, 'G_b1723': 0.0625, 'G_b0929': 2}, [0.0, 0.0];{'G_b0754': 0.5, 'G_b2752': 0.25, 'G_b4085': 16}, [0.0, 0.0];{'G_b2711': 16, 'G_b0516': 2, 'G_b0914': 0.0625, 'G_b4005': 0.0625, 'G_b1710': 0.03125}, [0.0, 0.0];{'G_b2797': 0.125, 'G_b0954': 8, 'G_b2344': 0, 'G_b0894': 2, 'G_b3426': 0.03125}, [0.0, 0.0];{'G_b3571': 8, 'G_b1301': 2, 'G_b2752': 0.0625, 'G_b0928': 0}, [0.0, 0.0];{'G_b0785': 32, 'G_b3614': 8, 'G_b2281': 0.03125, 'G_b1006': 2}, [0.0, 0.0];{'G_b0200': 0.5, 'G_b1396': 0.125, 'G_b0008': 0.5, 'G_b1397': 2}, [0.0, 0.0];{'G_b0831': 0.5, 'G_b3916': 4, 'G_b3927': 0.0625, 'G_b0180': 0.25}, [0.0, 0.0];{'G_b2843': 0.0625, 'G_b3041': 0.03125, 'G_b2133': 0.5}, [0.0, 0.0];{'G_b1589': 0.125, 'G_b3571': 0.03125, 'G_b2541': 0.25, 'G_b2963': 0.03125}, [0.0, 0.0];{'G_b1599': 0.03125, 'G_b1896': 4, 'G_b1745': 0.5, 'G_b0874': 0, 'G_b0032': 0.125}, [0.0, 0.0];{'G_b0728': 0.125, 'G_b3453': 0.125}, [0.0, 0.0];{'G_b0038': 0.0625, 'G_b3199': 0, 'G_b4005': 0.5, 'G_b2169': 2, 'G_b2997': 0}, [0.0, 0.0];{'G_b1010': 4, 'G_b4101': 0.125, 'G_b4383': 0.0625, 'G_b2378': 16}, [0.0, 0.0];{'G_b0515': 4, 'G_b4100': 2}, [0.0, 0.0];{'G_b0446': 0.5, 'G_b1380': 4}, [0.0, 0.0];{'G_b2670': 0.125, 'G_b4287': 0.25}, [0.0, 0.0];{'G_b3614': 8, 'G_b2281': 0.03125, 'G_b0785': 32}, [0.0, 0.0];{'G_b2179': 0.5, 'G_b2763': 0.125, 'G_b3212': 0.5, 'G_b2097': 32, 'G_b1009': 32}, [0.0, 0.0];{'G_b0980': 16, 'G_b0355': 0.0625, 'G_b3114': 32, 'G_b2700': 2}, [0.0, 0.0];{'G_b1113': 0.25, 'G_b3006': 0.5, 'G_b3605': 0.03125, 'G_b2835': 32, 'G_b3432': 8}, [0.0, 0.0];{'G_b0221': 4, 'G_b1870': 0.125, 'G_b3737': 0.25}, [0.0, 0.0];{'G_b2256': 0.03125, 'G_b2379': 8, 'G_b1276': 32, 'G_b2302': 0}, [0.0, 0.0];{'G_b2905': 0.5, 'G_b3581': 4}, [0.0, 0.0];{'G_b2827': 0.0625, 'G_b0003': 16, 'G_b0344': 0.25}, [0.0, 0.0];{'G_b3903': 8, 'G_b3867': 8, 'G_b1801': 16, 'G_b2533': 0.0625}, [0.0, 0.0];{'G_b3028': 16, 'G_b2287': 16, 'G_b3634': 0, 'G_b2702': 0.25, 'G_b3256': 32}, [0.0, 0.0];{'G_b2703': 0.125, 'G_b0038': 32}, [0.0, 0.0];{'G_b2302': 0.03125, 'G_b4173': 0.03125, 'G_b0432': 0.125, 'G_b1517': 8, 'G_b4130': 0.5}, [0.0, 0.0];{'G_b2264': 0.0625, 'G_b0831': 0.5, 'G_b3916': 4, 'G_b3927': 0.0625, 'G_b0180': 0.25}, [0.0, 0.0];{'G_b3843': 32, 'G_b1723': 0.0625, 'G_b0929': 2}, [0.0, 0.0];{'G_b4025': 32, 'G_b0008': 0.5, 'G_b1093': 0.0625, 'G_b1397': 2}, [0.0, 0.0];{'G_b3001': 0, 'G_b1681': 0.25, 'G_b2232': 16, 'G_b0837': 0.125}, [0.0, 0.0];{'G_b3366': 0.125, 'G_b2552': 8, 'G_b2201': 0.0625, 'G_b2416': 2}, [0.0, 0.0];{'G_b3528': 0.5, 'G_b3809': 0.25, 'G_b0096': 0.0625}, [0.0, 0.0];{'G_b0008': 32, 'G_b2133': 0.5}, [0.0, 0.0];{'G_b0585': 0.25, 'G_b3630': 0, 'G_b1270': 0.25, 'G_b2175': 0.25}, [0.0, 0.0];{'G_b2256': 0.0625, 'G_b1533': 16, 'G_b3350': 0.0625, 'G_b1285': 0.0625, 'G_b0425': 4}, [0.0, 0.0];{'G_b2871': 0.5, 'G_b0925': 0.0625}, [0.0, 0.0];{'G_b1449': 0.5, 'G_b0415': 0.125, 'G_b3543': 0.0625, 'G_b2715': 0.125}, [0.0, 0.0];{'G_b0040': 4, 'G_b2019': 0.25}, [0.0, 0.0];{'G_b2975': 0.5, 'G_b4031': 32, 'G_b1094': 32, 'G_b0655': 16, 'G_b2800': 0.5}, [0.0, 0.0];{'G_b0085': 4, 'G_b2965': 32, 'G_b1247': 0.0625, 'G_b1897': 0.03125, 'G_b2224': 4}, [0.0, 0.0];{'G_b1535': 2, 'G_b0428': 0.125, 'G_b1466': 0.5}, [0.0, 0.0];{'G_b2430': 0.0625, 'G_b4383': 0.25, 'G_b3368': 32, 'G_b3616': 2}, [0.0, 0.0];{'G_b3875': 0.0625, 'G_b0572': 0.03125, 'G_b3572': 0.0625, 'G_b0337': 0.25}, [0.0, 0.0];{'G_b3571': 8, 'G_b1301': 2, 'G_b0728': 4, 'G_b0928': 0}, [0.0, 0.0];{'G_b1467': 2, 'G_b0062': 32}, [0.0, 0.0];{'G_b3974': 2, 'G_b3857': 0.25, 'G_b0727': 0.25}, [0.0, 0.0];{'G_b4392': 8, 'G_b1870': 0.125, 'G_b1244': 0.125}, [0.0, 0.0];{'G_b0886': 0.125, 'G_b0628': 0.25, 'G_b2888': 8}, [0.0, 0.0];{'G_b0029': 16, 'G_b0160': 0.03125, 'G_b2913': 0.125}, [0.0, 0.0];{'G_b1486': 16, 'G_b1325': 0.5, 'G_b3664': 0.125}, [0.0, 0.0];{'G_b2478': 0, 'G_b0864': 16, 'G_b2541': 16}, [0.0, 0.0];{'G_b2690': 0.25, 'G_b0054': 0.125}, [0.0, 0.0];{'G_b0200': 0.5, 'G_b1396': 0.125}, [0.0, 0.0];{'G_b3599': 16, 'G_b0886': 0.03125}, [0.0, 0.0];{'G_b0722': 0.03125, 'G_b3731': 4, 'G_b2578': 4}, [0.0, 0.0];{'G_b2052': 32, 'G_b1704': 8, 'G_b2499': 0.0625, 'G_b3630': 0.25}, [0.0, 0.0];{'G_b1732': 0.5, 'G_b2421': 0.03125, 'G_b3990': 0.125}, [0.0, 0.0];{'G_b3479': 32, 'G_b2366': 8}, [0.0, 0.0];{'G_b3600': 4, 'G_b1394': 8, 'G_b2987': 0.0625, 'G_b3359': 0.0625, 'G_b1855': 32}, [0.0, 0.0];{'G_b2711': 16, 'G_b2746': 0.03125, 'G_b0729': 0.5, 'G_b0914': 0.0625, 'G_b2297': 0}, [0.0, 0.0];{'G_b3525': 0.125, 'G_b0822': 0.0625}, [0.0, 0.0];{'G_b1236': 32, 'G_b1900': 32}, [0.0, 0.0];{'G_b4230': 0.03125, 'G_b3005': 0, 'G_b3291': 8, 'G_b0650': 0.03125, 'G_b3012': 0.125}, [0.0, 0.0];{'G_b1389': 32, 'G_b2797': 0.125, 'G_b3804': 8, 'G_b0894': 2}, [0.0, 0.0];{'G_b2501': 4, 'G_b0728': 16, 'G_b2906': 32}, [0.0, 0.0];{'G_b3749': 0.5, 'G_b2425': 0.0625, 'G_b2323': 0.5, 'G_b0755': 0}, [0.0, 0.0];{'G_b0485': 32, 'G_b2430': 0, 'G_b0151': 2}, [0.0, 0.0];{'G_b2344': 0, 'G_b3426': 0.03125, 'G_b3730': 0.125}, [0.0, 0.0];{'G_b4160': 4, 'G_b2579': 0.125, 'G_b2957': 8, 'G_b4085': 16}, [0.0, 0.0];{'G_b3041': 0.03125, 'G_b1695': 0.03125}, [0.0, 0.0];{'G_b3785': 4, 'G_b3875': 2, 'G_b2234': 0.0625, 'G_b2441': 0.0625}, [0.0, 0.0];{'G_b3041': 0.03125, 'G_b3578': 0.5, 'G_b0402': 8, 'G_b2843': 0.0625, 'G_b1819': 0.5}, [0.0, 0.0];{'G_b0765': 2, 'G_b1475': 0, 'G_b0577': 0.5, 'G_b2234': 4, 'G_b2254': 4}, [0.0, 0.0];{'G_b1611': 0.0625, 'G_b0507': 0.25, 'G_b1006': 2}, [0.0, 0.0];{'G_b2094': 32, 'G_b2533': 0.5, 'G_b3172': 0, 'G_b3222': 0.0625, 'G_b0009': 32}, [0.0, 0.0];{'G_b0444': 0.0625, 'G_b0641': 8, 'G_b0120': 16}, [0.0, 0.0];{'G_b1692': 0.03125, 'G_b2441': 4, 'G_b0099': 0.0625, 'G_b0343': 32}, [0.0, 0.0];{'G_b3429': 4, 'G_b1326': 0.03125, 'G_b3624': 0.0625, 'G_b2551': 0.125, 'G_b2366': 2}, [0.0, 0.0];{'G_b2975': 0.0625, 'G_b3610': 0.125, 'G_b3909': 0.0625}, [0.0, 0.0];{'G_b1019': 0, 'G_b2366': 4, 'G_b2662': 0.03125, 'G_b2994': 8}, [0.0, 0.0];{'G_b1338': 0.5, 'G_b3622': 8, 'G_b2523': 0.125, 'G_b1014': 32}, [0.0, 0.0];{'G_b2128': 0, 'G_b4407': 0, 'G_b4020': 0.0625}, [0.0, 0.0];{'G_b3648': 2, 'G_b3571': 0.03125, 'G_b1589': 0.125}, [0.0, 0.0];{'G_b0179': 0.5, 'G_b0516': 2, 'G_b3008': 16, 'G_b4005': 0.0625, 'G_b1710': 0.03125}, [0.0, 0.0];{'G_b0484': 0.125, 'G_b1982': 32, 'G_b0902': 0.25, 'G_b4106': 16, 'G_b4035': 0.125}, [0.0, 0.0];{'G_b2316': 32, 'G_b4290': 0, 'G_b0003': 0.03125, 'G_b3806': 0.125}, [0.0, 0.0];{'G_b3201': 0.03125, 'G_b0038': 0.0625, 'G_b3052': 4}, [0.0, 0.0];{'G_b1107': 8, 'G_b0334': 4, 'G_b0480': 0.5, 'G_b3437': 0.125}, [0.0, 0.0];{'G_b3722': 16, 'G_b3945': 0}, [0.0, 0.0];{'G_b4311': 0.25, 'G_b0655': 0.0625, 'G_b4146': 0.03125, 'G_b1740': 32, 'G_b2541': 16}, [0.0, 0.0];{'G_b2541': 0.25, 'G_b0723': 0.125, 'G_b2388': 0, 'G_b2963': 0.03125}, [0.0, 0.0];{'G_b1514': 2, 'G_b3426': 0.03125, 'G_b2947': 0.125}, [0.0, 0.0];{'G_b3453': 4, 'G_b3389': 16, 'G_b1821': 8, 'G_b0895': 0.0625}, [0.0, 0.0];{'G_b3904': 8, 'G_b4024': 0.5, 'G_b2507': 2, 'G_b2150': 0.03125, 'G_b3006': 16}, [0.0, 0.0];{'G_b0036': 4, 'G_b0754': 0.5, 'G_b3248': 0.25}, [0.0, 0.0];{'G_b1814': 0.0625, 'G_b2320': 32}]\n",
      "<built-in function len>\n",
      "[0.0, 0.0];{'G_b4146': 0.03125, 'G_b1723': 0.0625, 'G_b0929': 2}\n"
     ]
    },
    {
     "ename": "AttributeError",
     "evalue": "'list' object has no attribute 'values'",
     "output_type": "error",
     "traceback": [
      "\u001B[0;31m---------------------------------------------------------------------------\u001B[0m",
      "\u001B[0;31mAttributeError\u001B[0m                            Traceback (most recent call last)",
      "\u001B[0;32m<ipython-input-3-87d5e8829410>\u001B[0m in \u001B[0;36m<module>\u001B[0;34m\u001B[0m\n\u001B[1;32m     20\u001B[0m \u001B[0mprint\u001B[0m\u001B[0;34m(\u001B[0m\u001B[0mlen\u001B[0m\u001B[0;34m)\u001B[0m\u001B[0;34m\u001B[0m\u001B[0;34m\u001B[0m\u001B[0m\n\u001B[1;32m     21\u001B[0m \u001B[0mprint\u001B[0m\u001B[0;34m(\u001B[0m\u001B[0mfinal_pop\u001B[0m\u001B[0;34m[\u001B[0m\u001B[0;36m1\u001B[0m\u001B[0;34m]\u001B[0m\u001B[0;34m)\u001B[0m\u001B[0;34m\u001B[0m\u001B[0;34m\u001B[0m\u001B[0m\n\u001B[0;32m---> 22\u001B[0;31m \u001B[0mprint\u001B[0m\u001B[0;34m(\u001B[0m\u001B[0mfinal_pop\u001B[0m\u001B[0;34m.\u001B[0m\u001B[0mvalues\u001B[0m\u001B[0;34m)\u001B[0m\u001B[0;34m\u001B[0m\u001B[0;34m\u001B[0m\u001B[0m\n\u001B[0m",
      "\u001B[0;31mAttributeError\u001B[0m: 'list' object has no attribute 'values'"
     ]
    }
   ],
   "source": [
    "from mewpy.optimization.evaluation import BPCY, TargetFlux, WYIELD, BPCY_FVA\n",
    "from mewpy.problems import GOUProblem\n",
    "from mewpy.optimization import EA\n",
    "from mewpy.simulation import SimulationMethod\n",
    "\n",
    "print(\"4\")\n",
    "PRODUCT_ID = 'R_EX_lac__D_e'\n",
    "BIOMASS_ID = 'R_Biomass_Ec_iML1515_WT_75p37M'\n",
    "GLUC_ID = 'R_EX_glc__D_e'\n",
    "\n",
    "print(\"3\")\n",
    "evaluator_1 = BPCY(BIOMASS_ID, PRODUCT_ID, method = SimulationMethod.lMOMA)\n",
    "evaluator_2 = WYIELD(BIOMASS_ID, PRODUCT_ID)\n",
    "print(\"2\")\n",
    "problem = GOUProblem(reframed_model, fevaluation=[evaluator_1, evaluator_2], envcond=envcond, candidate_max_size=5)\n",
    "print(\"1\")\n",
    "ea = EA(problem, max_generations= 10, visualizer=True, mp=True)\n",
    "final_pop = ea.run()\n",
    "print(final_pop)\n",
    "print(len)\n",
    "print(final_pop[1])\n",
    "print(final_pop.values)"
   ]
  },
  {
   "cell_type": "code",
   "execution_count": null,
   "metadata": {},
   "outputs": [],
   "source": [
    "final_pop[0]"
   ]
  }
 ],
 "metadata": {
  "kernelspec": {
   "display_name": "Python 3",
   "language": "python",
   "name": "python3"
  },
  "language_info": {
   "codemirror_mode": {
    "name": "ipython",
    "version": 3
   },
   "file_extension": ".py",
   "mimetype": "text/x-python",
   "name": "python",
   "nbconvert_exporter": "python",
   "pygments_lexer": "ipython3",
   "version": "3.7.9"
  }
 },
 "nbformat": 4,
 "nbformat_minor": 1
}