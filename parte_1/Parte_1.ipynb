{
 "cells": [
  {
   "cell_type": "markdown",
   "metadata": {
    "collapsed": true,
    "pycharm": {
     "name": "#%% md\n"
    }
   },
   "source": [
    "Qual é a produção de lactato da estirpe selvagem?\n",
    "\n",
    "Para avaliar a produção de lactato foi primeiro necessário definir as condições ambientes e obter a função objetivo.\n",
    "As condições ambientais foram definidas como o consumo de oxigénio de 0 mmol/gDW/h e cosumo de glicose de 15 mmol/gDW/h.\n",
    "Foi depois obtida a função objetivo (declaração matemática do que deve ser realizado), neste caso para a produção ótima do composto desejado.\n",
    "Verificou-se que nas condições especificados não existe produção de lactato, ou seja, são produzidos 0 mm/gDW/h de lactato.."
   ]
  },
  {
   "cell_type": "code",
   "execution_count": 3,
   "metadata": {
    "scrolled": true
   },
   "outputs": [
    {
     "name": "stdout",
     "output_type": "stream",
     "text": [
      "<mewpy.simulation.reframed.Simulation object at 0x7fbf29484850>\n",
      "objective: 0.26609812519117754\n",
      "Status: OPTIMAL\n",
      "A produção de lactato para as condições ambientais de Oxigénio = 0 mmol/gDW/h e Glicose = 15 mmol/gDW/h é: -0.0 mmol/gDW/h.\n"
     ]
    }
   ],
   "source": [
    "from reframed.io.sbml import load_cbmodel\n",
    "model = load_cbmodel('../models/iML1515.xml')\n",
    "\n",
    "from mewpy.simulation import get_simulator\n",
    "simul = get_simulator(model)\n",
    "\n",
    "envcond = {'R_EX_glc__D_e': -15, 'R_EX_o2_e': 0}\n",
    "\n",
    "simul = get_simulator(model, envcond=envcond)\n",
    "print(simul)\n",
    "result = simul.simulate(method='FBA')\n",
    "print(result)\n",
    "\n",
    "dt = result.fluxes\n",
    "\n",
    "for i in dt:\n",
    "    if i == 'R_EX_lac__L_e':\n",
    "        print(\"A produção de lactato para as condições ambientais de Oxigénio = 0 mmol/gDW/h e Glicose = 15 mmol/gDW/h é: {0} mmol/gDW/h.\".format(dt[i]))\n"
   ]
  },
  {
   "cell_type": "code",
   "execution_count": 4,
   "metadata": {},
   "outputs": [
    {
     "name": "stdout",
     "output_type": "stream",
     "text": [
      "<mewpy.simulation.reframed.Simulation object at 0x7fbf29484850>\n",
      "objective: 0.26609812519117754\n",
      "Status: OPTIMAL\n",
      "A produção de lactato para as condições ambientais de Oxigénio = 0 mmol/gDW/h e Glicose = 15 mmol/gDW/h é: -0.0 mmol/gDW/h.\n"
     ]
    }
   ],
   "source": [
    "from reframed.io.sbml import load_cbmodel\n",
    "model = load_cbmodel('../models/iML1515.xml')\n",
    "\n",
    "from mewpy.simulation import get_simulator\n",
    "simul = get_simulator(model)\n",
    "\n",
    "envcond = {'R_EX_glc__D_e': (-15, 1000), 'R_EX_o2_e': (0, 1000)}\n",
    "\n",
    "simul = get_simulator(model, envcond=envcond)\n",
    "print(simul)\n",
    "result = simul.simulate(method='FBA')\n",
    "print(result)\n",
    "\n",
    "dt = result.fluxes\n",
    "\n",
    "for i in dt:\n",
    "    if i == 'R_EX_lac__L_e':\n",
    "        print(\"A produção de lactato para as condições ambientais de Oxigénio = 0 mmol/gDW/h e Glicose = 15 mmol/gDW/h é: {0} mmol/gDW/h.\".format(dt[i]))\n"
   ]
  },
  {
   "cell_type": "markdown",
   "metadata": {
    "pycharm": {
     "name": "#%% md\n"
    }
   },
   "source": [
    "\n",
    "\n"
   ]
  }
 ],
 "metadata": {
  "kernelspec": {
   "display_name": "Python 3",
   "language": "python",
   "name": "python3"
  },
  "language_info": {
   "codemirror_mode": {
    "name": "ipython",
    "version": 3
   },
   "file_extension": ".py",
   "mimetype": "text/x-python",
   "name": "python",
   "nbconvert_exporter": "python",
   "pygments_lexer": "ipython3",
   "version": "3.7.9"
  }
 },
 "nbformat": 4,
 "nbformat_minor": 1
}