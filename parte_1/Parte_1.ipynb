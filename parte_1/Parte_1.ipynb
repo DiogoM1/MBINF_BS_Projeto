{
 "cells": [
  {
   "cell_type": "markdown",
   "metadata": {
    "collapsed": true,
    "pycharm": {
     "name": "#%% md\n"
    }
   },
   "source": [
    "# Parte 1 - Implementação de problema de FBA\n",
    "## 1. Qual é a produção de lactato da estirpe selvagem?\n",
    "\n",
    "Para avaliar a produção de lactato foi primeiro necessário definir as condições ambientes e obter a função objetivo.\n",
    "As condições ambientais foram definidas como o consumo de oxigénio de 0 mmol/gDW/h e cosumo de glicose de 15 mmol/gDW/h.\n",
    "Foi depois obtida a função objetivo (declaração matemática do que deve ser realizado), neste caso para a produção ótima do composto desejado.\n",
    "Verificou-se que nas condições especificados não existe produção de lactato, ou seja, são produzidos 0 mm/gDW/h de lactato.."
   ]
  },
  {
   "cell_type": "code",
   "execution_count": 8,
   "metadata": {
    "scrolled": true
   },
   "outputs": [
    {
     "name": "stdout",
     "output_type": "stream",
     "text": [
      "<mewpy.simulation.reframed.Simulation object at 0x7f3083d90810>\n",
      "objective: 0.26609812519117976\n",
      "Status: OPTIMAL\n",
      "A produção de lactato para as condições ambientais de Oxigénio = 0 mmol/gDW/h e Glicose = 15 mmol/gDW/h é: 0.0 mmol/gDW/h.\n"
     ]
    },
    {
     "name": "stderr",
     "output_type": "stream",
     "text": [
      "/home/dm/anaconda3/envs/bs/lib/python3.7/site-packages/reframed/io/sbml.py:510: UserWarning:\n",
      "\n",
      "Gene association for reaction R_PFL is not DNF\n",
      "\n",
      "/home/dm/anaconda3/envs/bs/lib/python3.7/site-packages/reframed/io/sbml.py:510: UserWarning:\n",
      "\n",
      "Gene association for reaction R_RNDR1 is not DNF\n",
      "\n",
      "/home/dm/anaconda3/envs/bs/lib/python3.7/site-packages/reframed/io/sbml.py:510: UserWarning:\n",
      "\n",
      "Gene association for reaction R_RNDR3 is not DNF\n",
      "\n",
      "/home/dm/anaconda3/envs/bs/lib/python3.7/site-packages/reframed/io/sbml.py:510: UserWarning:\n",
      "\n",
      "Gene association for reaction R_RNDR4 is not DNF\n",
      "\n",
      "/home/dm/anaconda3/envs/bs/lib/python3.7/site-packages/reframed/io/sbml.py:510: UserWarning:\n",
      "\n",
      "Gene association for reaction R_CITL is not DNF\n",
      "\n",
      "/home/dm/anaconda3/envs/bs/lib/python3.7/site-packages/reframed/io/sbml.py:510: UserWarning:\n",
      "\n",
      "Gene association for reaction R_NO3R1bpp is not DNF\n",
      "\n",
      "/home/dm/anaconda3/envs/bs/lib/python3.7/site-packages/reframed/io/sbml.py:510: UserWarning:\n",
      "\n",
      "Gene association for reaction R_NO3R2bpp is not DNF\n",
      "\n",
      "/home/dm/anaconda3/envs/bs/lib/python3.7/site-packages/reframed/io/sbml.py:510: UserWarning:\n",
      "\n",
      "Gene association for reaction R_ATPS4rpp is not DNF\n",
      "\n",
      "/home/dm/anaconda3/envs/bs/lib/python3.7/site-packages/reframed/io/sbml.py:510: UserWarning:\n",
      "\n",
      "Gene association for reaction R_CPGNtonex is not DNF\n",
      "\n",
      "/home/dm/anaconda3/envs/bs/lib/python3.7/site-packages/reframed/io/sbml.py:510: UserWarning:\n",
      "\n",
      "Gene association for reaction R_FE3DCITtonex is not DNF\n",
      "\n",
      "/home/dm/anaconda3/envs/bs/lib/python3.7/site-packages/reframed/io/sbml.py:510: UserWarning:\n",
      "\n",
      "Gene association for reaction R_FEENTERtonex is not DNF\n",
      "\n",
      "/home/dm/anaconda3/envs/bs/lib/python3.7/site-packages/reframed/io/sbml.py:510: UserWarning:\n",
      "\n",
      "Gene association for reaction R_RNDR3b is not DNF\n",
      "\n",
      "/home/dm/anaconda3/envs/bs/lib/python3.7/site-packages/reframed/io/sbml.py:510: UserWarning:\n",
      "\n",
      "Gene association for reaction R_RNDR4b is not DNF\n",
      "\n",
      "/home/dm/anaconda3/envs/bs/lib/python3.7/site-packages/reframed/io/sbml.py:510: UserWarning:\n",
      "\n",
      "Gene association for reaction R_RNDR1b is not DNF\n",
      "\n",
      "/home/dm/anaconda3/envs/bs/lib/python3.7/site-packages/reframed/io/sbml.py:510: UserWarning:\n",
      "\n",
      "Gene association for reaction R_RNDR2b is not DNF\n",
      "\n",
      "/home/dm/anaconda3/envs/bs/lib/python3.7/site-packages/reframed/io/sbml.py:510: UserWarning:\n",
      "\n",
      "Gene association for reaction R_INDOLEt2pp is not DNF\n",
      "\n",
      "/home/dm/anaconda3/envs/bs/lib/python3.7/site-packages/reframed/io/sbml.py:510: UserWarning:\n",
      "\n",
      "Gene association for reaction R_FECRMtonex is not DNF\n",
      "\n",
      "/home/dm/anaconda3/envs/bs/lib/python3.7/site-packages/reframed/io/sbml.py:510: UserWarning:\n",
      "\n",
      "Gene association for reaction R_FE3HOXtonex is not DNF\n",
      "\n",
      "/home/dm/anaconda3/envs/bs/lib/python3.7/site-packages/reframed/io/sbml.py:510: UserWarning:\n",
      "\n",
      "Gene association for reaction R_FHL is not DNF\n",
      "\n",
      "/home/dm/anaconda3/envs/bs/lib/python3.7/site-packages/reframed/io/sbml.py:510: UserWarning:\n",
      "\n",
      "Gene association for reaction R_RNDR2 is not DNF\n",
      "\n",
      "/home/dm/anaconda3/envs/bs/lib/python3.7/site-packages/reframed/io/sbml.py:510: UserWarning:\n",
      "\n",
      "Gene association for reaction R_CELBpts is not DNF\n",
      "\n",
      "/home/dm/anaconda3/envs/bs/lib/python3.7/site-packages/reframed/io/sbml.py:510: UserWarning:\n",
      "\n",
      "Gene association for reaction R_FE3DHBZStonex is not DNF\n",
      "\n",
      "/home/dm/anaconda3/envs/bs/lib/python3.7/site-packages/reframed/io/sbml.py:510: UserWarning:\n",
      "\n",
      "Gene association for reaction R_FEOXAMtonex is not DNF\n",
      "\n",
      "/home/dm/anaconda3/envs/bs/lib/python3.7/site-packages/reframed/io/sbml.py:510: UserWarning:\n",
      "\n",
      "Gene association for reaction R_OBTFL is not DNF\n",
      "\n",
      "/home/dm/anaconda3/envs/bs/lib/python3.7/site-packages/reframed/io/sbml.py:510: UserWarning:\n",
      "\n",
      "Gene association for reaction R_CHTBSptspp is not DNF\n",
      "\n",
      "/home/dm/anaconda3/envs/bs/lib/python3.7/site-packages/reframed/io/sbml.py:510: UserWarning:\n",
      "\n",
      "Gene association for reaction R_CBL1tonex is not DNF\n",
      "\n",
      "/home/dm/anaconda3/envs/bs/lib/python3.7/site-packages/reframed/io/sbml.py:510: UserWarning:\n",
      "\n",
      "Gene association for reaction R_CBItonex is not DNF\n",
      "\n",
      "/home/dm/anaconda3/envs/bs/lib/python3.7/site-packages/reframed/io/sbml.py:510: UserWarning:\n",
      "\n",
      "Gene association for reaction R_ADOCBLtonex is not DNF\n",
      "\n"
     ]
    }
   ],
   "source": [
    "from reframed.io.sbml import load_cbmodel\n",
    "reframed_model = load_cbmodel('../models/iML1515.xml')\n",
    "\n",
    "from mewpy.simulation import get_simulator\n",
    "simul = get_simulator(reframed_model)\n",
    "\n",
    "envcond = {'R_EX_glc__D_e': (-15, 1000), 'R_EX_o2_e': (0, 1000)}\n",
    "\n",
    "simul = get_simulator(reframed_model, envcond=envcond)\n",
    "print(simul)\n",
    "result = simul.simulate(method='FBA')\n",
    "print(result)\n",
    "\n",
    "dt = result.fluxes\n",
    "\n",
    "production = 0\n",
    "for i in dt:\n",
    "    if i == 'R_EX_lac__L_e' or i == 'R_EX_lac__D_e':\n",
    "        production += dt[i]\n",
    "\n",
    "print(\"A produção de lactato para as condições ambientais de Oxigénio = 0 mmol/gDW/h e Glicose = 15 mmol/gDW/h é: {0} mmol/gDW/h.\".format(production))"
   ]
  },
  {
   "cell_type": "markdown",
   "metadata": {
    "pycharm": {
     "name": "#%% md\n"
    }
   },
   "source": [
    "## 2. What are the maximum compoundproduction capabilities?"
   ]
  },
  {
   "cell_type": "code",
   "execution_count": 2,
   "outputs": [
    {
     "name": "stdout",
     "output_type": "stream",
     "text": [
      "Metabolites:\n",
      "c 1071\n",
      "e 341\n",
      "p 465\n",
      "\n",
      "Reactions:\n",
      "enzymatic 1476\n",
      "transport 833\n",
      "exchange 337\n",
      "sink 0\n",
      "other 66\n"
     ]
    },
    {
     "data": {
      "text/plain": "{'R_EX_lac__L_e': [0.0, 1.1141818181817698],\n 'R_EX_lac__D_e': [0.0, 12.255999999998616]}"
     },
     "execution_count": 2,
     "metadata": {},
     "output_type": "execute_result"
    }
   ],
   "source": [
    "# identificar os metabolitos externos\n",
    "reframed_model.summary()\n",
    "\n",
    "\n",
    "# identificar as reações do metabolito pretendido (lactato)\n",
    "reframed_model.metabolites[\"M_lac__L_e\"]\n",
    "reframed_model.metabolites[\"M_lac__D_e\"]\n",
    "\n",
    "# pode calcular-se a produção máxima em wildtype mantendo a função objectivo de maximização do crescimento, usando FVA\n",
    "simul.FVA(reactions=['R_EX_lac__L_e', 'R_EX_lac__D_e'])\n",
    "#OU\n",
    "\n",
    "# podemos alterar a função objectivo para maximização da produção de lactato e depois analisar o fluxo minimo e maximo usando FVA\n",
    "# não está completo, são duas reações objectivo\n",
    "simul.objective = {'R_EX_lac__L_e': -1, 'R_EX_lac__D_e': -1}\n",
    "simul.objective\n",
    "simul.FVA(reactions=['R_EX_lac__L_e', 'R_EX_lac__D_e'])"
   ],
   "metadata": {
    "collapsed": false,
    "pycharm": {
     "name": "#%%\n"
    }
   }
  },
  {
   "cell_type": "markdown",
   "source": [
    "## 3. Use different optimization objective functionsto improve the production of  the compound, considering  that  cells  have  evolved  for  maximum growth."
   ],
   "metadata": {
    "collapsed": false,
    "pycharm": {
     "name": "#%% md\n"
    }
   }
  },
  {
   "cell_type": "code",
   "execution_count": 3,
   "outputs": [
    {
     "ename": "OSError",
     "evalue": "[Errno The file with 'filename' does not exist, or is not an SBML string. Provide the path to an existing SBML file or a valid SBML string representation: \n%s] iML1515.xml",
     "output_type": "error",
     "traceback": [
      "\u001B[0;31m---------------------------------------------------------------------------\u001B[0m",
      "\u001B[0;31mOSError\u001B[0m                                   Traceback (most recent call last)",
      "\u001B[0;32m<ipython-input-3-e212d49f951f>\u001B[0m in \u001B[0;36m<module>\u001B[0;34m\u001B[0m\n\u001B[1;32m      7\u001B[0m \u001B[0;34m\u001B[0m\u001B[0m\n\u001B[1;32m      8\u001B[0m \u001B[0mmodel_path\u001B[0m \u001B[0;34m=\u001B[0m \u001B[0;34m\"iML1515.xml\"\u001B[0m\u001B[0;34m\u001B[0m\u001B[0;34m\u001B[0m\u001B[0m\n\u001B[0;32m----> 9\u001B[0;31m \u001B[0mmodel\u001B[0m \u001B[0;34m=\u001B[0m \u001B[0mcobra\u001B[0m\u001B[0;34m.\u001B[0m\u001B[0mio\u001B[0m\u001B[0;34m.\u001B[0m\u001B[0mread_sbml_model\u001B[0m\u001B[0;34m(\u001B[0m\u001B[0mmodel_path\u001B[0m\u001B[0;34m)\u001B[0m\u001B[0;34m\u001B[0m\u001B[0;34m\u001B[0m\u001B[0m\n\u001B[0m\u001B[1;32m     10\u001B[0m \u001B[0mprint\u001B[0m\u001B[0;34m(\u001B[0m\u001B[0mmodel\u001B[0m\u001B[0;34m.\u001B[0m\u001B[0msummary\u001B[0m\u001B[0;34m(\u001B[0m\u001B[0;34m)\u001B[0m\u001B[0;34m)\u001B[0m\u001B[0;34m\u001B[0m\u001B[0;34m\u001B[0m\u001B[0m\n\u001B[1;32m     11\u001B[0m \u001B[0;34m\u001B[0m\u001B[0m\n",
      "\u001B[0;32m~/anaconda3/envs/bs/lib/python3.7/site-packages/cobra/io/sbml.py\u001B[0m in \u001B[0;36mread_sbml_model\u001B[0;34m(filename, number, f_replace, **kwargs)\u001B[0m\n\u001B[1;32m    251\u001B[0m         \u001B[0;32mreturn\u001B[0m \u001B[0m_sbml_to_model\u001B[0m\u001B[0;34m(\u001B[0m\u001B[0mdoc\u001B[0m\u001B[0;34m,\u001B[0m \u001B[0mnumber\u001B[0m\u001B[0;34m=\u001B[0m\u001B[0mnumber\u001B[0m\u001B[0;34m,\u001B[0m \u001B[0mf_replace\u001B[0m\u001B[0;34m=\u001B[0m\u001B[0mf_replace\u001B[0m\u001B[0;34m,\u001B[0m \u001B[0;34m**\u001B[0m\u001B[0mkwargs\u001B[0m\u001B[0;34m)\u001B[0m\u001B[0;34m\u001B[0m\u001B[0;34m\u001B[0m\u001B[0m\n\u001B[1;32m    252\u001B[0m     \u001B[0;32mexcept\u001B[0m \u001B[0mIOError\u001B[0m \u001B[0;32mas\u001B[0m \u001B[0me\u001B[0m\u001B[0;34m:\u001B[0m\u001B[0;34m\u001B[0m\u001B[0;34m\u001B[0m\u001B[0m\n\u001B[0;32m--> 253\u001B[0;31m         \u001B[0;32mraise\u001B[0m \u001B[0me\u001B[0m\u001B[0;34m\u001B[0m\u001B[0;34m\u001B[0m\u001B[0m\n\u001B[0m\u001B[1;32m    254\u001B[0m \u001B[0;34m\u001B[0m\u001B[0m\n\u001B[1;32m    255\u001B[0m     \u001B[0;32mexcept\u001B[0m \u001B[0mException\u001B[0m \u001B[0;32mas\u001B[0m \u001B[0moriginal_error\u001B[0m\u001B[0;34m:\u001B[0m\u001B[0;34m\u001B[0m\u001B[0;34m\u001B[0m\u001B[0m\n",
      "\u001B[0;32m~/anaconda3/envs/bs/lib/python3.7/site-packages/cobra/io/sbml.py\u001B[0m in \u001B[0;36mread_sbml_model\u001B[0;34m(filename, number, f_replace, **kwargs)\u001B[0m\n\u001B[1;32m    248\u001B[0m     \"\"\"\n\u001B[1;32m    249\u001B[0m     \u001B[0;32mtry\u001B[0m\u001B[0;34m:\u001B[0m\u001B[0;34m\u001B[0m\u001B[0;34m\u001B[0m\u001B[0m\n\u001B[0;32m--> 250\u001B[0;31m         \u001B[0mdoc\u001B[0m \u001B[0;34m=\u001B[0m \u001B[0m_get_doc_from_filename\u001B[0m\u001B[0;34m(\u001B[0m\u001B[0mfilename\u001B[0m\u001B[0;34m)\u001B[0m\u001B[0;34m\u001B[0m\u001B[0;34m\u001B[0m\u001B[0m\n\u001B[0m\u001B[1;32m    251\u001B[0m         \u001B[0;32mreturn\u001B[0m \u001B[0m_sbml_to_model\u001B[0m\u001B[0;34m(\u001B[0m\u001B[0mdoc\u001B[0m\u001B[0;34m,\u001B[0m \u001B[0mnumber\u001B[0m\u001B[0;34m=\u001B[0m\u001B[0mnumber\u001B[0m\u001B[0;34m,\u001B[0m \u001B[0mf_replace\u001B[0m\u001B[0;34m=\u001B[0m\u001B[0mf_replace\u001B[0m\u001B[0;34m,\u001B[0m \u001B[0;34m**\u001B[0m\u001B[0mkwargs\u001B[0m\u001B[0;34m)\u001B[0m\u001B[0;34m\u001B[0m\u001B[0;34m\u001B[0m\u001B[0m\n\u001B[1;32m    252\u001B[0m     \u001B[0;32mexcept\u001B[0m \u001B[0mIOError\u001B[0m \u001B[0;32mas\u001B[0m \u001B[0me\u001B[0m\u001B[0;34m:\u001B[0m\u001B[0;34m\u001B[0m\u001B[0;34m\u001B[0m\u001B[0m\n",
      "\u001B[0;32m~/anaconda3/envs/bs/lib/python3.7/site-packages/cobra/io/sbml.py\u001B[0m in \u001B[0;36m_get_doc_from_filename\u001B[0;34m(filename)\u001B[0m\n\u001B[1;32m    296\u001B[0m                     \u001B[0;34m\"an existing SBML file or a valid SBML string \"\u001B[0m\u001B[0;34m\u001B[0m\u001B[0;34m\u001B[0m\u001B[0m\n\u001B[1;32m    297\u001B[0m                     \u001B[0;34m\"representation: \\n%s\"\u001B[0m\u001B[0;34m,\u001B[0m\u001B[0;34m\u001B[0m\u001B[0;34m\u001B[0m\u001B[0m\n\u001B[0;32m--> 298\u001B[0;31m                     \u001B[0mfilename\u001B[0m\u001B[0;34m,\u001B[0m\u001B[0;34m\u001B[0m\u001B[0;34m\u001B[0m\u001B[0m\n\u001B[0m\u001B[1;32m    299\u001B[0m                 )\n\u001B[1;32m    300\u001B[0m \u001B[0;34m\u001B[0m\u001B[0m\n",
      "\u001B[0;31mOSError\u001B[0m: [Errno The file with 'filename' does not exist, or is not an SBML string. Provide the path to an existing SBML file or a valid SBML string representation: \n%s] iML1515.xml"
     ]
    }
   ],
   "source": [
    "from mewpy.simulation import get_simulator\n",
    "import cobra\n",
    "from cobamp.wrappers import KShortestEFMEnumeratorWrapper\n",
    "# import escher\n",
    "\n",
    "# Exercício 1\n",
    "\n",
    "model_path = '../models/iML1515.xml'\n",
    "model = cobra.io.read_sbml_model(model_path)\n",
    "print(model.summary())\n",
    "\n",
    "envcond = {'EX_glc__D_e': (-15.0, 1000), 'EX_o2_e': (0, 1000)}\n",
    "simul = get_simulator(model, envcond=envcond)\n",
    "result = simul.simulate(method='FBA')\n",
    "print(result)\n",
    "\n",
    "model_path1 = '../models/iML1515.xml'\n",
    "model1 = cobra.io.read_sbml_model(model_path1)\n",
    "print(model1.summary())\n",
    "\n",
    "envcond = {'EX_glc__D_e': (-15.0, 1000), 'EX_o2_e': (0, 1000)}\n",
    "simul1 = get_simulator(model1, envcond=envcond)\n",
    "result1 = simul1.simulate(method='FBA')\n",
    "print(result1)\n",
    "\n",
    "\n",
    "# Exercício 3\n",
    "\n",
    "\n",
    "model_path = '../models/iML1515.xml'\n",
    "model = cobra.io.read_sbml_model(model_path)\n",
    "\n",
    "biomass_c = cobra.Metabolite(compartment='c', id='biomass_c', name='Biomass')\n",
    "biomass_production = cobra.Reaction(id='EX_biomass_e', name='Biomass production', lower_bound=0, upper_bound=1000)\n",
    "\n",
    "model_biomass = model.copy()\n",
    "model_biomass.add_metabolites([biomass_c])\n",
    "\n",
    "model_biomass.reactions.BIOMASS_Ec_iML1515_core_75p37M.add_metabolites({biomass_c: 1})\n",
    "biomass_production.add_metabolites({biomass_c: -1})\n",
    "\n",
    "ksefm = KShortestEFMEnumeratorWrapper(\n",
    "    model=model_biomass,\n",
    "    non_consumed=['o2_e'],\n",
    "    consumed=['glc__D_e'],\n",
    "    produced=['biomass_c', 'lac__D_e', 'lac__L_e'],\n",
    "    non_produced=[],\n",
    "    algorithm_type=KShortestEFMEnumeratorWrapper.ALGORITHM_TYPE_POPULATE,\n",
    "    stop_criteria=100,\n",
    "    solver='CPLEX'\n",
    ")\n",
    "\n",
    "enumerator = ksefm.get_enumerator()\n",
    "\n",
    "efm_list = []\n",
    "\n",
    "while len(efm_list) == 0:\n",
    "    efm_list += next(enumerator)\n",
    "\n",
    "print(len(efm_list))\n",
    "print(*efm_list)\n",
    "\n",
    "# escher_builder = escher.Builder(\n",
    "#    map_name='e_coli_core.Core metabolism',\n",
    "#    hide_secondary_metabolites=True,\n",
    "#    reaction_data=efm_list[0]\n",
    "# )\n",
    "# escher_builder.display_in_notebook(js_source='local')\n"
   ],
   "metadata": {
    "collapsed": false,
    "pycharm": {
     "name": "#%%\n"
    }
   }
  },
  {
   "cell_type": "markdown",
   "source": [
    "### 3.a)"
   ],
   "metadata": {
    "collapsed": false
   }
  },
  {
   "cell_type": "code",
   "execution_count": 5,
   "outputs": [
    {
     "name": "stdout",
     "output_type": "stream",
     "text": [
      "FBA atraves do cobra: <Solution 0.000 at 0x7f310a27c4d0>\n",
      "taxa de crescimento antes da maximização da produção do composto: 0.0\n",
      "fluxo da reação da biomassa: 0.0\n",
      "FBA atraves do cobra: <Solution 0.000 at 0x7f310a5b8950>\n",
      "taxa de crescimento depois da maximização da produção do composto: 0.0\n",
      "fluxo da reação da biomassa: 0.0\n"
     ]
    }
   ],
   "source": [
    "\n",
    "import cobra\n",
    "\n",
    "import pandas\n",
    "from time import time\n",
    "\n",
    "from cobra.util.solver import linear_reaction_coefficients\n",
    "\n",
    "import cobra.test\n",
    "from cobra.flux_analysis import (single_gene_deletion, single_reaction_deletion, double_gene_deletion, double_reaction_deletion)\n",
    "\n",
    "cobramo = cobra.io.read_sbml_model('../models/iML1515.xml')\n",
    "\n",
    "cobramo.objective = {cobramo.reactions.BIOMASS_Ec_iML1515_core_75p37M: -1.0}\n",
    "cobramo.objective\n",
    "\n",
    "cobramo.reactions.get_by_id(\"EX_o2_e\").upper_bound = 1000\n",
    "cobramo.reactions.get_by_id(\"EX_o2_e\").lower_bound = 0\n",
    "cobramo.reactions.get_by_id(\"EX_glc__D_e\").upper_bound = 1000\n",
    "cobramo.reactions.get_by_id(\"EX_glc__D_e\").lower_bound = -15\n",
    "\n",
    "solution = cobramo.optimize()\n",
    "print('FBA atraves do cobra:', solution)\n",
    "print('taxa de crescimento antes da maximização da produção do composto:', solution.objective_value)\n",
    "print('fluxo da reação da biomassa:', solution.fluxes['BIOMASS_Ec_iML1515_core_75p37M'])\n",
    "\n",
    "cobramo.objective = {cobramo.reactions.EX_lac__L_e: -1.0, cobramo.reactions.EX_lac__D_e: -1.0}\n",
    "cobramo.objective\n",
    "\n",
    "solutionopt = cobramo.optimize()\n",
    "print('FBA atraves do cobra:', solutionopt)\n",
    "print('taxa de crescimento depois da maximização da produção do composto:', solutionopt.objective_value)\n",
    "print('fluxo da reação da biomassa:', solutionopt.fluxes['BIOMASS_Ec_iML1515_core_75p37M'])"
   ],
   "metadata": {
    "collapsed": false,
    "pycharm": {
     "name": "#%%\n"
    }
   }
  },
  {
   "cell_type": "code",
   "execution_count": 11,
   "outputs": [
    {
     "name": "stdout",
     "output_type": "stream",
     "text": [
      "4\n",
      "3\n",
      "2\n",
      "1\n",
      "Running NSGAII\n",
      "Gen    Eval|     Worst      Best    Median   Average   Std Dev|     Worst      Best    Median   Average   Std Dev|\n",
      "   0    100|  0.000000  0.000000  0.000000  0.000000  0.000000|  0.000000  0.000000  0.000000  0.000000  0.000000|\n",
      "   1    200|  0.000000  0.000000  0.000000  0.000000  0.000000|  0.000000  0.000000  0.000000  0.000000  0.000000|\n",
      "   2    300|  0.000000  0.000000  0.000000  0.000000  0.000000|  0.000000  0.000000  0.000000  0.000000  0.000000|\n",
      "   3    400|  0.000000  0.000000  0.000000  0.000000  0.000000|  0.000000  0.000000  0.000000  0.000000  0.000000|\n",
      "   4    500|  0.000000  0.000000  0.000000  0.000000  0.000000|  0.000000  0.000000  0.000000  0.000000  0.000000|\n",
      "   5    600|  0.000000  0.000000  0.000000  0.000000  0.000000|  0.000000  0.000000  0.000000  0.000000  0.000000|\n",
      "   6    700|  0.000000  0.000000  0.000000  0.000000  0.000000|  0.000000  0.000000  0.000000  0.000000  0.000000|\n",
      "   7    800|  0.000000  0.000000  0.000000  0.000000  0.000000|  0.000000  0.000000  0.000000  0.000000  0.000000|\n",
      "   8    900|  0.000000  0.000000  0.000000  0.000000  0.000000|  0.000000  0.000000  0.000000  0.000000  0.000000|\n",
      "   9   1000|  0.000000  0.000000  0.000000  0.000000  0.000000|  0.000000  0.000000  0.000000  0.000000  0.000000|\n",
      "  10   1100|  0.000000  0.000000  0.000000  0.000000  0.000000|  0.000000  0.000000  0.000000  0.000000  0.000000|\n",
      "[[0.0, 0.0];{'G_b3359': 0}, [0.0, 0.0];{'G_b3248': 0}, [0.0, 0.0];{'G_b1539': 0}, [0.0, 0.0];{'G_b2169': 0}, [0.0, 0.0];{'G_b3624': 0}, [0.0, 0.0];{'G_b2994': 0}, [0.0, 0.0];{'G_b3691': 0}, [0.0, 0.0];{'G_b2722': 0}, [0.0, 0.0];{'G_b2097': 0}, [0.0, 0.0];{'G_b0008': 0}, [0.0, 0.0];{'G_b0894': 0}, [0.0, 0.0];{'G_b4138': 0}, [0.0, 0.0];{'G_b4384': 0}, [0.0, 0.0];{'G_b3909': 0}, [0.0, 0.0];{'G_b1377': 0}, [0.0, 0.0];{'G_b3727': 0}, [0.0, 0.0];{'G_b3679': 0}, [0.0, 0.0];{'G_b1232': 0}, [0.0, 0.0];{'G_b0207': 0}, [0.0, 0.0];{'G_b0662': 0}, [0.0, 0.0];{'G_b4036': 0}, [0.0, 0.0];{'G_b0654': 0}, [0.0, 0.0];{'G_b3061': 0}, [0.0, 0.0];{'G_b1677': 0}, [0.0, 0.0];{'G_b0151': 0}, [0.0, 0.0];{'G_b0856': 0}, [0.0, 0.0];{'G_b0630': 0}, [0.0, 0.0];{'G_b3577': 0}, [0.0, 0.0];{'G_b1524': 0}, [0.0, 0.0];{'G_b3457': 0}, [0.0, 0.0];{'G_b3878': 0}, [0.0, 0.0];{'G_b2306': 0}, [0.0, 0.0];{'G_b3924': 0}, [0.0, 0.0];{'G_b3496': 0}, [0.0, 0.0];{'G_b2721': 0}, [0.0, 0.0];{'G_b0857': 0}, [0.0, 0.0];{'G_b2867': 0}, [0.0, 0.0];{'G_b3371': 0}, [0.0, 0.0];{'G_b3519': 0}, [0.0, 0.0];{'G_b4322': 0}, [0.0, 0.0];{'G_b0070': 0}, [0.0, 0.0];{'G_b3880': 0}, [0.0, 0.0];{'G_b3966': 0}, [0.0, 0.0];{'G_b3945': 0}, [0.0, 0.0];{'G_b0968': 0}, [0.0, 0.0];{'G_b0805': 0}, [0.0, 0.0];{'G_b2539': 0}, [0.0, 0.0];{'G_b3845': 0}, [0.0, 0.0];{'G_b0200': 0}, [0.0, 0.0];{'G_b3656': 0}, [0.0, 0.0];{'G_b0063': 0}, [0.0, 0.0];{'G_b2240': 0}, [0.0, 0.0];{'G_b4073': 0}, [0.0, 0.0];{'G_b3437': 0}, [0.0, 0.0];{'G_b0905': 0}, [0.0, 0.0];{'G_b0887': 0}, [0.0, 0.0];{'G_b1096': 0}, [0.0, 0.0];{'G_b2919': 0}, [0.0, 0.0];{'G_b3623': 0}, [0.0, 0.0];{'G_b3786': 0}, [0.0, 0.0];{'G_b2422': 0}, [0.0, 0.0];{'G_b0679': 0}, [0.0, 0.0];{'G_b0888': 0}, [0.0, 0.0];{'G_b2206': 0}, [0.0, 0.0];{'G_b0521': 0}, [0.0, 0.0];{'G_b3738': 0}, [0.0, 0.0];{'G_b4230': 0}, [0.0, 0.0];{'G_b2407': 0}, [0.0, 0.0];{'G_b3291': 0}, [0.0, 0.0];{'G_b1655': 0}, [0.0, 0.0];{'G_b2917': 0}, [0.0, 0.0];{'G_b4119': 0}, [0.0, 0.0];{'G_b2727': 0}, [0.0, 0.0];{'G_b2035': 0}, [0.0, 0.0];{'G_b3225': 0}, [0.0, 0.0];{'G_b1771': 0}, [0.0, 0.0];{'G_b0509': 0}, [0.0, 0.0];{'G_b1285': 0}, [0.0, 0.0];{'G_b0577': 0}, [0.0, 0.0];{'G_b1014': 0}, [0.0, 0.0];{'G_b1621': 0}, [0.0, 0.0];{'G_b2129': 0}, [0.0, 0.0];{'G_b2198': 0}, [0.0, 0.0];{'G_b3943': 0}, [0.0, 0.0];{'G_b2918': 0}, [0.0, 0.0];{'G_b4136': 0}, [0.0, 0.0];{'G_b2168': 0}, [0.0, 0.0];{'G_b1900': 0}, [0.0, 0.0];{'G_b3908': 0}, [0.0, 0.0];{'G_b2905': 0}, [0.0, 0.0];{'G_b3126': 0}, [0.0, 0.0];{'G_b2975': 0}, [0.0, 0.0];{'G_b1612': 0}, [0.0, 0.0];{'G_b2029': 0}, [0.0, 0.0];{'G_b3916': 0}, [0.0, 0.0];{'G_b3063': 0}, [0.0, 0.0];{'G_b1711': 0}, [0.0, 0.0];{'G_b3942': 0}, [0.0, 0.0];{'G_b3882': 0}, [0.0, 0.0];{'G_b2150': 0}]\n"
     ]
    },
    {
     "data": {
      "text/plain": "<Figure size 432x288 with 1 Axes>",
      "image/png": "[encoded data removed]"
     },
     "metadata": {
      "needs_background": "light"
     },
     "output_type": "display_data"
    },
    {
     "name": "stderr",
     "output_type": "stream",
     "text": [
      "Process ForkPoolWorker-29:\n"
     ]
    }
   ],
   "source": [
    "import cobra\n",
    "\n",
    "import pandas\n",
    "from time import time\n",
    "\n",
    "from cobra.util.solver import linear_reaction_coefficients\n",
    "\n",
    "import cobra.test\n",
    "\n",
    "model = cobra.io.read_sbml_model('../models/iML1515.xml')\n",
    "\n",
    "from mewpy.optimization.evaluation import BPCY, TargetFlux, WYIELD, BPCY_FVA\n",
    "from mewpy.problems import GKOProblem\n",
    "from mewpy.optimization import EA\n",
    "\n",
    "print(\"4\")\n",
    "PRODUCT_ID = 'R_EX_lac__D_e'\n",
    "BIOMASS_ID = 'R_Biomass_Ec_iML1515_core_75p37M'\n",
    "\n",
    "envcond = {'R_EX_o2_e'  : (0, 100000.0), 'R_EX_glc__D_e' : (-15, 100000.0)}\n",
    "print(\"3\")\n",
    "evaluator_1 = WYIELD(BIOMASS_ID, PRODUCT_ID, alpha=1)\n",
    "evaluator_2 = WYIELD(BIOMASS_ID, PRODUCT_ID, alpha=0.3)\n",
    "print(\"2\")\n",
    "problem = GKOProblem(reframed_model, fevaluation=[evaluator_1, evaluator_2], envcond=envcond, candidate_max_size=1)\n",
    "print(\"1\")\n",
    "ea = EA(problem, max_generations= 10, visualizer=True)\n",
    "final_pop = ea.run()\n",
    "print(final_pop)"
   ],
   "metadata": {
    "collapsed": false,
    "pycharm": {
     "name": "#%%\n"
    }
   }
  }
 ],
 "metadata": {
  "kernelspec": {
   "display_name": "Python 3",
   "language": "python",
   "name": "python3"
  },
  "language_info": {
   "codemirror_mode": {
    "name": "ipython",
    "version": 3
   },
   "file_extension": ".py",
   "mimetype": "text/x-python",
   "name": "python",
   "nbconvert_exporter": "python",
   "pygments_lexer": "ipython3",
   "version": "3.7.9"
  }
 },
 "nbformat": 4,
 "nbformat_minor": 1
}