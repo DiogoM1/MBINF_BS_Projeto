{
 "cells": [
  {
   "cell_type": "markdown",
   "metadata": {
    "collapsed": true,
    "pycharm": {
     "name": "#%% md\n"
    }
   },
   "source": [
    "# Parte 1 - Implementação de problema de FBA\n",
    "## 1. Qual é a produção de lactato da estirpe selvagem?\n",
    "\n",
    "Para avaliar a produção de lactato foi primeiro necessário definir as condições ambientes e obter a função objetivo.\n",
    "As condições ambientais foram definidas como o consumo de oxigénio de 0 mmol/gDW/h e cosumo de glicose de 15 mmol/gDW/h.\n",
    "Foi depois obtida a função objetivo (declaração matemática do que deve ser realizado), neste caso para a produção ótima do composto desejado.\n",
    "Verificou-se que nas condições especificados não existe produção de lactato, ou seja, são produzidos 0 mm/gDW/h de lactato.."
   ]
  },
  {
   "cell_type": "code",
   "execution_count": 2,
   "metadata": {
    "scrolled": true
   },
   "outputs": [
    {
     "name": "stdout",
     "output_type": "stream",
     "text": [
      "<mewpy.simulation.reframed.Simulation object at 0x7f5a3045d7d0>\n",
      "objective: 0.26609812519117976\n",
      "Status: OPTIMAL\n",
      "A produção de lactato para as condições ambientais de Oxigénio = 0 mmol/gDW/h e Glicose = 15 mmol/gDW/h é: 0.0 mmol/gDW/h.\n"
     ]
    },
    {
     "name": "stderr",
     "output_type": "stream",
     "text": [
      "/home/dm/anaconda3/envs/bs/lib/python3.7/site-packages/reframed/io/sbml.py:510: UserWarning: Gene association for reaction R_PFL is not DNF\n",
      "  warn(f\"Gene association for reaction {reaction_id} is not DNF\")\n",
      "/home/dm/anaconda3/envs/bs/lib/python3.7/site-packages/reframed/io/sbml.py:510: UserWarning: Gene association for reaction R_RNDR1 is not DNF\n",
      "  warn(f\"Gene association for reaction {reaction_id} is not DNF\")\n",
      "/home/dm/anaconda3/envs/bs/lib/python3.7/site-packages/reframed/io/sbml.py:510: UserWarning: Gene association for reaction R_RNDR3 is not DNF\n",
      "  warn(f\"Gene association for reaction {reaction_id} is not DNF\")\n",
      "/home/dm/anaconda3/envs/bs/lib/python3.7/site-packages/reframed/io/sbml.py:510: UserWarning: Gene association for reaction R_RNDR4 is not DNF\n",
      "  warn(f\"Gene association for reaction {reaction_id} is not DNF\")\n",
      "/home/dm/anaconda3/envs/bs/lib/python3.7/site-packages/reframed/io/sbml.py:510: UserWarning: Gene association for reaction R_CITL is not DNF\n",
      "  warn(f\"Gene association for reaction {reaction_id} is not DNF\")\n",
      "/home/dm/anaconda3/envs/bs/lib/python3.7/site-packages/reframed/io/sbml.py:510: UserWarning: Gene association for reaction R_NO3R1bpp is not DNF\n",
      "  warn(f\"Gene association for reaction {reaction_id} is not DNF\")\n",
      "/home/dm/anaconda3/envs/bs/lib/python3.7/site-packages/reframed/io/sbml.py:510: UserWarning: Gene association for reaction R_NO3R2bpp is not DNF\n",
      "  warn(f\"Gene association for reaction {reaction_id} is not DNF\")\n",
      "/home/dm/anaconda3/envs/bs/lib/python3.7/site-packages/reframed/io/sbml.py:510: UserWarning: Gene association for reaction R_ATPS4rpp is not DNF\n",
      "  warn(f\"Gene association for reaction {reaction_id} is not DNF\")\n",
      "/home/dm/anaconda3/envs/bs/lib/python3.7/site-packages/reframed/io/sbml.py:510: UserWarning: Gene association for reaction R_CPGNtonex is not DNF\n",
      "  warn(f\"Gene association for reaction {reaction_id} is not DNF\")\n",
      "/home/dm/anaconda3/envs/bs/lib/python3.7/site-packages/reframed/io/sbml.py:510: UserWarning: Gene association for reaction R_FE3DCITtonex is not DNF\n",
      "  warn(f\"Gene association for reaction {reaction_id} is not DNF\")\n",
      "/home/dm/anaconda3/envs/bs/lib/python3.7/site-packages/reframed/io/sbml.py:510: UserWarning: Gene association for reaction R_FEENTERtonex is not DNF\n",
      "  warn(f\"Gene association for reaction {reaction_id} is not DNF\")\n",
      "/home/dm/anaconda3/envs/bs/lib/python3.7/site-packages/reframed/io/sbml.py:510: UserWarning: Gene association for reaction R_RNDR3b is not DNF\n",
      "  warn(f\"Gene association for reaction {reaction_id} is not DNF\")\n",
      "/home/dm/anaconda3/envs/bs/lib/python3.7/site-packages/reframed/io/sbml.py:510: UserWarning: Gene association for reaction R_RNDR4b is not DNF\n",
      "  warn(f\"Gene association for reaction {reaction_id} is not DNF\")\n",
      "/home/dm/anaconda3/envs/bs/lib/python3.7/site-packages/reframed/io/sbml.py:510: UserWarning: Gene association for reaction R_RNDR1b is not DNF\n",
      "  warn(f\"Gene association for reaction {reaction_id} is not DNF\")\n",
      "/home/dm/anaconda3/envs/bs/lib/python3.7/site-packages/reframed/io/sbml.py:510: UserWarning: Gene association for reaction R_RNDR2b is not DNF\n",
      "  warn(f\"Gene association for reaction {reaction_id} is not DNF\")\n",
      "/home/dm/anaconda3/envs/bs/lib/python3.7/site-packages/reframed/io/sbml.py:510: UserWarning: Gene association for reaction R_INDOLEt2pp is not DNF\n",
      "  warn(f\"Gene association for reaction {reaction_id} is not DNF\")\n",
      "/home/dm/anaconda3/envs/bs/lib/python3.7/site-packages/reframed/io/sbml.py:510: UserWarning: Gene association for reaction R_FECRMtonex is not DNF\n",
      "  warn(f\"Gene association for reaction {reaction_id} is not DNF\")\n",
      "/home/dm/anaconda3/envs/bs/lib/python3.7/site-packages/reframed/io/sbml.py:510: UserWarning: Gene association for reaction R_FE3HOXtonex is not DNF\n",
      "  warn(f\"Gene association for reaction {reaction_id} is not DNF\")\n",
      "/home/dm/anaconda3/envs/bs/lib/python3.7/site-packages/reframed/io/sbml.py:510: UserWarning: Gene association for reaction R_FHL is not DNF\n",
      "  warn(f\"Gene association for reaction {reaction_id} is not DNF\")\n",
      "/home/dm/anaconda3/envs/bs/lib/python3.7/site-packages/reframed/io/sbml.py:510: UserWarning: Gene association for reaction R_RNDR2 is not DNF\n",
      "  warn(f\"Gene association for reaction {reaction_id} is not DNF\")\n",
      "/home/dm/anaconda3/envs/bs/lib/python3.7/site-packages/reframed/io/sbml.py:510: UserWarning: Gene association for reaction R_CELBpts is not DNF\n",
      "  warn(f\"Gene association for reaction {reaction_id} is not DNF\")\n",
      "/home/dm/anaconda3/envs/bs/lib/python3.7/site-packages/reframed/io/sbml.py:510: UserWarning: Gene association for reaction R_FE3DHBZStonex is not DNF\n",
      "  warn(f\"Gene association for reaction {reaction_id} is not DNF\")\n",
      "/home/dm/anaconda3/envs/bs/lib/python3.7/site-packages/reframed/io/sbml.py:510: UserWarning: Gene association for reaction R_FEOXAMtonex is not DNF\n",
      "  warn(f\"Gene association for reaction {reaction_id} is not DNF\")\n",
      "/home/dm/anaconda3/envs/bs/lib/python3.7/site-packages/reframed/io/sbml.py:510: UserWarning: Gene association for reaction R_OBTFL is not DNF\n",
      "  warn(f\"Gene association for reaction {reaction_id} is not DNF\")\n",
      "/home/dm/anaconda3/envs/bs/lib/python3.7/site-packages/reframed/io/sbml.py:510: UserWarning: Gene association for reaction R_CHTBSptspp is not DNF\n",
      "  warn(f\"Gene association for reaction {reaction_id} is not DNF\")\n",
      "/home/dm/anaconda3/envs/bs/lib/python3.7/site-packages/reframed/io/sbml.py:510: UserWarning: Gene association for reaction R_CBL1tonex is not DNF\n",
      "  warn(f\"Gene association for reaction {reaction_id} is not DNF\")\n",
      "/home/dm/anaconda3/envs/bs/lib/python3.7/site-packages/reframed/io/sbml.py:510: UserWarning: Gene association for reaction R_CBItonex is not DNF\n",
      "  warn(f\"Gene association for reaction {reaction_id} is not DNF\")\n",
      "/home/dm/anaconda3/envs/bs/lib/python3.7/site-packages/reframed/io/sbml.py:510: UserWarning: Gene association for reaction R_ADOCBLtonex is not DNF\n",
      "  warn(f\"Gene association for reaction {reaction_id} is not DNF\")\n"
     ]
    }
   ],
   "source": [
    "from reframed.io.sbml import load_cbmodel\n",
    "model = load_cbmodel('../models/iML1515.xml')\n",
    "\n",
    "from mewpy.simulation import get_simulator\n",
    "simul = get_simulator(model)\n",
    "\n",
    "envcond = {'R_EX_glc__D_e': (-15, 1000), 'R_EX_o2_e': (0, 1000)}\n",
    "\n",
    "simul = get_simulator(model, envcond=envcond)\n",
    "print(simul)\n",
    "result = simul.simulate(method='FBA')\n",
    "print(result)\n",
    "\n",
    "dt = result.fluxes\n",
    "\n",
    "production = 0\n",
    "for i in dt:\n",
    "    if i == 'R_EX_lac__L_e' or i == 'R_EX_lac__D_e':\n",
    "        production += dt[i]\n",
    "\n",
    "print(\"A produção de lactato para as condições ambientais de Oxigénio = 0 mmol/gDW/h e Glicose = 15 mmol/gDW/h é: {0} mmol/gDW/h.\".format(production))"
   ]
  },
  {
   "cell_type": "markdown",
   "metadata": {
    "pycharm": {
     "name": "#%% md\n"
    }
   },
   "source": [
    "\n",
    "\n"
   ]
  }
 ],
 "metadata": {
  "kernelspec": {
   "display_name": "Python 3",
   "language": "python",
   "name": "python3"
  },
  "language_info": {
   "codemirror_mode": {
    "name": "ipython",
    "version": 3
   },
   "file_extension": ".py",
   "mimetype": "text/x-python",
   "name": "python",
   "nbconvert_exporter": "python",
   "pygments_lexer": "ipython3",
   "version": "3.7.9"
  }
 },
 "nbformat": 4,
 "nbformat_minor": 1
}